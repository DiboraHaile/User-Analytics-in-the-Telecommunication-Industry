{
 "metadata": {
  "language_info": {
   "codemirror_mode": {
    "name": "ipython",
    "version": 3
   },
   "file_extension": ".py",
   "mimetype": "text/x-python",
   "name": "python",
   "nbconvert_exporter": "python",
   "pygments_lexer": "ipython3",
   "version": "3.7.10"
  },
  "orig_nbformat": 4,
  "kernelspec": {
   "name": "python3",
   "display_name": "Python 3.7.10 64-bit ('venv_usr_analytics': venv)"
  },
  "interpreter": {
   "hash": "413b71dc28aac45813ed35103051e8c8dd959175d6292f489eb12ffa988302e4"
  }
 },
 "nbformat": 4,
 "nbformat_minor": 2,
 "cells": [
  {
   "source": [
    "Loading data"
   ],
   "cell_type": "markdown",
   "metadata": {}
  },
  {
   "cell_type": "code",
   "execution_count": 11,
   "metadata": {},
   "outputs": [],
   "source": [
    "import pandas as pd\n",
    "import sys  \n",
    "sys.path.insert(0, '/home/dibora/User-Analytics-in-the-Telecommunication-Industry/scripts')\n",
    "import clean_data\n",
    "import utilities\n",
    "import norm_scaling"
   ]
  },
  {
   "cell_type": "code",
   "execution_count": 3,
   "metadata": {},
   "outputs": [],
   "source": [
    "#loading file function\n",
    "def load_csv(path):\n",
    "    df = pd.read_csv(path,engine='python',error_bad_lines=False, na_values=['?', None,'-','--','undefined'])\n",
    "    return df"
   ]
  },
  {
   "cell_type": "code",
   "execution_count": 4,
   "metadata": {},
   "outputs": [
    {
     "output_type": "stream",
     "name": "stderr",
     "text": [
      "/home/dibora/User-Analytics-in-the-Telecommunication-Industry/venv_usr_analytics/lib/python3.7/site-packages/ipykernel_launcher.py:2: FutureWarning: The error_bad_lines argument has been deprecated and will be removed in a future version.\n\n\n  \n"
     ]
    }
   ],
   "source": [
    "#loaded file\n",
    "df= load_csv('../data/data.csv')"
   ]
  },
  {
   "cell_type": "code",
   "execution_count": 5,
   "metadata": {},
   "outputs": [
    {
     "output_type": "execute_result",
     "data": {
      "text/plain": [
       "                      Bearer Id            Start  Start ms              End  \\\n",
       "0 13,114,483,460,844,900,352.00   4/4/2019 12:01    770.00  4/25/2019 14:35   \n",
       "1 13,114,483,482,878,900,224.00   4/9/2019 13:04    235.00   4/25/2019 8:15   \n",
       "2 13,114,483,484,080,500,736.00   4/9/2019 17:42      1.00  4/25/2019 11:58   \n",
       "3 13,114,483,485,442,799,616.00   4/10/2019 0:31    486.00   4/25/2019 7:36   \n",
       "4 13,114,483,499,480,700,928.00  4/12/2019 20:10    565.00  4/25/2019 10:40   \n",
       "\n",
       "   End ms    Dur. (ms)                   IMSI     MSISDN/Number  \\\n",
       "0  662.00 1,823,652.00 208,201,448,079,117.00 33,664,962,239.00   \n",
       "1  606.00 1,365,104.00 208,201,909,211,140.00 33,681,854,413.00   \n",
       "2  652.00 1,361,762.00 208,200,314,458,056.00 33,760,627,129.00   \n",
       "3  171.00 1,321,509.00 208,201,402,342,131.00 33,750,343,200.00   \n",
       "4  954.00 1,089,009.00 208,201,401,415,120.00 33,699,795,932.00   \n",
       "\n",
       "                   IMEI     Last Location Name  ...  Youtube DL (Bytes)  \\\n",
       "0 35,521,209,507,511.00  9.16456699548519E+015  ...       15,854,611.00   \n",
       "1 35,794,009,006,359.00                L77566A  ...       20,247,395.00   \n",
       "2 35,281,510,359,387.00                D42335A  ...       19,725,661.00   \n",
       "3 35,356,610,164,913.00                T21824A  ...       21,388,122.00   \n",
       "4 35,407,009,745,539.00                D88865A  ...       15,259,380.00   \n",
       "\n",
       "   Youtube UL (Bytes)  Netflix DL (Bytes)  Netflix UL (Bytes)  \\\n",
       "0        2,501,332.00        8,198,936.00        9,656,251.00   \n",
       "1       19,111,729.00       18,338,413.00       17,227,132.00   \n",
       "2       14,699,576.00       17,587,794.00        6,163,408.00   \n",
       "3       15,146,643.00       13,994,646.00        1,097,942.00   \n",
       "4       18,962,873.00       17,124,581.00          415,218.00   \n",
       "\n",
       "   Gaming DL (Bytes)  Gaming UL (Bytes)  Other DL (Bytes)  Other UL (Bytes)  \\\n",
       "0     278,082,303.00      14,344,150.00    171,744,450.00      8,814,393.00   \n",
       "1     608,750,074.00       1,170,709.00    526,904,238.00     15,055,145.00   \n",
       "2     229,584,621.00         395,630.00    410,692,588.00      4,215,763.00   \n",
       "3     799,538,153.00      10,849,722.00    749,039,933.00     12,797,283.00   \n",
       "4     527,707,248.00       3,529,801.00    550,709,500.00     13,910,322.00   \n",
       "\n",
       "   Total UL (Bytes)  Total DL (Bytes)  \n",
       "0     36,749,741.00    308,879,636.00  \n",
       "1     53,800,391.00    653,384,965.00  \n",
       "2     27,883,638.00    279,807,335.00  \n",
       "3     43,324,218.00    846,028,530.00  \n",
       "4     38,542,814.00    569,138,589.00  \n",
       "\n",
       "[5 rows x 55 columns]"
      ],
      "text/html": "<div>\n<style scoped>\n    .dataframe tbody tr th:only-of-type {\n        vertical-align: middle;\n    }\n\n    .dataframe tbody tr th {\n        vertical-align: top;\n    }\n\n    .dataframe thead th {\n        text-align: right;\n    }\n</style>\n<table border=\"1\" class=\"dataframe\">\n  <thead>\n    <tr style=\"text-align: right;\">\n      <th></th>\n      <th>Bearer Id</th>\n      <th>Start</th>\n      <th>Start ms</th>\n      <th>End</th>\n      <th>End ms</th>\n      <th>Dur. (ms)</th>\n      <th>IMSI</th>\n      <th>MSISDN/Number</th>\n      <th>IMEI</th>\n      <th>Last Location Name</th>\n      <th>...</th>\n      <th>Youtube DL (Bytes)</th>\n      <th>Youtube UL (Bytes)</th>\n      <th>Netflix DL (Bytes)</th>\n      <th>Netflix UL (Bytes)</th>\n      <th>Gaming DL (Bytes)</th>\n      <th>Gaming UL (Bytes)</th>\n      <th>Other DL (Bytes)</th>\n      <th>Other UL (Bytes)</th>\n      <th>Total UL (Bytes)</th>\n      <th>Total DL (Bytes)</th>\n    </tr>\n  </thead>\n  <tbody>\n    <tr>\n      <th>0</th>\n      <td>13,114,483,460,844,900,352.00</td>\n      <td>4/4/2019 12:01</td>\n      <td>770.00</td>\n      <td>4/25/2019 14:35</td>\n      <td>662.00</td>\n      <td>1,823,652.00</td>\n      <td>208,201,448,079,117.00</td>\n      <td>33,664,962,239.00</td>\n      <td>35,521,209,507,511.00</td>\n      <td>9.16456699548519E+015</td>\n      <td>...</td>\n      <td>15,854,611.00</td>\n      <td>2,501,332.00</td>\n      <td>8,198,936.00</td>\n      <td>9,656,251.00</td>\n      <td>278,082,303.00</td>\n      <td>14,344,150.00</td>\n      <td>171,744,450.00</td>\n      <td>8,814,393.00</td>\n      <td>36,749,741.00</td>\n      <td>308,879,636.00</td>\n    </tr>\n    <tr>\n      <th>1</th>\n      <td>13,114,483,482,878,900,224.00</td>\n      <td>4/9/2019 13:04</td>\n      <td>235.00</td>\n      <td>4/25/2019 8:15</td>\n      <td>606.00</td>\n      <td>1,365,104.00</td>\n      <td>208,201,909,211,140.00</td>\n      <td>33,681,854,413.00</td>\n      <td>35,794,009,006,359.00</td>\n      <td>L77566A</td>\n      <td>...</td>\n      <td>20,247,395.00</td>\n      <td>19,111,729.00</td>\n      <td>18,338,413.00</td>\n      <td>17,227,132.00</td>\n      <td>608,750,074.00</td>\n      <td>1,170,709.00</td>\n      <td>526,904,238.00</td>\n      <td>15,055,145.00</td>\n      <td>53,800,391.00</td>\n      <td>653,384,965.00</td>\n    </tr>\n    <tr>\n      <th>2</th>\n      <td>13,114,483,484,080,500,736.00</td>\n      <td>4/9/2019 17:42</td>\n      <td>1.00</td>\n      <td>4/25/2019 11:58</td>\n      <td>652.00</td>\n      <td>1,361,762.00</td>\n      <td>208,200,314,458,056.00</td>\n      <td>33,760,627,129.00</td>\n      <td>35,281,510,359,387.00</td>\n      <td>D42335A</td>\n      <td>...</td>\n      <td>19,725,661.00</td>\n      <td>14,699,576.00</td>\n      <td>17,587,794.00</td>\n      <td>6,163,408.00</td>\n      <td>229,584,621.00</td>\n      <td>395,630.00</td>\n      <td>410,692,588.00</td>\n      <td>4,215,763.00</td>\n      <td>27,883,638.00</td>\n      <td>279,807,335.00</td>\n    </tr>\n    <tr>\n      <th>3</th>\n      <td>13,114,483,485,442,799,616.00</td>\n      <td>4/10/2019 0:31</td>\n      <td>486.00</td>\n      <td>4/25/2019 7:36</td>\n      <td>171.00</td>\n      <td>1,321,509.00</td>\n      <td>208,201,402,342,131.00</td>\n      <td>33,750,343,200.00</td>\n      <td>35,356,610,164,913.00</td>\n      <td>T21824A</td>\n      <td>...</td>\n      <td>21,388,122.00</td>\n      <td>15,146,643.00</td>\n      <td>13,994,646.00</td>\n      <td>1,097,942.00</td>\n      <td>799,538,153.00</td>\n      <td>10,849,722.00</td>\n      <td>749,039,933.00</td>\n      <td>12,797,283.00</td>\n      <td>43,324,218.00</td>\n      <td>846,028,530.00</td>\n    </tr>\n    <tr>\n      <th>4</th>\n      <td>13,114,483,499,480,700,928.00</td>\n      <td>4/12/2019 20:10</td>\n      <td>565.00</td>\n      <td>4/25/2019 10:40</td>\n      <td>954.00</td>\n      <td>1,089,009.00</td>\n      <td>208,201,401,415,120.00</td>\n      <td>33,699,795,932.00</td>\n      <td>35,407,009,745,539.00</td>\n      <td>D88865A</td>\n      <td>...</td>\n      <td>15,259,380.00</td>\n      <td>18,962,873.00</td>\n      <td>17,124,581.00</td>\n      <td>415,218.00</td>\n      <td>527,707,248.00</td>\n      <td>3,529,801.00</td>\n      <td>550,709,500.00</td>\n      <td>13,910,322.00</td>\n      <td>38,542,814.00</td>\n      <td>569,138,589.00</td>\n    </tr>\n  </tbody>\n</table>\n<p>5 rows × 55 columns</p>\n</div>"
     },
     "metadata": {},
     "execution_count": 5
    }
   ],
   "source": [
    "df.head()"
   ]
  },
  {
   "cell_type": "code",
   "execution_count": 6,
   "metadata": {},
   "outputs": [
    {
     "output_type": "execute_result",
     "data": {
      "text/plain": [
       "Bearer Id                           991\n",
       "Start                                 1\n",
       "Start ms                              1\n",
       "End                                   1\n",
       "End ms                                1\n",
       "Dur. (ms)                             1\n",
       "IMSI                                570\n",
       "MSISDN/Number                      1066\n",
       "IMEI                                572\n",
       "Last Location Name                 1153\n",
       "Avg RTT DL (ms)                   27829\n",
       "Avg RTT UL (ms)                   27812\n",
       "Avg Bearer TP DL (kbps)               1\n",
       "Avg Bearer TP UL (kbps)               1\n",
       "DL TP < 50 Kbps (%)                 754\n",
       "50 Kbps < DL TP < 250 Kbps (%)      754\n",
       "250 Kbps < DL TP < 1 Mbps (%)       754\n",
       "DL TP > 1 Mbps (%)                  754\n",
       "UL TP < 10 Kbps (%)                 792\n",
       "10 Kbps < UL TP < 50 Kbps (%)       792\n",
       "50 Kbps < UL TP < 300 Kbps (%)      792\n",
       "UL TP > 300 Kbps (%)                792\n",
       "Activity Duration DL (ms)             1\n",
       "Activity Duration UL (ms)             1\n",
       "Dur. (ms).1                           1\n",
       "Handset Manufacturer               9559\n",
       "Handset Type                       9559\n",
       "Nb of sec with Vol DL < 6250B       755\n",
       "Nb of sec with Vol UL < 1250B       793\n",
       "Social Media DL (Bytes)               0\n",
       "Social Media UL (Bytes)               0\n",
       "Google DL (Bytes)                     0\n",
       "Google UL (Bytes)                     0\n",
       "Email DL (Bytes)                      0\n",
       "Email UL (Bytes)                      0\n",
       "Youtube DL (Bytes)                    0\n",
       "Youtube UL (Bytes)                    0\n",
       "Netflix DL (Bytes)                    0\n",
       "Netflix UL (Bytes)                    0\n",
       "Gaming DL (Bytes)                     0\n",
       "Gaming UL (Bytes)                     0\n",
       "Other DL (Bytes)                      0\n",
       "Other UL (Bytes)                      0\n",
       "Total UL (Bytes)                      1\n",
       "Total DL (Bytes)                      1\n",
       "dtype: int64"
      ]
     },
     "metadata": {},
     "execution_count": 6
    }
   ],
   "source": [
    "cleaned_data = clean_data.Handle_missing_values(df)\n",
    "cleaned_data.isnull().sum()"
   ]
  },
  {
   "source": [
    "after loading and cleaning the data now we will do our eda on User engagement, to understand how well the users engage on the available applications. We need to determine the level of engagement of a random user for any application. To do that we will focus on the following \"sessions frequency\", \"the duration of the session\" and \"the sessions total traffic (download and upload (bytes))\". We will do analysis on these variables, normalize them and then cluster users using these metrics, so it will be easier to provide a more customized service for each user.\n"
   ],
   "cell_type": "markdown",
   "metadata": {}
  },
  {
   "source": [
    "First step is Doing EDA on the variables"
   ],
   "cell_type": "markdown",
   "metadata": {}
  },
  {
   "cell_type": "code",
   "execution_count": 76,
   "metadata": {},
   "outputs": [
    {
     "output_type": "stream",
     "name": "stdout",
     "text": [
      "Top 10 users with high session frequency\n"
     ]
    },
    {
     "output_type": "execute_result",
     "data": {
      "text/plain": [
       "                   Bearer Id\n",
       "MSISDN/Number               \n",
       "33,626,320,676.00         18\n",
       "33,625,779,332.00         17\n",
       "33,614,892,860.00         17\n",
       "33,659,725,664.00         16\n",
       "33,675,877,202.00         15\n",
       "33,760,536,639.00         15\n",
       "33,667,163,239.00         13\n",
       "33,760,413,819.00         12\n",
       "33,604,515,716.00         12\n",
       "33,603,127,838.00         12"
      ],
      "text/html": "<div>\n<style scoped>\n    .dataframe tbody tr th:only-of-type {\n        vertical-align: middle;\n    }\n\n    .dataframe tbody tr th {\n        vertical-align: top;\n    }\n\n    .dataframe thead th {\n        text-align: right;\n    }\n</style>\n<table border=\"1\" class=\"dataframe\">\n  <thead>\n    <tr style=\"text-align: right;\">\n      <th></th>\n      <th>Bearer Id</th>\n    </tr>\n    <tr>\n      <th>MSISDN/Number</th>\n      <th></th>\n    </tr>\n  </thead>\n  <tbody>\n    <tr>\n      <th>33,626,320,676.00</th>\n      <td>18</td>\n    </tr>\n    <tr>\n      <th>33,625,779,332.00</th>\n      <td>17</td>\n    </tr>\n    <tr>\n      <th>33,614,892,860.00</th>\n      <td>17</td>\n    </tr>\n    <tr>\n      <th>33,659,725,664.00</th>\n      <td>16</td>\n    </tr>\n    <tr>\n      <th>33,675,877,202.00</th>\n      <td>15</td>\n    </tr>\n    <tr>\n      <th>33,760,536,639.00</th>\n      <td>15</td>\n    </tr>\n    <tr>\n      <th>33,667,163,239.00</th>\n      <td>13</td>\n    </tr>\n    <tr>\n      <th>33,760,413,819.00</th>\n      <td>12</td>\n    </tr>\n    <tr>\n      <th>33,604,515,716.00</th>\n      <td>12</td>\n    </tr>\n    <tr>\n      <th>33,603,127,838.00</th>\n      <td>12</td>\n    </tr>\n  </tbody>\n</table>\n</div>"
     },
     "metadata": {},
     "execution_count": 76
    }
   ],
   "source": [
    "# print out unique session counts per person\n",
    "# unique_sessions = {\"unique_session_counts\":cleaned_data.groupby(\"MSISDN/Number\").nunique(), \"Out of\": cleaned_data[\"Bearer Id\"].count()}\n",
    "\n",
    "# groups users based on their MSIDN number and count how many sessions they created\n",
    "cleaned_copy = cleaned_data.copy()\n",
    "cleaned_copy.drop_duplicates()\n",
    "df_user = cleaned_copy.groupby(\"MSISDN/Number\")\n",
    "# print(unique_sessions)\n",
    "\n",
    "df_session_freq = pd.DataFrame(df_user[\"Bearer Id\"].count())\n",
    "df_session_dur = pd.DataFrame(df_user[\"Dur. (ms)\"].sum())\n",
    "df_session_UL = pd.DataFrame(df_user[\"Total UL (Bytes)\"].sum())\n",
    "df_session_DL = pd.DataFrame(df_user[\"Total DL (Bytes)\"].sum())\n",
    "df_session_DL.drop_duplicates()\n",
    "df_session_UL.drop_duplicates\n",
    "print(\"Top 10 users with high session frequency\")\n",
    "df_session_freq.sort_values(by=[\"Bearer Id\"], ascending=False).head(10)\n"
   ]
  },
  {
   "cell_type": "code",
   "execution_count": 8,
   "metadata": {},
   "outputs": [
    {
     "output_type": "stream",
     "name": "stdout",
     "text": [
      "Top 10 users with high session duration\n"
     ]
    },
    {
     "output_type": "execute_result",
     "data": {
      "text/plain": [
       "                      Dur. (ms)\n",
       "MSISDN/Number                  \n",
       "33,625,779,332.00 18,553,754.00\n",
       "33,614,892,860.00  9,966,898.00\n",
       "33,760,536,639.00  9,279,434.00\n",
       "33,626,320,676.00  8,791,927.00\n",
       "33,667,163,239.00  8,744,914.00\n",
       "33,662,840,755.00  6,614,270.00\n",
       "33,664,693,736.00  6,288,730.00\n",
       "33,603,127,838.00  6,287,761.00\n",
       "33,667,456,716.00  5,649,882.00\n",
       "33,760,413,819.00  5,321,667.00"
      ],
      "text/html": "<div>\n<style scoped>\n    .dataframe tbody tr th:only-of-type {\n        vertical-align: middle;\n    }\n\n    .dataframe tbody tr th {\n        vertical-align: top;\n    }\n\n    .dataframe thead th {\n        text-align: right;\n    }\n</style>\n<table border=\"1\" class=\"dataframe\">\n  <thead>\n    <tr style=\"text-align: right;\">\n      <th></th>\n      <th>Dur. (ms)</th>\n    </tr>\n    <tr>\n      <th>MSISDN/Number</th>\n      <th></th>\n    </tr>\n  </thead>\n  <tbody>\n    <tr>\n      <th>33,625,779,332.00</th>\n      <td>18,553,754.00</td>\n    </tr>\n    <tr>\n      <th>33,614,892,860.00</th>\n      <td>9,966,898.00</td>\n    </tr>\n    <tr>\n      <th>33,760,536,639.00</th>\n      <td>9,279,434.00</td>\n    </tr>\n    <tr>\n      <th>33,626,320,676.00</th>\n      <td>8,791,927.00</td>\n    </tr>\n    <tr>\n      <th>33,667,163,239.00</th>\n      <td>8,744,914.00</td>\n    </tr>\n    <tr>\n      <th>33,662,840,755.00</th>\n      <td>6,614,270.00</td>\n    </tr>\n    <tr>\n      <th>33,664,693,736.00</th>\n      <td>6,288,730.00</td>\n    </tr>\n    <tr>\n      <th>33,603,127,838.00</th>\n      <td>6,287,761.00</td>\n    </tr>\n    <tr>\n      <th>33,667,456,716.00</th>\n      <td>5,649,882.00</td>\n    </tr>\n    <tr>\n      <th>33,760,413,819.00</th>\n      <td>5,321,667.00</td>\n    </tr>\n  </tbody>\n</table>\n</div>"
     },
     "metadata": {},
     "execution_count": 8
    }
   ],
   "source": [
    "# duration of sessions per user\n",
    "print(\"Top 10 users with high session duration\")\n",
    "df_session_dur.sort_values(by=\"Dur. (ms)\",ascending=False).head(10)"
   ]
  },
  {
   "cell_type": "code",
   "execution_count": 9,
   "metadata": {},
   "outputs": [
    {
     "output_type": "stream",
     "name": "stdout",
     "text": [
      "Top 10 users with high data DL volume\n"
     ]
    },
    {
     "output_type": "execute_result",
     "data": {
      "text/plain": [
       "                   Total DL (Bytes)\n",
       "MSISDN/Number                      \n",
       "33,614,892,860.00  8,156,743,493.00\n",
       "33,760,536,639.00  7,811,295,382.00\n",
       "33,625,779,332.00  7,770,043,342.00\n",
       "33,675,877,202.00  7,309,541,816.00\n",
       "33,626,320,676.00  7,301,516,540.00\n",
       "33,659,725,664.00  7,081,602,462.00\n",
       "33,666,464,084.00  6,903,439,962.00\n",
       "33,760,413,819.00  6,610,851,624.00\n",
       "33,664,712,899.00  6,400,773,755.00\n",
       "33,698,792,269.00  6,010,556,021.00"
      ],
      "text/html": "<div>\n<style scoped>\n    .dataframe tbody tr th:only-of-type {\n        vertical-align: middle;\n    }\n\n    .dataframe tbody tr th {\n        vertical-align: top;\n    }\n\n    .dataframe thead th {\n        text-align: right;\n    }\n</style>\n<table border=\"1\" class=\"dataframe\">\n  <thead>\n    <tr style=\"text-align: right;\">\n      <th></th>\n      <th>Total DL (Bytes)</th>\n    </tr>\n    <tr>\n      <th>MSISDN/Number</th>\n      <th></th>\n    </tr>\n  </thead>\n  <tbody>\n    <tr>\n      <th>33,614,892,860.00</th>\n      <td>8,156,743,493.00</td>\n    </tr>\n    <tr>\n      <th>33,760,536,639.00</th>\n      <td>7,811,295,382.00</td>\n    </tr>\n    <tr>\n      <th>33,625,779,332.00</th>\n      <td>7,770,043,342.00</td>\n    </tr>\n    <tr>\n      <th>33,675,877,202.00</th>\n      <td>7,309,541,816.00</td>\n    </tr>\n    <tr>\n      <th>33,626,320,676.00</th>\n      <td>7,301,516,540.00</td>\n    </tr>\n    <tr>\n      <th>33,659,725,664.00</th>\n      <td>7,081,602,462.00</td>\n    </tr>\n    <tr>\n      <th>33,666,464,084.00</th>\n      <td>6,903,439,962.00</td>\n    </tr>\n    <tr>\n      <th>33,760,413,819.00</th>\n      <td>6,610,851,624.00</td>\n    </tr>\n    <tr>\n      <th>33,664,712,899.00</th>\n      <td>6,400,773,755.00</td>\n    </tr>\n    <tr>\n      <th>33,698,792,269.00</th>\n      <td>6,010,556,021.00</td>\n    </tr>\n  </tbody>\n</table>\n</div>"
     },
     "metadata": {},
     "execution_count": 9
    }
   ],
   "source": [
    "# total data DL volume per user\n",
    "print(\"Top 10 users with high data DL volume\")\n",
    "df_session_DL.sort_values(by=\"Total DL (Bytes)\",ascending=False).head(10)"
   ]
  },
  {
   "cell_type": "code",
   "execution_count": 10,
   "metadata": {},
   "outputs": [
    {
     "output_type": "stream",
     "name": "stdout",
     "text": [
      "Top 10 users with high data UL volume\n"
     ]
    },
    {
     "output_type": "execute_result",
     "data": {
      "text/plain": [
       "                   Total UL (Bytes)\n",
       "MSISDN/Number                      \n",
       "33,625,779,332.00    729,577,380.00\n",
       "33,760,536,639.00    703,478,581.00\n",
       "33,614,892,860.00    689,483,001.00\n",
       "33,626,320,676.00    669,650,721.00\n",
       "33,659,725,664.00    624,260,321.00\n",
       "33,675,877,202.00    581,568,792.00\n",
       "33,667,163,239.00    566,326,364.00\n",
       "33,698,792,269.00    530,343,105.00\n",
       "33,760,413,819.00    521,518,890.00\n",
       "33,761,268,199.00    496,467,102.00"
      ],
      "text/html": "<div>\n<style scoped>\n    .dataframe tbody tr th:only-of-type {\n        vertical-align: middle;\n    }\n\n    .dataframe tbody tr th {\n        vertical-align: top;\n    }\n\n    .dataframe thead th {\n        text-align: right;\n    }\n</style>\n<table border=\"1\" class=\"dataframe\">\n  <thead>\n    <tr style=\"text-align: right;\">\n      <th></th>\n      <th>Total UL (Bytes)</th>\n    </tr>\n    <tr>\n      <th>MSISDN/Number</th>\n      <th></th>\n    </tr>\n  </thead>\n  <tbody>\n    <tr>\n      <th>33,625,779,332.00</th>\n      <td>729,577,380.00</td>\n    </tr>\n    <tr>\n      <th>33,760,536,639.00</th>\n      <td>703,478,581.00</td>\n    </tr>\n    <tr>\n      <th>33,614,892,860.00</th>\n      <td>689,483,001.00</td>\n    </tr>\n    <tr>\n      <th>33,626,320,676.00</th>\n      <td>669,650,721.00</td>\n    </tr>\n    <tr>\n      <th>33,659,725,664.00</th>\n      <td>624,260,321.00</td>\n    </tr>\n    <tr>\n      <th>33,675,877,202.00</th>\n      <td>581,568,792.00</td>\n    </tr>\n    <tr>\n      <th>33,667,163,239.00</th>\n      <td>566,326,364.00</td>\n    </tr>\n    <tr>\n      <th>33,698,792,269.00</th>\n      <td>530,343,105.00</td>\n    </tr>\n    <tr>\n      <th>33,760,413,819.00</th>\n      <td>521,518,890.00</td>\n    </tr>\n    <tr>\n      <th>33,761,268,199.00</th>\n      <td>496,467,102.00</td>\n    </tr>\n  </tbody>\n</table>\n</div>"
     },
     "metadata": {},
     "execution_count": 10
    }
   ],
   "source": [
    "# total UL data volume per user\n",
    "print(\"Top 10 users with high data UL volume\")\n",
    "df_session_UL.sort_values(by=\"Total UL (Bytes)\",ascending=False).head(10)"
   ]
  },
  {
   "cell_type": "code",
   "execution_count": 73,
   "metadata": {},
   "outputs": [
    {
     "output_type": "execute_result",
     "data": {
      "text/plain": [
       "                   session_freq  session_duration  session_data_DL  \\\n",
       "MSISDN/Number                                                        \n",
       "33,601,001,722.00             1        116,720.00   842,637,466.00   \n",
       "33,601,001,754.00             1        181,230.00   120,755,184.00   \n",
       "33,601,002,511.00             1        134,969.00   556,659,663.00   \n",
       "33,601,007,832.00             1         49,878.00   401,993,172.00   \n",
       "33,601,008,617.00             2         37,104.00 1,363,130,417.00   \n",
       "33,601,010,682.00             2        253,983.00   555,207,972.00   \n",
       "33,601,011,634.00             2        128,360.00   553,041,208.00   \n",
       "33,601,011,959.00             1         86,399.00   294,085,078.00   \n",
       "33,601,014,694.00             2        495,702.00   896,560,173.00   \n",
       "33,601,020,306.00             1        124,854.00   685,372,753.00   \n",
       "\n",
       "                   session_data_UL  \n",
       "MSISDN/Number                       \n",
       "33,601,001,722.00    36,053,108.00  \n",
       "33,601,001,754.00    36,104,459.00  \n",
       "33,601,002,511.00    39,306,820.00  \n",
       "33,601,007,832.00    20,327,526.00  \n",
       "33,601,008,617.00    94,280,527.00  \n",
       "33,601,010,682.00    60,009,249.00  \n",
       "33,601,011,634.00   101,681,858.00  \n",
       "33,601,011,959.00    38,575,279.00  \n",
       "33,601,014,694.00    93,572,016.00  \n",
       "33,601,020,306.00    47,091,008.00  "
      ],
      "text/html": "<div>\n<style scoped>\n    .dataframe tbody tr th:only-of-type {\n        vertical-align: middle;\n    }\n\n    .dataframe tbody tr th {\n        vertical-align: top;\n    }\n\n    .dataframe thead th {\n        text-align: right;\n    }\n</style>\n<table border=\"1\" class=\"dataframe\">\n  <thead>\n    <tr style=\"text-align: right;\">\n      <th></th>\n      <th>session_freq</th>\n      <th>session_duration</th>\n      <th>session_data_DL</th>\n      <th>session_data_UL</th>\n    </tr>\n    <tr>\n      <th>MSISDN/Number</th>\n      <th></th>\n      <th></th>\n      <th></th>\n      <th></th>\n    </tr>\n  </thead>\n  <tbody>\n    <tr>\n      <th>33,601,001,722.00</th>\n      <td>1</td>\n      <td>116,720.00</td>\n      <td>842,637,466.00</td>\n      <td>36,053,108.00</td>\n    </tr>\n    <tr>\n      <th>33,601,001,754.00</th>\n      <td>1</td>\n      <td>181,230.00</td>\n      <td>120,755,184.00</td>\n      <td>36,104,459.00</td>\n    </tr>\n    <tr>\n      <th>33,601,002,511.00</th>\n      <td>1</td>\n      <td>134,969.00</td>\n      <td>556,659,663.00</td>\n      <td>39,306,820.00</td>\n    </tr>\n    <tr>\n      <th>33,601,007,832.00</th>\n      <td>1</td>\n      <td>49,878.00</td>\n      <td>401,993,172.00</td>\n      <td>20,327,526.00</td>\n    </tr>\n    <tr>\n      <th>33,601,008,617.00</th>\n      <td>2</td>\n      <td>37,104.00</td>\n      <td>1,363,130,417.00</td>\n      <td>94,280,527.00</td>\n    </tr>\n    <tr>\n      <th>33,601,010,682.00</th>\n      <td>2</td>\n      <td>253,983.00</td>\n      <td>555,207,972.00</td>\n      <td>60,009,249.00</td>\n    </tr>\n    <tr>\n      <th>33,601,011,634.00</th>\n      <td>2</td>\n      <td>128,360.00</td>\n      <td>553,041,208.00</td>\n      <td>101,681,858.00</td>\n    </tr>\n    <tr>\n      <th>33,601,011,959.00</th>\n      <td>1</td>\n      <td>86,399.00</td>\n      <td>294,085,078.00</td>\n      <td>38,575,279.00</td>\n    </tr>\n    <tr>\n      <th>33,601,014,694.00</th>\n      <td>2</td>\n      <td>495,702.00</td>\n      <td>896,560,173.00</td>\n      <td>93,572,016.00</td>\n    </tr>\n    <tr>\n      <th>33,601,020,306.00</th>\n      <td>1</td>\n      <td>124,854.00</td>\n      <td>685,372,753.00</td>\n      <td>47,091,008.00</td>\n    </tr>\n  </tbody>\n</table>\n</div>"
     },
     "metadata": {},
     "execution_count": 73
    }
   ],
   "source": [
    "# user engagment metrics per user\n",
    "df_user_engagement = pd.DataFrame({\"session_freq\": df_session_freq[\"Bearer Id\"],\"session_duration\":df_session_dur[\"Dur. (ms)\"],\"session_data_DL\": df_session_DL[\"Total DL (Bytes)\"],\"session_data_UL\": df_session_UL[\"Total UL (Bytes)\"]})\n",
    "df_user_engagment.head(10)"
   ]
  },
  {
   "source": [
    "Now we have got some intuition about our data regarding user engagement lets normalize and cluster them.\n"
   ],
   "cell_type": "markdown",
   "metadata": {}
  },
  {
   "cell_type": "code",
   "execution_count": 14,
   "metadata": {},
   "outputs": [],
   "source": [
    "import seaborn as sn\n",
    "import matplotlib.pyplot as plt\n",
    "import numpy as np"
   ]
  },
  {
   "cell_type": "code",
   "execution_count": 16,
   "metadata": {},
   "outputs": [],
   "source": [
    "normalized_data_freq = norm_scaling.normalize(df_session_freq)\n",
    "normalized_data_dur = norm_scaling.normalize(df_session_dur)\n",
    "normalized_data_UL = norm_scaling.normalize(df_session_DL)\n",
    "normalized_data_DL = norm_scaling.normalize(df_session_UL)\n",
    "X = np.hstack((normalized_data_freq,normalized_data_dur,normalized_data_DL,normalized_data_UL))\n",
    "X = norm_scaling.normalize(X)\n"
   ]
  },
  {
   "cell_type": "code",
   "execution_count": 24,
   "metadata": {},
   "outputs": [
    {
     "output_type": "error",
     "ename": "TypeError",
     "evalue": "scatter() got multiple values for argument 's'",
     "traceback": [
      "\u001b[0;31m---------------------------------------------------------------------------\u001b[0m",
      "\u001b[0;31mTypeError\u001b[0m                                 Traceback (most recent call last)",
      "\u001b[0;32m/tmp/ipykernel_16340/2096986146.py\u001b[0m in \u001b[0;36m<module>\u001b[0;34m\u001b[0m\n\u001b[0;32m----> 1\u001b[0;31m \u001b[0mplt\u001b[0m\u001b[0;34m.\u001b[0m\u001b[0mscatter\u001b[0m\u001b[0;34m(\u001b[0m\u001b[0mX\u001b[0m\u001b[0;34m[\u001b[0m \u001b[0;34m:\u001b[0m \u001b[0;34m,\u001b[0m \u001b[0;36m0\u001b[0m\u001b[0;34m]\u001b[0m\u001b[0;34m,\u001b[0m \u001b[0mX\u001b[0m\u001b[0;34m[\u001b[0m \u001b[0;34m:\u001b[0m\u001b[0;34m,\u001b[0m \u001b[0;36m1\u001b[0m\u001b[0;34m]\u001b[0m\u001b[0;34m,\u001b[0m\u001b[0mX\u001b[0m\u001b[0;34m[\u001b[0m \u001b[0;34m:\u001b[0m\u001b[0;34m,\u001b[0m \u001b[0;36m2\u001b[0m\u001b[0;34m]\u001b[0m\u001b[0;34m,\u001b[0m\u001b[0mX\u001b[0m\u001b[0;34m[\u001b[0m \u001b[0;34m:\u001b[0m\u001b[0;34m,\u001b[0m \u001b[0;36m3\u001b[0m\u001b[0;34m]\u001b[0m\u001b[0;34m,\u001b[0m \u001b[0ms\u001b[0m \u001b[0;34m=\u001b[0m \u001b[0;34m[\u001b[0m\u001b[0;36m50\u001b[0m\u001b[0;34m,\u001b[0m\u001b[0;36m50\u001b[0m\u001b[0;34m]\u001b[0m\u001b[0;34m,\u001b[0m \u001b[0mc\u001b[0m \u001b[0;34m=\u001b[0m \u001b[0;34m'b'\u001b[0m\u001b[0;34m)\u001b[0m\u001b[0;34m\u001b[0m\u001b[0;34m\u001b[0m\u001b[0m\n\u001b[0m\u001b[1;32m      2\u001b[0m \u001b[0mplt\u001b[0m\u001b[0;34m.\u001b[0m\u001b[0mshow\u001b[0m\u001b[0;34m(\u001b[0m\u001b[0;34m)\u001b[0m\u001b[0;34m\u001b[0m\u001b[0;34m\u001b[0m\u001b[0m\n",
      "\u001b[0;31mTypeError\u001b[0m: scatter() got multiple values for argument 's'"
     ]
    }
   ],
   "source": [
    "plt.scatter(X[ : , 0], X[ :, 1],X[ :, 2],X[ :, 3], s = [50,50], c = 'b')\n",
    "plt.show()"
   ]
  },
  {
   "source": [
    "We first split our dataset into training and test set then run a k-means (k=3) to classify customers in three groups of engagement."
   ],
   "cell_type": "markdown",
   "metadata": {}
  },
  {
   "cell_type": "code",
   "execution_count": 17,
   "metadata": {},
   "outputs": [],
   "source": [
    "from sklearn.model_selection import train_test_split\n",
    "from sklearn.cluster import KMeans"
   ]
  },
  {
   "cell_type": "code",
   "execution_count": 68,
   "metadata": {
    "tags": []
   },
   "outputs": [
    {
     "output_type": "execute_result",
     "data": {
      "text/plain": [
       "(106856, 4)"
      ]
     },
     "metadata": {},
     "execution_count": 68
    }
   ],
   "source": [
    "# X is nsamples x mfeatures\n",
    "# X_train, X_test = train_test_split(X, test_size = 0.2, random_state = 8)\n",
    "kmeans = KMeans(n_clusters=3).fit_predict(X)\n",
    "X.shape"
   ]
  },
  {
   "cell_type": "code",
   "execution_count": 69,
   "metadata": {},
   "outputs": [
    {
     "output_type": "execute_result",
     "data": {
      "text/plain": [
       "((106856,),\n",
       " array([[0.05555556, 0.00590825, 0.04566635, 0.10233418],\n",
       "        [0.05555556, 0.00938651, 0.04573701, 0.01373702],\n",
       "        [0.05555556, 0.0068922 , 0.05014367, 0.06723591],\n",
       "        ...,\n",
       "        [0.05555556, 0.04692194, 0.04737653, 0.02282804],\n",
       "        [0.05555556, 0.01325784, 0.07401289, 0.06514646],\n",
       "        [0.05555556, 0.04651534, 0.07924635, 0.00857526]]))"
      ]
     },
     "metadata": {},
     "execution_count": 69
    }
   ],
   "source": [
    "# y_pred = kmeans.predict(X_test)\n",
    "# y_pred.shape,y_pred[:5]\n",
    "kmeans.shape,X[:,]"
   ]
  },
  {
   "source": [
    "Find the min,max and average of each metrics for each cluster"
   ],
   "cell_type": "markdown",
   "metadata": {}
  },
  {
   "cell_type": "code",
   "execution_count": 74,
   "metadata": {
    "tags": []
   },
   "outputs": [],
   "source": [
    "# organizing datapoints per cluster\n",
    "un_normalized_data = df_user_engagement.to_numpy()\n",
    "clusters = {}\n",
    "cluster_no = 3\n",
    "container = []\n",
    "for i in range(0,cluster_no):\n",
    "    for x,y in zip(un_normalized_data,kmeans):    \n",
    "        if y == i:\n",
    "            container.append(x)\n",
    "    clusters[\"cluster_\"+str(i)] = np.array(container)\n",
    "    container = []\n"
   ]
  },
  {
   "cell_type": "code",
   "execution_count": 75,
   "metadata": {},
   "outputs": [
    {
     "output_type": "stream",
     "name": "stdout",
     "text": [
      "min of cluster 0, Session_freq 0.0\nmax of cluster 0, Session_freq 2.0\navg of cluster 0, Session_freq 1.0182441856082023\nmin of cluster 0, session_dur 7142.0\nmax of cluster 0, session_dur 1573420.0\navg of cluster 0, session_dur 105383.47838214783\nmin of cluster 0, total_dl 8827082.0\nmax of cluster 0, total_dl 1086105000.0\navg of cluster 0, total_dl 453905748.78519106\nmin of cluster 0, total_ul 2866892.0\nmax of cluster 0, total_ul 108187386.0\navg of cluster 0, total_ul 41755118.31441064\nmin of cluster 1, Session_freq 3.0\nmax of cluster 1, Session_freq 18.0\navg of cluster 1, Session_freq 4.254475084663764\nmin of cluster 1, session_dur 46896.0\nmax of cluster 1, session_dur 18553754.0\navg of cluster 1, session_dur 568377.7300435414\nmin of cluster 1, total_dl 525493344.0\nmax of cluster 1, total_dl 8156743493.0\navg of cluster 1, total_dl 2065808382.3086598\nmin of cluster 1, total_ul 78022976.0\nmax of cluster 1, total_ul 729577380.0\navg of cluster 1, total_ul 177658855.42597967\nmin of cluster 2, Session_freq 0.0\nmax of cluster 2, Session_freq 4.0\navg of cluster 2, Session_freq 2.1559974065269074\nmin of cluster 2, session_dur 18235.0\nmax of cluster 2, session_dur 3174824.0\navg of cluster 2, session_dur 211022.65943375838\nmin of cluster 2, total_dl 89864252.0\nmax of cluster 2, total_dl 2165972065.0\navg of cluster 2, total_dl 996090001.6636266\nmin of cluster 2, total_ul 25897887.0\nmax of cluster 2, total_ul 197644172.0\navg of cluster 2, total_ul 89312700.75271234\n"
     ]
    }
   ],
   "source": [
    "# printing information for each cluster\n",
    "metrics = 4\n",
    "metrics_name = [\"Session_freq\",\"session_dur\",\"total_dl\",\"total_ul\"]\n",
    "for i in range(3):\n",
    "    for metric in range(0,metrics):\n",
    "        data_cluster = clusters[\"cluster_\"+str(i)][:,metric]\n",
    "        print(\"min of cluster \"+str(i)+ \", \"+metrics_name[metric],data_cluster.min())\n",
    "        print(\"max of cluster \"+str(i)+ \", \"+metrics_name[metric],data_cluster.max())\n",
    "        print(\"avg of cluster \"+str(i)+ \", \"+metrics_name[metric],data_cluster.mean())"
   ]
  },
  {
   "cell_type": "code",
   "execution_count": 92,
   "metadata": {},
   "outputs": [],
   "source": [
    "# df_user_copy = df_user_engagement.copy()\n",
    "# df_user_copy['cluster'] = pd.DataFrame(kmeans)\n",
    "# # sn.scatterplot(data=df_user_copy,hue=\"cluster\",style=\"cluster\")\n",
    "# sn.catplot(data=df_user_copy, x=\"cluster\",y=\"session_freq\",kind=\"bar\")\n",
    "# # Y_df"
   ]
  },
  {
   "source": [
    "#Aggregate user total traffic per application and derive the top 10 most engaged users per application\n",
    "\n"
   ],
   "cell_type": "code",
   "metadata": {},
   "execution_count": null,
   "outputs": []
  },
  {
   "cell_type": "code",
   "execution_count": 141,
   "metadata": {},
   "outputs": [],
   "source": [
    "#using the elbow method to find the optimal K\n",
    "from scipy.spatial.distance import cdist\n",
    "distortions = []\n",
    "inertias = []\n",
    "K = range(1, 10)\n",
    "mapping1 = {}\n",
    "mapping2 = {}\n",
    " \n",
    "for k in K:\n",
    "    # Building and fitting the model\n",
    "    kmeanModel = KMeans(n_clusters=k).fit(X_train)\n",
    "    kmeanModel.fit(X)\n",
    " \n",
    "    distortions.append(sum(np.min(cdist(X_train, kmeanModel.cluster_centers_,\n",
    "                                        'euclidean'), axis=1)) / X_train.shape[0])\n",
    "    inertias.append(kmeanModel.inertia_)\n",
    "    mapping1[k] = sum(np.min(cdist(X, kmeanModel.cluster_centers_,\n",
    "                                   'euclidean'), axis=1)) / X_train.shape[0]\n",
    "    mapping2[k] = kmeanModel.inertia_"
   ]
  },
  {
   "cell_type": "code",
   "execution_count": 142,
   "metadata": {},
   "outputs": [
    {
     "output_type": "stream",
     "name": "stdout",
     "text": [
      "1 : 0.0022450435241785044\n2 : 0.002214616432262447\n3 : 0.0017664450534807077\n4 : 0.0016353036961872876\n5 : 0.0015802575843101782\n6 : 0.0013977447530242244\n7 : 0.001363167360812234\n8 : 0.0012257662225384123\n9 : 0.0011420006516443075\n"
     ]
    }
   ],
   "source": [
    "for key, val in mapping1.items():\n",
    "    print(f'{key} : {val}')"
   ]
  },
  {
   "cell_type": "code",
   "execution_count": 143,
   "metadata": {},
   "outputs": [
    {
     "output_type": "display_data",
     "data": {
      "text/plain": "<Figure size 432x288 with 1 Axes>",
      "image/svg+xml": "<?xml version=\"1.0\" encoding=\"utf-8\" standalone=\"no\"?>\n<!DOCTYPE svg PUBLIC \"-//W3C//DTD SVG 1.1//EN\"\n  \"http://www.w3.org/Graphics/SVG/1.1/DTD/svg11.dtd\">\n<svg height=\"277.314375pt\" version=\"1.1\" viewBox=\"0 0 404.86875 277.314375\" width=\"404.86875pt\" xmlns=\"http://www.w3.org/2000/svg\" xmlns:xlink=\"http://www.w3.org/1999/xlink\">\n <metadata>\n  <rdf:RDF xmlns:cc=\"http://creativecommons.org/ns#\" xmlns:dc=\"http://purl.org/dc/elements/1.1/\" xmlns:rdf=\"http://www.w3.org/1999/02/22-rdf-syntax-ns#\">\n   <cc:Work>\n    <dc:type rdf:resource=\"http://purl.org/dc/dcmitype/StillImage\"/>\n    <dc:date>2021-07-16T13:44:10.028026</dc:date>\n    <dc:format>image/svg+xml</dc:format>\n    <dc:creator>\n     <cc:Agent>\n      <dc:title>Matplotlib v3.4.2, https://matplotlib.org/</dc:title>\n     </cc:Agent>\n    </dc:creator>\n   </cc:Work>\n  </rdf:RDF>\n </metadata>\n <defs>\n  <style type=\"text/css\">*{stroke-linecap:butt;stroke-linejoin:round;}</style>\n </defs>\n <g id=\"figure_1\">\n  <g id=\"patch_1\">\n   <path d=\"M 0 277.314375 \nL 404.86875 277.314375 \nL 404.86875 0 \nL 0 0 \nz\n\" style=\"fill:none;\"/>\n  </g>\n  <g id=\"axes_1\">\n   <g id=\"patch_2\">\n    <path d=\"M 62.86875 239.758125 \nL 397.66875 239.758125 \nL 397.66875 22.318125 \nL 62.86875 22.318125 \nz\n\" style=\"fill:#ffffff;\"/>\n   </g>\n   <g id=\"matplotlib.axis_1\">\n    <g id=\"xtick_1\">\n     <g id=\"line2d_1\">\n      <defs>\n       <path d=\"M 0 0 \nL 0 3.5 \n\" id=\"mdec88a0444\" style=\"stroke:#000000;stroke-width:0.8;\"/>\n      </defs>\n      <g>\n       <use style=\"stroke:#000000;stroke-width:0.8;\" x=\"78.086932\" xlink:href=\"#mdec88a0444\" y=\"239.758125\"/>\n      </g>\n     </g>\n     <g id=\"text_1\">\n      <!-- 1 -->\n      <g transform=\"translate(74.905682 254.356562)scale(0.1 -0.1)\">\n       <defs>\n        <path d=\"M 794 531 \nL 1825 531 \nL 1825 4091 \nL 703 3866 \nL 703 4441 \nL 1819 4666 \nL 2450 4666 \nL 2450 531 \nL 3481 531 \nL 3481 0 \nL 794 0 \nL 794 531 \nz\n\" id=\"DejaVuSans-31\" transform=\"scale(0.015625)\"/>\n       </defs>\n       <use xlink:href=\"#DejaVuSans-31\"/>\n      </g>\n     </g>\n    </g>\n    <g id=\"xtick_2\">\n     <g id=\"line2d_2\">\n      <g>\n       <use style=\"stroke:#000000;stroke-width:0.8;\" x=\"116.132386\" xlink:href=\"#mdec88a0444\" y=\"239.758125\"/>\n      </g>\n     </g>\n     <g id=\"text_2\">\n      <!-- 2 -->\n      <g transform=\"translate(112.951136 254.356562)scale(0.1 -0.1)\">\n       <defs>\n        <path d=\"M 1228 531 \nL 3431 531 \nL 3431 0 \nL 469 0 \nL 469 531 \nQ 828 903 1448 1529 \nQ 2069 2156 2228 2338 \nQ 2531 2678 2651 2914 \nQ 2772 3150 2772 3378 \nQ 2772 3750 2511 3984 \nQ 2250 4219 1831 4219 \nQ 1534 4219 1204 4116 \nQ 875 4013 500 3803 \nL 500 4441 \nQ 881 4594 1212 4672 \nQ 1544 4750 1819 4750 \nQ 2544 4750 2975 4387 \nQ 3406 4025 3406 3419 \nQ 3406 3131 3298 2873 \nQ 3191 2616 2906 2266 \nQ 2828 2175 2409 1742 \nQ 1991 1309 1228 531 \nz\n\" id=\"DejaVuSans-32\" transform=\"scale(0.015625)\"/>\n       </defs>\n       <use xlink:href=\"#DejaVuSans-32\"/>\n      </g>\n     </g>\n    </g>\n    <g id=\"xtick_3\">\n     <g id=\"line2d_3\">\n      <g>\n       <use style=\"stroke:#000000;stroke-width:0.8;\" x=\"154.177841\" xlink:href=\"#mdec88a0444\" y=\"239.758125\"/>\n      </g>\n     </g>\n     <g id=\"text_3\">\n      <!-- 3 -->\n      <g transform=\"translate(150.996591 254.356562)scale(0.1 -0.1)\">\n       <defs>\n        <path d=\"M 2597 2516 \nQ 3050 2419 3304 2112 \nQ 3559 1806 3559 1356 \nQ 3559 666 3084 287 \nQ 2609 -91 1734 -91 \nQ 1441 -91 1130 -33 \nQ 819 25 488 141 \nL 488 750 \nQ 750 597 1062 519 \nQ 1375 441 1716 441 \nQ 2309 441 2620 675 \nQ 2931 909 2931 1356 \nQ 2931 1769 2642 2001 \nQ 2353 2234 1838 2234 \nL 1294 2234 \nL 1294 2753 \nL 1863 2753 \nQ 2328 2753 2575 2939 \nQ 2822 3125 2822 3475 \nQ 2822 3834 2567 4026 \nQ 2313 4219 1838 4219 \nQ 1578 4219 1281 4162 \nQ 984 4106 628 3988 \nL 628 4550 \nQ 988 4650 1302 4700 \nQ 1616 4750 1894 4750 \nQ 2613 4750 3031 4423 \nQ 3450 4097 3450 3541 \nQ 3450 3153 3228 2886 \nQ 3006 2619 2597 2516 \nz\n\" id=\"DejaVuSans-33\" transform=\"scale(0.015625)\"/>\n       </defs>\n       <use xlink:href=\"#DejaVuSans-33\"/>\n      </g>\n     </g>\n    </g>\n    <g id=\"xtick_4\">\n     <g id=\"line2d_4\">\n      <g>\n       <use style=\"stroke:#000000;stroke-width:0.8;\" x=\"192.223295\" xlink:href=\"#mdec88a0444\" y=\"239.758125\"/>\n      </g>\n     </g>\n     <g id=\"text_4\">\n      <!-- 4 -->\n      <g transform=\"translate(189.042045 254.356562)scale(0.1 -0.1)\">\n       <defs>\n        <path d=\"M 2419 4116 \nL 825 1625 \nL 2419 1625 \nL 2419 4116 \nz\nM 2253 4666 \nL 3047 4666 \nL 3047 1625 \nL 3713 1625 \nL 3713 1100 \nL 3047 1100 \nL 3047 0 \nL 2419 0 \nL 2419 1100 \nL 313 1100 \nL 313 1709 \nL 2253 4666 \nz\n\" id=\"DejaVuSans-34\" transform=\"scale(0.015625)\"/>\n       </defs>\n       <use xlink:href=\"#DejaVuSans-34\"/>\n      </g>\n     </g>\n    </g>\n    <g id=\"xtick_5\">\n     <g id=\"line2d_5\">\n      <g>\n       <use style=\"stroke:#000000;stroke-width:0.8;\" x=\"230.26875\" xlink:href=\"#mdec88a0444\" y=\"239.758125\"/>\n      </g>\n     </g>\n     <g id=\"text_5\">\n      <!-- 5 -->\n      <g transform=\"translate(227.0875 254.356562)scale(0.1 -0.1)\">\n       <defs>\n        <path d=\"M 691 4666 \nL 3169 4666 \nL 3169 4134 \nL 1269 4134 \nL 1269 2991 \nQ 1406 3038 1543 3061 \nQ 1681 3084 1819 3084 \nQ 2600 3084 3056 2656 \nQ 3513 2228 3513 1497 \nQ 3513 744 3044 326 \nQ 2575 -91 1722 -91 \nQ 1428 -91 1123 -41 \nQ 819 9 494 109 \nL 494 744 \nQ 775 591 1075 516 \nQ 1375 441 1709 441 \nQ 2250 441 2565 725 \nQ 2881 1009 2881 1497 \nQ 2881 1984 2565 2268 \nQ 2250 2553 1709 2553 \nQ 1456 2553 1204 2497 \nQ 953 2441 691 2322 \nL 691 4666 \nz\n\" id=\"DejaVuSans-35\" transform=\"scale(0.015625)\"/>\n       </defs>\n       <use xlink:href=\"#DejaVuSans-35\"/>\n      </g>\n     </g>\n    </g>\n    <g id=\"xtick_6\">\n     <g id=\"line2d_6\">\n      <g>\n       <use style=\"stroke:#000000;stroke-width:0.8;\" x=\"268.314205\" xlink:href=\"#mdec88a0444\" y=\"239.758125\"/>\n      </g>\n     </g>\n     <g id=\"text_6\">\n      <!-- 6 -->\n      <g transform=\"translate(265.132955 254.356562)scale(0.1 -0.1)\">\n       <defs>\n        <path d=\"M 2113 2584 \nQ 1688 2584 1439 2293 \nQ 1191 2003 1191 1497 \nQ 1191 994 1439 701 \nQ 1688 409 2113 409 \nQ 2538 409 2786 701 \nQ 3034 994 3034 1497 \nQ 3034 2003 2786 2293 \nQ 2538 2584 2113 2584 \nz\nM 3366 4563 \nL 3366 3988 \nQ 3128 4100 2886 4159 \nQ 2644 4219 2406 4219 \nQ 1781 4219 1451 3797 \nQ 1122 3375 1075 2522 \nQ 1259 2794 1537 2939 \nQ 1816 3084 2150 3084 \nQ 2853 3084 3261 2657 \nQ 3669 2231 3669 1497 \nQ 3669 778 3244 343 \nQ 2819 -91 2113 -91 \nQ 1303 -91 875 529 \nQ 447 1150 447 2328 \nQ 447 3434 972 4092 \nQ 1497 4750 2381 4750 \nQ 2619 4750 2861 4703 \nQ 3103 4656 3366 4563 \nz\n\" id=\"DejaVuSans-36\" transform=\"scale(0.015625)\"/>\n       </defs>\n       <use xlink:href=\"#DejaVuSans-36\"/>\n      </g>\n     </g>\n    </g>\n    <g id=\"xtick_7\">\n     <g id=\"line2d_7\">\n      <g>\n       <use style=\"stroke:#000000;stroke-width:0.8;\" x=\"306.359659\" xlink:href=\"#mdec88a0444\" y=\"239.758125\"/>\n      </g>\n     </g>\n     <g id=\"text_7\">\n      <!-- 7 -->\n      <g transform=\"translate(303.178409 254.356562)scale(0.1 -0.1)\">\n       <defs>\n        <path d=\"M 525 4666 \nL 3525 4666 \nL 3525 4397 \nL 1831 0 \nL 1172 0 \nL 2766 4134 \nL 525 4134 \nL 525 4666 \nz\n\" id=\"DejaVuSans-37\" transform=\"scale(0.015625)\"/>\n       </defs>\n       <use xlink:href=\"#DejaVuSans-37\"/>\n      </g>\n     </g>\n    </g>\n    <g id=\"xtick_8\">\n     <g id=\"line2d_8\">\n      <g>\n       <use style=\"stroke:#000000;stroke-width:0.8;\" x=\"344.405114\" xlink:href=\"#mdec88a0444\" y=\"239.758125\"/>\n      </g>\n     </g>\n     <g id=\"text_8\">\n      <!-- 8 -->\n      <g transform=\"translate(341.223864 254.356562)scale(0.1 -0.1)\">\n       <defs>\n        <path d=\"M 2034 2216 \nQ 1584 2216 1326 1975 \nQ 1069 1734 1069 1313 \nQ 1069 891 1326 650 \nQ 1584 409 2034 409 \nQ 2484 409 2743 651 \nQ 3003 894 3003 1313 \nQ 3003 1734 2745 1975 \nQ 2488 2216 2034 2216 \nz\nM 1403 2484 \nQ 997 2584 770 2862 \nQ 544 3141 544 3541 \nQ 544 4100 942 4425 \nQ 1341 4750 2034 4750 \nQ 2731 4750 3128 4425 \nQ 3525 4100 3525 3541 \nQ 3525 3141 3298 2862 \nQ 3072 2584 2669 2484 \nQ 3125 2378 3379 2068 \nQ 3634 1759 3634 1313 \nQ 3634 634 3220 271 \nQ 2806 -91 2034 -91 \nQ 1263 -91 848 271 \nQ 434 634 434 1313 \nQ 434 1759 690 2068 \nQ 947 2378 1403 2484 \nz\nM 1172 3481 \nQ 1172 3119 1398 2916 \nQ 1625 2713 2034 2713 \nQ 2441 2713 2670 2916 \nQ 2900 3119 2900 3481 \nQ 2900 3844 2670 4047 \nQ 2441 4250 2034 4250 \nQ 1625 4250 1398 4047 \nQ 1172 3844 1172 3481 \nz\n\" id=\"DejaVuSans-38\" transform=\"scale(0.015625)\"/>\n       </defs>\n       <use xlink:href=\"#DejaVuSans-38\"/>\n      </g>\n     </g>\n    </g>\n    <g id=\"xtick_9\">\n     <g id=\"line2d_9\">\n      <g>\n       <use style=\"stroke:#000000;stroke-width:0.8;\" x=\"382.450568\" xlink:href=\"#mdec88a0444\" y=\"239.758125\"/>\n      </g>\n     </g>\n     <g id=\"text_9\">\n      <!-- 9 -->\n      <g transform=\"translate(379.269318 254.356562)scale(0.1 -0.1)\">\n       <defs>\n        <path d=\"M 703 97 \nL 703 672 \nQ 941 559 1184 500 \nQ 1428 441 1663 441 \nQ 2288 441 2617 861 \nQ 2947 1281 2994 2138 \nQ 2813 1869 2534 1725 \nQ 2256 1581 1919 1581 \nQ 1219 1581 811 2004 \nQ 403 2428 403 3163 \nQ 403 3881 828 4315 \nQ 1253 4750 1959 4750 \nQ 2769 4750 3195 4129 \nQ 3622 3509 3622 2328 \nQ 3622 1225 3098 567 \nQ 2575 -91 1691 -91 \nQ 1453 -91 1209 -44 \nQ 966 3 703 97 \nz\nM 1959 2075 \nQ 2384 2075 2632 2365 \nQ 2881 2656 2881 3163 \nQ 2881 3666 2632 3958 \nQ 2384 4250 1959 4250 \nQ 1534 4250 1286 3958 \nQ 1038 3666 1038 3163 \nQ 1038 2656 1286 2365 \nQ 1534 2075 1959 2075 \nz\n\" id=\"DejaVuSans-39\" transform=\"scale(0.015625)\"/>\n       </defs>\n       <use xlink:href=\"#DejaVuSans-39\"/>\n      </g>\n     </g>\n    </g>\n    <g id=\"text_10\">\n     <!-- Values of K -->\n     <g transform=\"translate(202.65625 268.034687)scale(0.1 -0.1)\">\n      <defs>\n       <path d=\"M 1831 0 \nL 50 4666 \nL 709 4666 \nL 2188 738 \nL 3669 4666 \nL 4325 4666 \nL 2547 0 \nL 1831 0 \nz\n\" id=\"DejaVuSans-56\" transform=\"scale(0.015625)\"/>\n       <path d=\"M 2194 1759 \nQ 1497 1759 1228 1600 \nQ 959 1441 959 1056 \nQ 959 750 1161 570 \nQ 1363 391 1709 391 \nQ 2188 391 2477 730 \nQ 2766 1069 2766 1631 \nL 2766 1759 \nL 2194 1759 \nz\nM 3341 1997 \nL 3341 0 \nL 2766 0 \nL 2766 531 \nQ 2569 213 2275 61 \nQ 1981 -91 1556 -91 \nQ 1019 -91 701 211 \nQ 384 513 384 1019 \nQ 384 1609 779 1909 \nQ 1175 2209 1959 2209 \nL 2766 2209 \nL 2766 2266 \nQ 2766 2663 2505 2880 \nQ 2244 3097 1772 3097 \nQ 1472 3097 1187 3025 \nQ 903 2953 641 2809 \nL 641 3341 \nQ 956 3463 1253 3523 \nQ 1550 3584 1831 3584 \nQ 2591 3584 2966 3190 \nQ 3341 2797 3341 1997 \nz\n\" id=\"DejaVuSans-61\" transform=\"scale(0.015625)\"/>\n       <path d=\"M 603 4863 \nL 1178 4863 \nL 1178 0 \nL 603 0 \nL 603 4863 \nz\n\" id=\"DejaVuSans-6c\" transform=\"scale(0.015625)\"/>\n       <path d=\"M 544 1381 \nL 544 3500 \nL 1119 3500 \nL 1119 1403 \nQ 1119 906 1312 657 \nQ 1506 409 1894 409 \nQ 2359 409 2629 706 \nQ 2900 1003 2900 1516 \nL 2900 3500 \nL 3475 3500 \nL 3475 0 \nL 2900 0 \nL 2900 538 \nQ 2691 219 2414 64 \nQ 2138 -91 1772 -91 \nQ 1169 -91 856 284 \nQ 544 659 544 1381 \nz\nM 1991 3584 \nL 1991 3584 \nz\n\" id=\"DejaVuSans-75\" transform=\"scale(0.015625)\"/>\n       <path d=\"M 3597 1894 \nL 3597 1613 \nL 953 1613 \nQ 991 1019 1311 708 \nQ 1631 397 2203 397 \nQ 2534 397 2845 478 \nQ 3156 559 3463 722 \nL 3463 178 \nQ 3153 47 2828 -22 \nQ 2503 -91 2169 -91 \nQ 1331 -91 842 396 \nQ 353 884 353 1716 \nQ 353 2575 817 3079 \nQ 1281 3584 2069 3584 \nQ 2775 3584 3186 3129 \nQ 3597 2675 3597 1894 \nz\nM 3022 2063 \nQ 3016 2534 2758 2815 \nQ 2500 3097 2075 3097 \nQ 1594 3097 1305 2825 \nQ 1016 2553 972 2059 \nL 3022 2063 \nz\n\" id=\"DejaVuSans-65\" transform=\"scale(0.015625)\"/>\n       <path d=\"M 2834 3397 \nL 2834 2853 \nQ 2591 2978 2328 3040 \nQ 2066 3103 1784 3103 \nQ 1356 3103 1142 2972 \nQ 928 2841 928 2578 \nQ 928 2378 1081 2264 \nQ 1234 2150 1697 2047 \nL 1894 2003 \nQ 2506 1872 2764 1633 \nQ 3022 1394 3022 966 \nQ 3022 478 2636 193 \nQ 2250 -91 1575 -91 \nQ 1294 -91 989 -36 \nQ 684 19 347 128 \nL 347 722 \nQ 666 556 975 473 \nQ 1284 391 1588 391 \nQ 1994 391 2212 530 \nQ 2431 669 2431 922 \nQ 2431 1156 2273 1281 \nQ 2116 1406 1581 1522 \nL 1381 1569 \nQ 847 1681 609 1914 \nQ 372 2147 372 2553 \nQ 372 3047 722 3315 \nQ 1072 3584 1716 3584 \nQ 2034 3584 2315 3537 \nQ 2597 3491 2834 3397 \nz\n\" id=\"DejaVuSans-73\" transform=\"scale(0.015625)\"/>\n       <path id=\"DejaVuSans-20\" transform=\"scale(0.015625)\"/>\n       <path d=\"M 1959 3097 \nQ 1497 3097 1228 2736 \nQ 959 2375 959 1747 \nQ 959 1119 1226 758 \nQ 1494 397 1959 397 \nQ 2419 397 2687 759 \nQ 2956 1122 2956 1747 \nQ 2956 2369 2687 2733 \nQ 2419 3097 1959 3097 \nz\nM 1959 3584 \nQ 2709 3584 3137 3096 \nQ 3566 2609 3566 1747 \nQ 3566 888 3137 398 \nQ 2709 -91 1959 -91 \nQ 1206 -91 779 398 \nQ 353 888 353 1747 \nQ 353 2609 779 3096 \nQ 1206 3584 1959 3584 \nz\n\" id=\"DejaVuSans-6f\" transform=\"scale(0.015625)\"/>\n       <path d=\"M 2375 4863 \nL 2375 4384 \nL 1825 4384 \nQ 1516 4384 1395 4259 \nQ 1275 4134 1275 3809 \nL 1275 3500 \nL 2222 3500 \nL 2222 3053 \nL 1275 3053 \nL 1275 0 \nL 697 0 \nL 697 3053 \nL 147 3053 \nL 147 3500 \nL 697 3500 \nL 697 3744 \nQ 697 4328 969 4595 \nQ 1241 4863 1831 4863 \nL 2375 4863 \nz\n\" id=\"DejaVuSans-66\" transform=\"scale(0.015625)\"/>\n       <path d=\"M 628 4666 \nL 1259 4666 \nL 1259 2694 \nL 3353 4666 \nL 4166 4666 \nL 1850 2491 \nL 4331 0 \nL 3500 0 \nL 1259 2247 \nL 1259 0 \nL 628 0 \nL 628 4666 \nz\n\" id=\"DejaVuSans-4b\" transform=\"scale(0.015625)\"/>\n      </defs>\n      <use xlink:href=\"#DejaVuSans-56\"/>\n      <use x=\"60.658203\" xlink:href=\"#DejaVuSans-61\"/>\n      <use x=\"121.9375\" xlink:href=\"#DejaVuSans-6c\"/>\n      <use x=\"149.720703\" xlink:href=\"#DejaVuSans-75\"/>\n      <use x=\"213.099609\" xlink:href=\"#DejaVuSans-65\"/>\n      <use x=\"274.623047\" xlink:href=\"#DejaVuSans-73\"/>\n      <use x=\"326.722656\" xlink:href=\"#DejaVuSans-20\"/>\n      <use x=\"358.509766\" xlink:href=\"#DejaVuSans-6f\"/>\n      <use x=\"419.691406\" xlink:href=\"#DejaVuSans-66\"/>\n      <use x=\"454.896484\" xlink:href=\"#DejaVuSans-20\"/>\n      <use x=\"486.683594\" xlink:href=\"#DejaVuSans-4b\"/>\n     </g>\n    </g>\n   </g>\n   <g id=\"matplotlib.axis_2\">\n    <g id=\"ytick_1\">\n     <g id=\"line2d_10\">\n      <defs>\n       <path d=\"M 0 0 \nL -3.5 0 \n\" id=\"m68056d8a1c\" style=\"stroke:#000000;stroke-width:0.8;\"/>\n      </defs>\n      <g>\n       <use style=\"stroke:#000000;stroke-width:0.8;\" x=\"62.86875\" xlink:href=\"#m68056d8a1c\" y=\"210.325111\"/>\n      </g>\n     </g>\n     <g id=\"text_11\">\n      <!-- 0.0010 -->\n      <g transform=\"translate(20.878125 214.124329)scale(0.1 -0.1)\">\n       <defs>\n        <path d=\"M 2034 4250 \nQ 1547 4250 1301 3770 \nQ 1056 3291 1056 2328 \nQ 1056 1369 1301 889 \nQ 1547 409 2034 409 \nQ 2525 409 2770 889 \nQ 3016 1369 3016 2328 \nQ 3016 3291 2770 3770 \nQ 2525 4250 2034 4250 \nz\nM 2034 4750 \nQ 2819 4750 3233 4129 \nQ 3647 3509 3647 2328 \nQ 3647 1150 3233 529 \nQ 2819 -91 2034 -91 \nQ 1250 -91 836 529 \nQ 422 1150 422 2328 \nQ 422 3509 836 4129 \nQ 1250 4750 2034 4750 \nz\n\" id=\"DejaVuSans-30\" transform=\"scale(0.015625)\"/>\n        <path d=\"M 684 794 \nL 1344 794 \nL 1344 0 \nL 684 0 \nL 684 794 \nz\n\" id=\"DejaVuSans-2e\" transform=\"scale(0.015625)\"/>\n       </defs>\n       <use xlink:href=\"#DejaVuSans-30\"/>\n       <use x=\"63.623047\" xlink:href=\"#DejaVuSans-2e\"/>\n       <use x=\"95.410156\" xlink:href=\"#DejaVuSans-30\"/>\n       <use x=\"159.033203\" xlink:href=\"#DejaVuSans-30\"/>\n       <use x=\"222.65625\" xlink:href=\"#DejaVuSans-31\"/>\n       <use x=\"286.279297\" xlink:href=\"#DejaVuSans-30\"/>\n      </g>\n     </g>\n    </g>\n    <g id=\"ytick_2\">\n     <g id=\"line2d_11\">\n      <g>\n       <use style=\"stroke:#000000;stroke-width:0.8;\" x=\"62.86875\" xlink:href=\"#m68056d8a1c\" y=\"165.782397\"/>\n      </g>\n     </g>\n     <g id=\"text_12\">\n      <!-- 0.0012 -->\n      <g transform=\"translate(20.878125 169.581616)scale(0.1 -0.1)\">\n       <use xlink:href=\"#DejaVuSans-30\"/>\n       <use x=\"63.623047\" xlink:href=\"#DejaVuSans-2e\"/>\n       <use x=\"95.410156\" xlink:href=\"#DejaVuSans-30\"/>\n       <use x=\"159.033203\" xlink:href=\"#DejaVuSans-30\"/>\n       <use x=\"222.65625\" xlink:href=\"#DejaVuSans-31\"/>\n       <use x=\"286.279297\" xlink:href=\"#DejaVuSans-32\"/>\n      </g>\n     </g>\n    </g>\n    <g id=\"ytick_3\">\n     <g id=\"line2d_12\">\n      <g>\n       <use style=\"stroke:#000000;stroke-width:0.8;\" x=\"62.86875\" xlink:href=\"#m68056d8a1c\" y=\"121.239683\"/>\n      </g>\n     </g>\n     <g id=\"text_13\">\n      <!-- 0.0014 -->\n      <g transform=\"translate(20.878125 125.038902)scale(0.1 -0.1)\">\n       <use xlink:href=\"#DejaVuSans-30\"/>\n       <use x=\"63.623047\" xlink:href=\"#DejaVuSans-2e\"/>\n       <use x=\"95.410156\" xlink:href=\"#DejaVuSans-30\"/>\n       <use x=\"159.033203\" xlink:href=\"#DejaVuSans-30\"/>\n       <use x=\"222.65625\" xlink:href=\"#DejaVuSans-31\"/>\n       <use x=\"286.279297\" xlink:href=\"#DejaVuSans-34\"/>\n      </g>\n     </g>\n    </g>\n    <g id=\"ytick_4\">\n     <g id=\"line2d_13\">\n      <g>\n       <use style=\"stroke:#000000;stroke-width:0.8;\" x=\"62.86875\" xlink:href=\"#m68056d8a1c\" y=\"76.69697\"/>\n      </g>\n     </g>\n     <g id=\"text_14\">\n      <!-- 0.0016 -->\n      <g transform=\"translate(20.878125 80.496189)scale(0.1 -0.1)\">\n       <use xlink:href=\"#DejaVuSans-30\"/>\n       <use x=\"63.623047\" xlink:href=\"#DejaVuSans-2e\"/>\n       <use x=\"95.410156\" xlink:href=\"#DejaVuSans-30\"/>\n       <use x=\"159.033203\" xlink:href=\"#DejaVuSans-30\"/>\n       <use x=\"222.65625\" xlink:href=\"#DejaVuSans-31\"/>\n       <use x=\"286.279297\" xlink:href=\"#DejaVuSans-36\"/>\n      </g>\n     </g>\n    </g>\n    <g id=\"ytick_5\">\n     <g id=\"line2d_14\">\n      <g>\n       <use style=\"stroke:#000000;stroke-width:0.8;\" x=\"62.86875\" xlink:href=\"#m68056d8a1c\" y=\"32.154256\"/>\n      </g>\n     </g>\n     <g id=\"text_15\">\n      <!-- 0.0018 -->\n      <g transform=\"translate(20.878125 35.953475)scale(0.1 -0.1)\">\n       <use xlink:href=\"#DejaVuSans-30\"/>\n       <use x=\"63.623047\" xlink:href=\"#DejaVuSans-2e\"/>\n       <use x=\"95.410156\" xlink:href=\"#DejaVuSans-30\"/>\n       <use x=\"159.033203\" xlink:href=\"#DejaVuSans-30\"/>\n       <use x=\"222.65625\" xlink:href=\"#DejaVuSans-31\"/>\n       <use x=\"286.279297\" xlink:href=\"#DejaVuSans-38\"/>\n      </g>\n     </g>\n    </g>\n    <g id=\"text_16\">\n     <!-- Distortion -->\n     <g transform=\"translate(14.798438 155.534219)rotate(-90)scale(0.1 -0.1)\">\n      <defs>\n       <path d=\"M 1259 4147 \nL 1259 519 \nL 2022 519 \nQ 2988 519 3436 956 \nQ 3884 1394 3884 2338 \nQ 3884 3275 3436 3711 \nQ 2988 4147 2022 4147 \nL 1259 4147 \nz\nM 628 4666 \nL 1925 4666 \nQ 3281 4666 3915 4102 \nQ 4550 3538 4550 2338 \nQ 4550 1131 3912 565 \nQ 3275 0 1925 0 \nL 628 0 \nL 628 4666 \nz\n\" id=\"DejaVuSans-44\" transform=\"scale(0.015625)\"/>\n       <path d=\"M 603 3500 \nL 1178 3500 \nL 1178 0 \nL 603 0 \nL 603 3500 \nz\nM 603 4863 \nL 1178 4863 \nL 1178 4134 \nL 603 4134 \nL 603 4863 \nz\n\" id=\"DejaVuSans-69\" transform=\"scale(0.015625)\"/>\n       <path d=\"M 1172 4494 \nL 1172 3500 \nL 2356 3500 \nL 2356 3053 \nL 1172 3053 \nL 1172 1153 \nQ 1172 725 1289 603 \nQ 1406 481 1766 481 \nL 2356 481 \nL 2356 0 \nL 1766 0 \nQ 1100 0 847 248 \nQ 594 497 594 1153 \nL 594 3053 \nL 172 3053 \nL 172 3500 \nL 594 3500 \nL 594 4494 \nL 1172 4494 \nz\n\" id=\"DejaVuSans-74\" transform=\"scale(0.015625)\"/>\n       <path d=\"M 2631 2963 \nQ 2534 3019 2420 3045 \nQ 2306 3072 2169 3072 \nQ 1681 3072 1420 2755 \nQ 1159 2438 1159 1844 \nL 1159 0 \nL 581 0 \nL 581 3500 \nL 1159 3500 \nL 1159 2956 \nQ 1341 3275 1631 3429 \nQ 1922 3584 2338 3584 \nQ 2397 3584 2469 3576 \nQ 2541 3569 2628 3553 \nL 2631 2963 \nz\n\" id=\"DejaVuSans-72\" transform=\"scale(0.015625)\"/>\n       <path d=\"M 3513 2113 \nL 3513 0 \nL 2938 0 \nL 2938 2094 \nQ 2938 2591 2744 2837 \nQ 2550 3084 2163 3084 \nQ 1697 3084 1428 2787 \nQ 1159 2491 1159 1978 \nL 1159 0 \nL 581 0 \nL 581 3500 \nL 1159 3500 \nL 1159 2956 \nQ 1366 3272 1645 3428 \nQ 1925 3584 2291 3584 \nQ 2894 3584 3203 3211 \nQ 3513 2838 3513 2113 \nz\n\" id=\"DejaVuSans-6e\" transform=\"scale(0.015625)\"/>\n      </defs>\n      <use xlink:href=\"#DejaVuSans-44\"/>\n      <use x=\"77.001953\" xlink:href=\"#DejaVuSans-69\"/>\n      <use x=\"104.785156\" xlink:href=\"#DejaVuSans-73\"/>\n      <use x=\"156.884766\" xlink:href=\"#DejaVuSans-74\"/>\n      <use x=\"196.09375\" xlink:href=\"#DejaVuSans-6f\"/>\n      <use x=\"257.275391\" xlink:href=\"#DejaVuSans-72\"/>\n      <use x=\"298.388672\" xlink:href=\"#DejaVuSans-74\"/>\n      <use x=\"337.597656\" xlink:href=\"#DejaVuSans-69\"/>\n      <use x=\"365.380859\" xlink:href=\"#DejaVuSans-6f\"/>\n      <use x=\"426.5625\" xlink:href=\"#DejaVuSans-6e\"/>\n     </g>\n    </g>\n   </g>\n   <g id=\"line2d_15\">\n    <path clip-path=\"url(#p5c45964a5f)\" d=\"M 78.086932 32.201761 \nL 116.132386 38.66048 \nL 154.177841 117.970402 \nL 192.223295 141.711069 \nL 230.26875 151.603006 \nL 268.314205 183.918325 \nL 306.359659 190.229246 \nL 344.405114 214.796714 \nL 382.450568 229.874489 \n\" style=\"fill:none;stroke:#0000ff;stroke-linecap:square;stroke-width:1.5;\"/>\n    <defs>\n     <path d=\"M -3 3 \nL 3 -3 \nM -3 -3 \nL 3 3 \n\" id=\"ma242bd2971\" style=\"stroke:#0000ff;\"/>\n    </defs>\n    <g clip-path=\"url(#p5c45964a5f)\">\n     <use style=\"fill:#0000ff;stroke:#0000ff;\" x=\"78.086932\" xlink:href=\"#ma242bd2971\" y=\"32.201761\"/>\n     <use style=\"fill:#0000ff;stroke:#0000ff;\" x=\"116.132386\" xlink:href=\"#ma242bd2971\" y=\"38.66048\"/>\n     <use style=\"fill:#0000ff;stroke:#0000ff;\" x=\"154.177841\" xlink:href=\"#ma242bd2971\" y=\"117.970402\"/>\n     <use style=\"fill:#0000ff;stroke:#0000ff;\" x=\"192.223295\" xlink:href=\"#ma242bd2971\" y=\"141.711069\"/>\n     <use style=\"fill:#0000ff;stroke:#0000ff;\" x=\"230.26875\" xlink:href=\"#ma242bd2971\" y=\"151.603006\"/>\n     <use style=\"fill:#0000ff;stroke:#0000ff;\" x=\"268.314205\" xlink:href=\"#ma242bd2971\" y=\"183.918325\"/>\n     <use style=\"fill:#0000ff;stroke:#0000ff;\" x=\"306.359659\" xlink:href=\"#ma242bd2971\" y=\"190.229246\"/>\n     <use style=\"fill:#0000ff;stroke:#0000ff;\" x=\"344.405114\" xlink:href=\"#ma242bd2971\" y=\"214.796714\"/>\n     <use style=\"fill:#0000ff;stroke:#0000ff;\" x=\"382.450568\" xlink:href=\"#ma242bd2971\" y=\"229.874489\"/>\n    </g>\n   </g>\n   <g id=\"patch_3\">\n    <path d=\"M 62.86875 239.758125 \nL 62.86875 22.318125 \n\" style=\"fill:none;stroke:#000000;stroke-linecap:square;stroke-linejoin:miter;stroke-width:0.8;\"/>\n   </g>\n   <g id=\"patch_4\">\n    <path d=\"M 397.66875 239.758125 \nL 397.66875 22.318125 \n\" style=\"fill:none;stroke:#000000;stroke-linecap:square;stroke-linejoin:miter;stroke-width:0.8;\"/>\n   </g>\n   <g id=\"patch_5\">\n    <path d=\"M 62.86875 239.758125 \nL 397.66875 239.758125 \n\" style=\"fill:none;stroke:#000000;stroke-linecap:square;stroke-linejoin:miter;stroke-width:0.8;\"/>\n   </g>\n   <g id=\"patch_6\">\n    <path d=\"M 62.86875 22.318125 \nL 397.66875 22.318125 \n\" style=\"fill:none;stroke:#000000;stroke-linecap:square;stroke-linejoin:miter;stroke-width:0.8;\"/>\n   </g>\n   <g id=\"text_17\">\n    <!-- The Elbow Method using Distortion -->\n    <g transform=\"translate(125.53125 16.318125)scale(0.12 -0.12)\">\n     <defs>\n      <path d=\"M -19 4666 \nL 3928 4666 \nL 3928 4134 \nL 2272 4134 \nL 2272 0 \nL 1638 0 \nL 1638 4134 \nL -19 4134 \nL -19 4666 \nz\n\" id=\"DejaVuSans-54\" transform=\"scale(0.015625)\"/>\n      <path d=\"M 3513 2113 \nL 3513 0 \nL 2938 0 \nL 2938 2094 \nQ 2938 2591 2744 2837 \nQ 2550 3084 2163 3084 \nQ 1697 3084 1428 2787 \nQ 1159 2491 1159 1978 \nL 1159 0 \nL 581 0 \nL 581 4863 \nL 1159 4863 \nL 1159 2956 \nQ 1366 3272 1645 3428 \nQ 1925 3584 2291 3584 \nQ 2894 3584 3203 3211 \nQ 3513 2838 3513 2113 \nz\n\" id=\"DejaVuSans-68\" transform=\"scale(0.015625)\"/>\n      <path d=\"M 628 4666 \nL 3578 4666 \nL 3578 4134 \nL 1259 4134 \nL 1259 2753 \nL 3481 2753 \nL 3481 2222 \nL 1259 2222 \nL 1259 531 \nL 3634 531 \nL 3634 0 \nL 628 0 \nL 628 4666 \nz\n\" id=\"DejaVuSans-45\" transform=\"scale(0.015625)\"/>\n      <path d=\"M 3116 1747 \nQ 3116 2381 2855 2742 \nQ 2594 3103 2138 3103 \nQ 1681 3103 1420 2742 \nQ 1159 2381 1159 1747 \nQ 1159 1113 1420 752 \nQ 1681 391 2138 391 \nQ 2594 391 2855 752 \nQ 3116 1113 3116 1747 \nz\nM 1159 2969 \nQ 1341 3281 1617 3432 \nQ 1894 3584 2278 3584 \nQ 2916 3584 3314 3078 \nQ 3713 2572 3713 1747 \nQ 3713 922 3314 415 \nQ 2916 -91 2278 -91 \nQ 1894 -91 1617 61 \nQ 1341 213 1159 525 \nL 1159 0 \nL 581 0 \nL 581 4863 \nL 1159 4863 \nL 1159 2969 \nz\n\" id=\"DejaVuSans-62\" transform=\"scale(0.015625)\"/>\n      <path d=\"M 269 3500 \nL 844 3500 \nL 1563 769 \nL 2278 3500 \nL 2956 3500 \nL 3675 769 \nL 4391 3500 \nL 4966 3500 \nL 4050 0 \nL 3372 0 \nL 2619 2869 \nL 1863 0 \nL 1184 0 \nL 269 3500 \nz\n\" id=\"DejaVuSans-77\" transform=\"scale(0.015625)\"/>\n      <path d=\"M 628 4666 \nL 1569 4666 \nL 2759 1491 \nL 3956 4666 \nL 4897 4666 \nL 4897 0 \nL 4281 0 \nL 4281 4097 \nL 3078 897 \nL 2444 897 \nL 1241 4097 \nL 1241 0 \nL 628 0 \nL 628 4666 \nz\n\" id=\"DejaVuSans-4d\" transform=\"scale(0.015625)\"/>\n      <path d=\"M 2906 2969 \nL 2906 4863 \nL 3481 4863 \nL 3481 0 \nL 2906 0 \nL 2906 525 \nQ 2725 213 2448 61 \nQ 2172 -91 1784 -91 \nQ 1150 -91 751 415 \nQ 353 922 353 1747 \nQ 353 2572 751 3078 \nQ 1150 3584 1784 3584 \nQ 2172 3584 2448 3432 \nQ 2725 3281 2906 2969 \nz\nM 947 1747 \nQ 947 1113 1208 752 \nQ 1469 391 1925 391 \nQ 2381 391 2643 752 \nQ 2906 1113 2906 1747 \nQ 2906 2381 2643 2742 \nQ 2381 3103 1925 3103 \nQ 1469 3103 1208 2742 \nQ 947 2381 947 1747 \nz\n\" id=\"DejaVuSans-64\" transform=\"scale(0.015625)\"/>\n      <path d=\"M 2906 1791 \nQ 2906 2416 2648 2759 \nQ 2391 3103 1925 3103 \nQ 1463 3103 1205 2759 \nQ 947 2416 947 1791 \nQ 947 1169 1205 825 \nQ 1463 481 1925 481 \nQ 2391 481 2648 825 \nQ 2906 1169 2906 1791 \nz\nM 3481 434 \nQ 3481 -459 3084 -895 \nQ 2688 -1331 1869 -1331 \nQ 1566 -1331 1297 -1286 \nQ 1028 -1241 775 -1147 \nL 775 -588 \nQ 1028 -725 1275 -790 \nQ 1522 -856 1778 -856 \nQ 2344 -856 2625 -561 \nQ 2906 -266 2906 331 \nL 2906 616 \nQ 2728 306 2450 153 \nQ 2172 0 1784 0 \nQ 1141 0 747 490 \nQ 353 981 353 1791 \nQ 353 2603 747 3093 \nQ 1141 3584 1784 3584 \nQ 2172 3584 2450 3431 \nQ 2728 3278 2906 2969 \nL 2906 3500 \nL 3481 3500 \nL 3481 434 \nz\n\" id=\"DejaVuSans-67\" transform=\"scale(0.015625)\"/>\n     </defs>\n     <use xlink:href=\"#DejaVuSans-54\"/>\n     <use x=\"61.083984\" xlink:href=\"#DejaVuSans-68\"/>\n     <use x=\"124.462891\" xlink:href=\"#DejaVuSans-65\"/>\n     <use x=\"185.986328\" xlink:href=\"#DejaVuSans-20\"/>\n     <use x=\"217.773438\" xlink:href=\"#DejaVuSans-45\"/>\n     <use x=\"280.957031\" xlink:href=\"#DejaVuSans-6c\"/>\n     <use x=\"308.740234\" xlink:href=\"#DejaVuSans-62\"/>\n     <use x=\"372.216797\" xlink:href=\"#DejaVuSans-6f\"/>\n     <use x=\"433.398438\" xlink:href=\"#DejaVuSans-77\"/>\n     <use x=\"515.185547\" xlink:href=\"#DejaVuSans-20\"/>\n     <use x=\"546.972656\" xlink:href=\"#DejaVuSans-4d\"/>\n     <use x=\"633.251953\" xlink:href=\"#DejaVuSans-65\"/>\n     <use x=\"694.775391\" xlink:href=\"#DejaVuSans-74\"/>\n     <use x=\"733.984375\" xlink:href=\"#DejaVuSans-68\"/>\n     <use x=\"797.363281\" xlink:href=\"#DejaVuSans-6f\"/>\n     <use x=\"858.544922\" xlink:href=\"#DejaVuSans-64\"/>\n     <use x=\"922.021484\" xlink:href=\"#DejaVuSans-20\"/>\n     <use x=\"953.808594\" xlink:href=\"#DejaVuSans-75\"/>\n     <use x=\"1017.1875\" xlink:href=\"#DejaVuSans-73\"/>\n     <use x=\"1069.287109\" xlink:href=\"#DejaVuSans-69\"/>\n     <use x=\"1097.070312\" xlink:href=\"#DejaVuSans-6e\"/>\n     <use x=\"1160.449219\" xlink:href=\"#DejaVuSans-67\"/>\n     <use x=\"1223.925781\" xlink:href=\"#DejaVuSans-20\"/>\n     <use x=\"1255.712891\" xlink:href=\"#DejaVuSans-44\"/>\n     <use x=\"1332.714844\" xlink:href=\"#DejaVuSans-69\"/>\n     <use x=\"1360.498047\" xlink:href=\"#DejaVuSans-73\"/>\n     <use x=\"1412.597656\" xlink:href=\"#DejaVuSans-74\"/>\n     <use x=\"1451.806641\" xlink:href=\"#DejaVuSans-6f\"/>\n     <use x=\"1512.988281\" xlink:href=\"#DejaVuSans-72\"/>\n     <use x=\"1554.101562\" xlink:href=\"#DejaVuSans-74\"/>\n     <use x=\"1593.310547\" xlink:href=\"#DejaVuSans-69\"/>\n     <use x=\"1621.09375\" xlink:href=\"#DejaVuSans-6f\"/>\n     <use x=\"1682.275391\" xlink:href=\"#DejaVuSans-6e\"/>\n    </g>\n   </g>\n  </g>\n </g>\n <defs>\n  <clipPath id=\"p5c45964a5f\">\n   <rect height=\"217.44\" width=\"334.8\" x=\"62.86875\" y=\"22.318125\"/>\n  </clipPath>\n </defs>\n</svg>\n",
      "image/png": "[encoded data removed]"
     },
     "metadata": {
      "needs_background": "light"
     }
    }
   ],
   "source": [
    "plt.plot(K, distortions, 'bx-')\n",
    "plt.xlabel('Values of K')\n",
    "plt.ylabel('Distortion')\n",
    "plt.title('The Elbow Method using Distortion')\n",
    "plt.show()"
   ]
  },
  {
   "cell_type": "code",
   "execution_count": 133,
   "metadata": {},
   "outputs": [
    {
     "output_type": "execute_result",
     "data": {
      "text/plain": [
       "KMeans(n_clusters=5)"
      ]
     },
     "metadata": {},
     "execution_count": 133
    }
   ],
   "source": [
    "# k = 5\n",
    "kmeanModel = KMeans(n_clusters=5).fit(X_train)\n",
    "kmeanModel.fit(X_test)"
   ]
  },
  {
   "cell_type": "code",
   "execution_count": 136,
   "metadata": {},
   "outputs": [
    {
     "output_type": "execute_result",
     "data": {
      "text/plain": [
       "array([[0.00088937, 0.00048604],\n",
       "       [0.00236501, 0.00293069],\n",
       "       [0.00086311, 0.00135859],\n",
       "       [0.00436399, 0.00475034],\n",
       "       [0.0019052 , 0.00165641]])"
      ]
     },
     "metadata": {},
     "execution_count": 136
    }
   ],
   "source": [
    "kmeanModel.cluster_centers_"
   ]
  },
  {
   "cell_type": "code",
   "execution_count": null,
   "metadata": {},
   "outputs": [],
   "source": [
    "# Compute the minimum, maximum, average & total non- normalized metrics for each cluster.\n"
   ]
  },
  {
   "cell_type": "code",
   "execution_count": null,
   "metadata": {},
   "outputs": [],
   "source": []
  },
  {
   "source": [
    "Now we aggregate application data for each user\n"
   ],
   "cell_type": "markdown",
   "metadata": {}
  },
  {
   "cell_type": "code",
   "execution_count": 55,
   "metadata": {},
   "outputs": [
    {
     "output_type": "stream",
     "name": "stdout",
     "text": [
      "printing top 10 users based on Social Media UL\nMSISDN/Number\n3.366371e+10    3.615635e+07\n3.362632e+10    6.309420e+05\n3.362578e+10    5.713790e+05\n3.367588e+10    5.675570e+05\n3.361489e+10    5.448000e+05\n3.365973e+10    5.119140e+05\n3.366716e+10    4.940970e+05\n3.376054e+10    4.855430e+05\n3.365836e+10    4.201460e+05\n3.365936e+10    4.095640e+05\nName: Social Media UL (Bytes), dtype: float64\n\n\nprinting top 10 users based on Social Media DL\nMSISDN/Number\n3.366371e+10    1.938043e+09\n3.362632e+10    4.274384e+07\n3.376054e+10    3.929765e+07\n3.365973e+10    3.490044e+07\n3.361489e+10    2.774974e+07\n3.362578e+10    2.656412e+07\n3.366716e+10    2.375375e+07\n3.378632e+10    2.356866e+07\n3.366907e+10    2.347705e+07\n3.360313e+10    2.277668e+07\nName: Social Media DL (Bytes), dtype: float64\n"
     ]
    }
   ],
   "source": [
    "app_names = ['Social Media', 'Google', 'Email', 'Youtube', 'Netflix', 'Gaming', 'Other']\n",
    "dict_app_UL = {app_name: df_user[app_name+\" UL (Bytes)\"].sum().sort_values(ascending=False) for app_name in app_names}\n",
    "dict_app_DL = {app_name: df_user[app_name+\" DL (Bytes)\"].sum().sort_values(ascending=False) for app_name in app_names}\n",
    "print(\"printing top 10 users based on Social Media UL\")\n",
    "print(dict_app_UL[\"Social Media\"].head(10))\n",
    "print(\"\\n\")\n",
    "print(\"printing top 10 users based on Social Media DL\")\n",
    "print(dict_app_DL[\"Social Media\"].head(10))"
   ]
  },
  {
   "cell_type": "code",
   "execution_count": 56,
   "metadata": {},
   "outputs": [
    {
     "output_type": "stream",
     "name": "stdout",
     "text": [
      "printing top 10 users based on Google UL\nMSISDN/Number\n3.366371e+10    2.241409e+09\n3.362632e+10    3.608540e+07\n3.376054e+10    3.459657e+07\n3.362578e+10    3.440318e+07\n3.361489e+10    3.403208e+07\n3.366716e+10    3.332487e+07\n3.378632e+10    3.143467e+07\n3.367588e+10    2.685751e+07\n3.366646e+10    2.672152e+07\n3.376041e+10    2.640687e+07\nName: Google UL (Bytes), dtype: float64\n\n\nprinting top 10 users based on Google DL\nMSISDN/Number\n3.366371e+10    6.009292e+09\n3.362632e+10    1.161065e+08\n3.362578e+10    1.079047e+08\n3.361489e+10    9.394171e+07\n3.365973e+10    9.095855e+07\n3.376054e+10    8.862653e+07\n3.367588e+10    8.300299e+07\n3.378632e+10    7.881981e+07\n3.360313e+10    7.394206e+07\n3.376127e+10    7.294980e+07\nName: Google DL (Bytes), dtype: float64\n"
     ]
    }
   ],
   "source": [
    "print(\"printing top 10 users based on Google UL\")\n",
    "print(dict_app_UL[\"Google\"].head(10))\n",
    "print(\"\\n\")\n",
    "print(\"printing top 10 users based on Google DL\")\n",
    "print(dict_app_DL[\"Google\"].head(10))"
   ]
  },
  {
   "cell_type": "code",
   "execution_count": 57,
   "metadata": {},
   "outputs": [
    {
     "output_type": "stream",
     "name": "stdout",
     "text": [
      "printing top 10 users based on Youtube UL\nMSISDN/Number\n3.366371e+10    1.185341e+10\n3.362578e+10    2.150757e+08\n3.362632e+10    2.104343e+08\n3.376054e+10    2.022209e+08\n3.361489e+10    1.945468e+08\n3.366716e+10    1.732586e+08\n3.367588e+10    1.587453e+08\n3.365826e+10    1.565403e+08\n3.376127e+10    1.537331e+08\n3.363004e+10    1.492479e+08\nName: Youtube UL (Bytes), dtype: float64\n\n\nprinting top 10 users based on Youtube DL\nMSISDN/Number\n3.366371e+10    1.249731e+10\n3.362578e+10    2.378830e+08\n3.361489e+10    1.998234e+08\n3.376054e+10    1.940683e+08\n3.362708e+10    1.873233e+08\n3.376041e+10    1.742460e+08\n3.369879e+10    1.669003e+08\n3.362632e+10    1.640487e+08\n3.360313e+10    1.589767e+08\n3.367588e+10    1.586652e+08\nName: Youtube DL (Bytes), dtype: float64\n"
     ]
    }
   ],
   "source": [
    "print(\"printing top 10 users based on Youtube UL\")\n",
    "print(dict_app_UL[\"Youtube\"].head(10))\n",
    "print(\"\\n\")\n",
    "print(\"printing top 10 users based on Youtube DL\")\n",
    "print(dict_app_DL[\"Youtube\"].head(10))"
   ]
  },
  {
   "cell_type": "code",
   "execution_count": 58,
   "metadata": {},
   "outputs": [
    {
     "output_type": "stream",
     "name": "stdout",
     "text": [
      "printing top 10 users based on Email UL\nMSISDN/Number\n3.366371e+10    4.966873e+08\n3.362632e+10    9.013997e+06\n3.362578e+10    8.738554e+06\n3.376054e+10    7.255872e+06\n3.367588e+10    7.229698e+06\n3.361489e+10    7.181423e+06\n3.366716e+10    7.059044e+06\n3.365982e+10    6.937942e+06\n3.362708e+10    6.213264e+06\n3.366471e+10    6.212447e+06\nName: Email UL (Bytes), dtype: float64\n\n\nprinting top 10 users based on Email DL\nMSISDN/Number\n3.366371e+10    1.906935e+09\n3.361489e+10    3.360721e+07\n3.362632e+10    3.340478e+07\n3.362578e+10    3.189541e+07\n3.378632e+10    3.087691e+07\n3.365973e+10    2.990765e+07\n3.376054e+10    2.643790e+07\n3.366546e+10    2.594287e+07\n3.367588e+10    2.428472e+07\n3.369879e+10    2.416560e+07\nName: Email DL (Bytes), dtype: float64\n"
     ]
    }
   ],
   "source": [
    "print(\"printing top 10 users based on Email UL\")\n",
    "print(dict_app_UL[\"Email\"].head(10))\n",
    "print(\"\\n\")\n",
    "print(\"printing top 10 users based on Email DL\")\n",
    "print(dict_app_DL[\"Email\"].head(10))"
   ]
  },
  {
   "cell_type": "code",
   "execution_count": 59,
   "metadata": {},
   "outputs": [
    {
     "output_type": "stream",
     "name": "stdout",
     "text": [
      "printing top 10 users based on Netflix UL\nMSISDN/Number\n3.366371e+10    1.198034e+10\n3.365973e+10    2.032419e+08\n3.376054e+10    1.881424e+08\n3.361489e+10    1.818151e+08\n3.369879e+10    1.652202e+08\n3.362578e+10    1.630684e+08\n3.376041e+10    1.513237e+08\n3.376233e+10    1.500268e+08\n3.367588e+10    1.474667e+08\n3.369876e+10    1.472298e+08\nName: Netflix UL (Bytes), dtype: float64\n\n\nprinting top 10 users based on Netflix DL\nMSISDN/Number\n3.366371e+10    1.230177e+10\n3.362632e+10    1.994792e+08\n3.365973e+10    1.962772e+08\n3.362578e+10    1.939122e+08\n3.361489e+10    1.795860e+08\n3.366716e+10    1.679324e+08\n3.376127e+10    1.672611e+08\n3.376041e+10    1.670238e+08\n3.378632e+10    1.636027e+08\n3.367588e+10    1.616265e+08\nName: Netflix DL (Bytes), dtype: float64\n"
     ]
    }
   ],
   "source": [
    "print(\"printing top 10 users based on Netflix UL\")\n",
    "print(dict_app_UL[\"Netflix\"].head(10))\n",
    "print(\"\\n\")\n",
    "print(\"printing top 10 users based on Netflix DL\")\n",
    "print(dict_app_DL[\"Netflix\"].head(10))"
   ]
  },
  {
   "cell_type": "code",
   "execution_count": 60,
   "metadata": {},
   "outputs": [
    {
     "output_type": "stream",
     "name": "stdout",
     "text": [
      "printing top 10 users based on Gaming UL\nMSISDN/Number\n3.366371e+10    8.743856e+09\n3.362578e+10    1.547897e+08\n3.376054e+10    1.446811e+08\n3.362632e+10    1.418386e+08\n3.361489e+10    1.273968e+08\n3.365973e+10    1.156587e+08\n3.369879e+10    1.126150e+08\n3.378632e+10    1.101923e+08\n3.376127e+10    1.086893e+08\n3.367588e+10    1.072606e+08\nName: Gaming UL (Bytes), dtype: float64\n\n\nprinting top 10 users based on Gaming DL\nMSISDN/Number\n3.366371e+10    4.528908e+11\n3.361489e+10    7.622035e+09\n3.376054e+10    7.316364e+09\n3.362578e+10    7.171884e+09\n3.367588e+10    6.863307e+09\n3.362632e+10    6.745734e+09\n3.365973e+10    6.609900e+09\n3.366646e+10    6.546328e+09\n3.376041e+10    6.170943e+09\n3.366471e+10    6.013562e+09\nName: Gaming DL (Bytes), dtype: float64\n"
     ]
    }
   ],
   "source": [
    "print(\"printing top 10 users based on Gaming UL\")\n",
    "print(dict_app_UL[\"Gaming\"].head(10))\n",
    "print(\"\\n\")\n",
    "print(\"printing top 10 users based on Gaming DL\")\n",
    "print(dict_app_DL[\"Gaming\"].head(10))"
   ]
  },
  {
   "cell_type": "code",
   "execution_count": 61,
   "metadata": {},
   "outputs": [
    {
     "output_type": "stream",
     "name": "stdout",
     "text": [
      "printing top 10 users based on Other UL\nMSISDN/Number\n3.366371e+10    9.066371e+09\n3.362578e+10    1.529305e+08\n3.361489e+10    1.439660e+08\n3.362632e+10    1.424009e+08\n3.365973e+10    1.348649e+08\n3.367588e+10    1.334414e+08\n3.376054e+10    1.260962e+08\n3.376041e+10    1.131414e+08\n3.366471e+10    1.083234e+08\n3.365836e+10    1.078713e+08\nName: Other UL (Bytes), dtype: float64\n\n\nprinting top 10 users based on Other DL\nMSISDN/Number\n3.366371e+10    4.425858e+11\n3.362632e+10    8.025477e+09\n3.361489e+10    7.495298e+09\n3.367588e+10    6.665074e+09\n3.360313e+10    6.222705e+09\n3.362578e+10    6.201653e+09\n3.365973e+10    6.182551e+09\n3.362695e+10    5.228772e+09\n3.362708e+10    5.039747e+09\n3.376127e+10    4.997985e+09\nName: Other DL (Bytes), dtype: float64\n"
     ]
    }
   ],
   "source": [
    "print(\"printing top 10 users based on Other UL\")\n",
    "print(dict_app_UL[\"Other\"].head(10))\n",
    "print(\"\\n\")\n",
    "print(\"printing top 10 users based on Other DL\")\n",
    "print(dict_app_DL[\"Other\"].head(10))"
   ]
  },
  {
   "cell_type": "code",
   "execution_count": null,
   "metadata": {},
   "outputs": [],
   "source": [
    "# top 3 most used applications\n"
   ]
  }
 ]
}