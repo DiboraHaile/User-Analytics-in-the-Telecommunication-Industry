{
 "metadata": {
  "language_info": {
   "codemirror_mode": {
    "name": "ipython",
    "version": 3
   },
   "file_extension": ".py",
   "mimetype": "text/x-python",
   "name": "python",
   "nbconvert_exporter": "python",
   "pygments_lexer": "ipython3",
   "version": "3.7.10"
  },
  "orig_nbformat": 4,
  "kernelspec": {
   "name": "python3",
   "display_name": "Python 3.7.10 64-bit ('venv_usr_analytics': venv)"
  },
  "interpreter": {
   "hash": "413b71dc28aac45813ed35103051e8c8dd959175d6292f489eb12ffa988302e4"
  }
 },
 "nbformat": 4,
 "nbformat_minor": 2,
 "cells": [
  {
   "cell_type": "code",
   "execution_count": 76,
   "metadata": {},
   "outputs": [],
   "source": [
    "import pandas as pd\n",
    "import sys  \n",
    "sys.path.insert(0, '../scripts')\n",
    "import clean_data\n",
    "import utilities\n",
    "import loading_data\n",
    "import norm_scaling\n",
    "import seaborn as sn\n",
    "import numpy as np"
   ]
  },
  {
   "cell_type": "code",
   "execution_count": 2,
   "metadata": {},
   "outputs": [
    {
     "output_type": "stream",
     "name": "stderr",
     "text": [
      "/home/dibora/User-Analytics-in-the-Telecommunication-Industry/venv_usr_analytics/lib/python3.7/site-packages/ipykernel_launcher.py:2: FutureWarning: The error_bad_lines argument has been deprecated and will be removed in a future version.\n\n\n  \n"
     ]
    }
   ],
   "source": [
    "#loaded file\n",
    "df= loading_data.load_csv('../data/data.csv')"
   ]
  },
  {
   "cell_type": "code",
   "execution_count": 3,
   "metadata": {},
   "outputs": [
    {
     "output_type": "execute_result",
     "data": {
      "text/plain": [
       "                      Bearer Id            Start  Start ms              End  \\\n",
       "0 13,114,483,460,844,900,352.00   4/4/2019 12:01    770.00  4/25/2019 14:35   \n",
       "1 13,114,483,482,878,900,224.00   4/9/2019 13:04    235.00   4/25/2019 8:15   \n",
       "2 13,114,483,484,080,500,736.00   4/9/2019 17:42      1.00  4/25/2019 11:58   \n",
       "3 13,114,483,485,442,799,616.00   4/10/2019 0:31    486.00   4/25/2019 7:36   \n",
       "4 13,114,483,499,480,700,928.00  4/12/2019 20:10    565.00  4/25/2019 10:40   \n",
       "\n",
       "   End ms    Dur. (ms)                   IMSI     MSISDN/Number  \\\n",
       "0  662.00 1,823,652.00 208,201,448,079,117.00 33,664,962,239.00   \n",
       "1  606.00 1,365,104.00 208,201,909,211,140.00 33,681,854,413.00   \n",
       "2  652.00 1,361,762.00 208,200,314,458,056.00 33,760,627,129.00   \n",
       "3  171.00 1,321,509.00 208,201,402,342,131.00 33,750,343,200.00   \n",
       "4  954.00 1,089,009.00 208,201,401,415,120.00 33,699,795,932.00   \n",
       "\n",
       "                   IMEI     Last Location Name  ...  Youtube DL (Bytes)  \\\n",
       "0 35,521,209,507,511.00  9.16456699548519E+015  ...       15,854,611.00   \n",
       "1 35,794,009,006,359.00                L77566A  ...       20,247,395.00   \n",
       "2 35,281,510,359,387.00                D42335A  ...       19,725,661.00   \n",
       "3 35,356,610,164,913.00                T21824A  ...       21,388,122.00   \n",
       "4 35,407,009,745,539.00                D88865A  ...       15,259,380.00   \n",
       "\n",
       "   Youtube UL (Bytes)  Netflix DL (Bytes)  Netflix UL (Bytes)  \\\n",
       "0        2,501,332.00        8,198,936.00        9,656,251.00   \n",
       "1       19,111,729.00       18,338,413.00       17,227,132.00   \n",
       "2       14,699,576.00       17,587,794.00        6,163,408.00   \n",
       "3       15,146,643.00       13,994,646.00        1,097,942.00   \n",
       "4       18,962,873.00       17,124,581.00          415,218.00   \n",
       "\n",
       "   Gaming DL (Bytes)  Gaming UL (Bytes)  Other DL (Bytes)  Other UL (Bytes)  \\\n",
       "0     278,082,303.00      14,344,150.00    171,744,450.00      8,814,393.00   \n",
       "1     608,750,074.00       1,170,709.00    526,904,238.00     15,055,145.00   \n",
       "2     229,584,621.00         395,630.00    410,692,588.00      4,215,763.00   \n",
       "3     799,538,153.00      10,849,722.00    749,039,933.00     12,797,283.00   \n",
       "4     527,707,248.00       3,529,801.00    550,709,500.00     13,910,322.00   \n",
       "\n",
       "   Total UL (Bytes)  Total DL (Bytes)  \n",
       "0     36,749,741.00    308,879,636.00  \n",
       "1     53,800,391.00    653,384,965.00  \n",
       "2     27,883,638.00    279,807,335.00  \n",
       "3     43,324,218.00    846,028,530.00  \n",
       "4     38,542,814.00    569,138,589.00  \n",
       "\n",
       "[5 rows x 55 columns]"
      ],
      "text/html": "<div>\n<style scoped>\n    .dataframe tbody tr th:only-of-type {\n        vertical-align: middle;\n    }\n\n    .dataframe tbody tr th {\n        vertical-align: top;\n    }\n\n    .dataframe thead th {\n        text-align: right;\n    }\n</style>\n<table border=\"1\" class=\"dataframe\">\n  <thead>\n    <tr style=\"text-align: right;\">\n      <th></th>\n      <th>Bearer Id</th>\n      <th>Start</th>\n      <th>Start ms</th>\n      <th>End</th>\n      <th>End ms</th>\n      <th>Dur. (ms)</th>\n      <th>IMSI</th>\n      <th>MSISDN/Number</th>\n      <th>IMEI</th>\n      <th>Last Location Name</th>\n      <th>...</th>\n      <th>Youtube DL (Bytes)</th>\n      <th>Youtube UL (Bytes)</th>\n      <th>Netflix DL (Bytes)</th>\n      <th>Netflix UL (Bytes)</th>\n      <th>Gaming DL (Bytes)</th>\n      <th>Gaming UL (Bytes)</th>\n      <th>Other DL (Bytes)</th>\n      <th>Other UL (Bytes)</th>\n      <th>Total UL (Bytes)</th>\n      <th>Total DL (Bytes)</th>\n    </tr>\n  </thead>\n  <tbody>\n    <tr>\n      <th>0</th>\n      <td>13,114,483,460,844,900,352.00</td>\n      <td>4/4/2019 12:01</td>\n      <td>770.00</td>\n      <td>4/25/2019 14:35</td>\n      <td>662.00</td>\n      <td>1,823,652.00</td>\n      <td>208,201,448,079,117.00</td>\n      <td>33,664,962,239.00</td>\n      <td>35,521,209,507,511.00</td>\n      <td>9.16456699548519E+015</td>\n      <td>...</td>\n      <td>15,854,611.00</td>\n      <td>2,501,332.00</td>\n      <td>8,198,936.00</td>\n      <td>9,656,251.00</td>\n      <td>278,082,303.00</td>\n      <td>14,344,150.00</td>\n      <td>171,744,450.00</td>\n      <td>8,814,393.00</td>\n      <td>36,749,741.00</td>\n      <td>308,879,636.00</td>\n    </tr>\n    <tr>\n      <th>1</th>\n      <td>13,114,483,482,878,900,224.00</td>\n      <td>4/9/2019 13:04</td>\n      <td>235.00</td>\n      <td>4/25/2019 8:15</td>\n      <td>606.00</td>\n      <td>1,365,104.00</td>\n      <td>208,201,909,211,140.00</td>\n      <td>33,681,854,413.00</td>\n      <td>35,794,009,006,359.00</td>\n      <td>L77566A</td>\n      <td>...</td>\n      <td>20,247,395.00</td>\n      <td>19,111,729.00</td>\n      <td>18,338,413.00</td>\n      <td>17,227,132.00</td>\n      <td>608,750,074.00</td>\n      <td>1,170,709.00</td>\n      <td>526,904,238.00</td>\n      <td>15,055,145.00</td>\n      <td>53,800,391.00</td>\n      <td>653,384,965.00</td>\n    </tr>\n    <tr>\n      <th>2</th>\n      <td>13,114,483,484,080,500,736.00</td>\n      <td>4/9/2019 17:42</td>\n      <td>1.00</td>\n      <td>4/25/2019 11:58</td>\n      <td>652.00</td>\n      <td>1,361,762.00</td>\n      <td>208,200,314,458,056.00</td>\n      <td>33,760,627,129.00</td>\n      <td>35,281,510,359,387.00</td>\n      <td>D42335A</td>\n      <td>...</td>\n      <td>19,725,661.00</td>\n      <td>14,699,576.00</td>\n      <td>17,587,794.00</td>\n      <td>6,163,408.00</td>\n      <td>229,584,621.00</td>\n      <td>395,630.00</td>\n      <td>410,692,588.00</td>\n      <td>4,215,763.00</td>\n      <td>27,883,638.00</td>\n      <td>279,807,335.00</td>\n    </tr>\n    <tr>\n      <th>3</th>\n      <td>13,114,483,485,442,799,616.00</td>\n      <td>4/10/2019 0:31</td>\n      <td>486.00</td>\n      <td>4/25/2019 7:36</td>\n      <td>171.00</td>\n      <td>1,321,509.00</td>\n      <td>208,201,402,342,131.00</td>\n      <td>33,750,343,200.00</td>\n      <td>35,356,610,164,913.00</td>\n      <td>T21824A</td>\n      <td>...</td>\n      <td>21,388,122.00</td>\n      <td>15,146,643.00</td>\n      <td>13,994,646.00</td>\n      <td>1,097,942.00</td>\n      <td>799,538,153.00</td>\n      <td>10,849,722.00</td>\n      <td>749,039,933.00</td>\n      <td>12,797,283.00</td>\n      <td>43,324,218.00</td>\n      <td>846,028,530.00</td>\n    </tr>\n    <tr>\n      <th>4</th>\n      <td>13,114,483,499,480,700,928.00</td>\n      <td>4/12/2019 20:10</td>\n      <td>565.00</td>\n      <td>4/25/2019 10:40</td>\n      <td>954.00</td>\n      <td>1,089,009.00</td>\n      <td>208,201,401,415,120.00</td>\n      <td>33,699,795,932.00</td>\n      <td>35,407,009,745,539.00</td>\n      <td>D88865A</td>\n      <td>...</td>\n      <td>15,259,380.00</td>\n      <td>18,962,873.00</td>\n      <td>17,124,581.00</td>\n      <td>415,218.00</td>\n      <td>527,707,248.00</td>\n      <td>3,529,801.00</td>\n      <td>550,709,500.00</td>\n      <td>13,910,322.00</td>\n      <td>38,542,814.00</td>\n      <td>569,138,589.00</td>\n    </tr>\n  </tbody>\n</table>\n<p>5 rows × 55 columns</p>\n</div>"
     },
     "metadata": {},
     "execution_count": 3
    }
   ],
   "source": [
    "df.head()"
   ]
  },
  {
   "cell_type": "code",
   "execution_count": 4,
   "metadata": {},
   "outputs": [
    {
     "output_type": "stream",
     "name": "stdout",
     "text": [
      "['Start', 'End', 'Last Location Name', 'Handset Manufacturer', 'Handset Type']\n"
     ]
    },
    {
     "output_type": "execute_result",
     "data": {
      "text/plain": [
       "Bearer Id                                   0\n",
       "Start                                       0\n",
       "Start ms                                    0\n",
       "End                                         0\n",
       "End ms                                      0\n",
       "Dur. (ms)                                   0\n",
       "IMSI                                        0\n",
       "MSISDN/Number                               0\n",
       "IMEI                                        0\n",
       "Last Location Name                          0\n",
       "Avg RTT DL (ms)                             0\n",
       "Avg RTT UL (ms)                             0\n",
       "Avg Bearer TP DL (kbps)                     0\n",
       "Avg Bearer TP UL (kbps)                     0\n",
       "TCP DL Retrans. Vol (Bytes)                 0\n",
       "TCP UL Retrans. Vol (Bytes)                 0\n",
       "DL TP < 50 Kbps (%)                         0\n",
       "50 Kbps < DL TP < 250 Kbps (%)              0\n",
       "250 Kbps < DL TP < 1 Mbps (%)               0\n",
       "DL TP > 1 Mbps (%)                          0\n",
       "UL TP < 10 Kbps (%)                         0\n",
       "10 Kbps < UL TP < 50 Kbps (%)               0\n",
       "50 Kbps < UL TP < 300 Kbps (%)              0\n",
       "UL TP > 300 Kbps (%)                        0\n",
       "HTTP DL (Bytes)                             0\n",
       "HTTP UL (Bytes)                             0\n",
       "Activity Duration DL (ms)                   0\n",
       "Activity Duration UL (ms)                   0\n",
       "Dur. (ms).1                                 0\n",
       "Handset Manufacturer                        0\n",
       "Handset Type                                0\n",
       "Nb of sec with 125000B < Vol DL             0\n",
       "Nb of sec with 1250B < Vol UL < 6250B       0\n",
       "Nb of sec with 31250B < Vol DL < 125000B    0\n",
       "Nb of sec with 37500B < Vol UL              0\n",
       "Nb of sec with 6250B < Vol DL < 31250B      0\n",
       "Nb of sec with 6250B < Vol UL < 37500B      0\n",
       "Nb of sec with Vol DL < 6250B               0\n",
       "Nb of sec with Vol UL < 1250B               0\n",
       "Social Media DL (Bytes)                     0\n",
       "Social Media UL (Bytes)                     0\n",
       "Google DL (Bytes)                           0\n",
       "Google UL (Bytes)                           0\n",
       "Email DL (Bytes)                            0\n",
       "Email UL (Bytes)                            0\n",
       "Youtube DL (Bytes)                          0\n",
       "Youtube UL (Bytes)                          0\n",
       "Netflix DL (Bytes)                          0\n",
       "Netflix UL (Bytes)                          0\n",
       "Gaming DL (Bytes)                           0\n",
       "Gaming UL (Bytes)                           0\n",
       "Other DL (Bytes)                            0\n",
       "Other UL (Bytes)                            0\n",
       "Total UL (Bytes)                            0\n",
       "Total DL (Bytes)                            0\n",
       "dtype: int64"
      ]
     },
     "metadata": {},
     "execution_count": 4
    }
   ],
   "source": [
    "#handle missing values, TCP retransmitted column contains more than 30% of null values but we won't drop it since we need it for analyzing the experience of users. instead we fix the missing values.\n",
    "cleaned_data = clean_data.Handle_missing_values(df,drop_rows=False,drop_cols=False)\n",
    "cleaned_data.isnull().sum()"
   ]
  },
  {
   "source": [
    "Aggregate, per customer, the following information (treat missing & outliers by replacing by the mean or the mode of the corresponding variable):\n",
    "Average TCP retransmission\n",
    "Average RTT\n",
    "Handset type\n",
    "Average throughput\n"
   ],
   "cell_type": "markdown",
   "metadata": {}
  },
  {
   "cell_type": "code",
   "execution_count": 5,
   "metadata": {},
   "outputs": [
    {
     "output_type": "execute_result",
     "data": {
      "text/plain": [
       "           MSISDN/Number  Avg throughput UL per user\n",
       "53644  33,663,706,799.00                1,832,273.00\n",
       "29539  33,658,124,130.00                  167,024.00\n",
       "29313  33,658,075,438.00                  163,585.00\n",
       "100319 33,763,744,937.00                  161,563.00\n",
       "69910  33,668,708,263.00                  159,430.00\n",
       "25134  33,650,520,779.00                  145,320.00\n",
       "99990  33,763,586,476.00                  138,359.00\n",
       "39898  33,660,394,384.00                  137,330.00\n",
       "36257  33,659,546,392.00                  127,412.00\n",
       "66417  33,667,600,457.00                  127,200.00"
      ],
      "text/html": "<div>\n<style scoped>\n    .dataframe tbody tr th:only-of-type {\n        vertical-align: middle;\n    }\n\n    .dataframe tbody tr th {\n        vertical-align: top;\n    }\n\n    .dataframe thead th {\n        text-align: right;\n    }\n</style>\n<table border=\"1\" class=\"dataframe\">\n  <thead>\n    <tr style=\"text-align: right;\">\n      <th></th>\n      <th>MSISDN/Number</th>\n      <th>Avg throughput UL per user</th>\n    </tr>\n  </thead>\n  <tbody>\n    <tr>\n      <th>53644</th>\n      <td>33,663,706,799.00</td>\n      <td>1,832,273.00</td>\n    </tr>\n    <tr>\n      <th>29539</th>\n      <td>33,658,124,130.00</td>\n      <td>167,024.00</td>\n    </tr>\n    <tr>\n      <th>29313</th>\n      <td>33,658,075,438.00</td>\n      <td>163,585.00</td>\n    </tr>\n    <tr>\n      <th>100319</th>\n      <td>33,763,744,937.00</td>\n      <td>161,563.00</td>\n    </tr>\n    <tr>\n      <th>69910</th>\n      <td>33,668,708,263.00</td>\n      <td>159,430.00</td>\n    </tr>\n    <tr>\n      <th>25134</th>\n      <td>33,650,520,779.00</td>\n      <td>145,320.00</td>\n    </tr>\n    <tr>\n      <th>99990</th>\n      <td>33,763,586,476.00</td>\n      <td>138,359.00</td>\n    </tr>\n    <tr>\n      <th>39898</th>\n      <td>33,660,394,384.00</td>\n      <td>137,330.00</td>\n    </tr>\n    <tr>\n      <th>36257</th>\n      <td>33,659,546,392.00</td>\n      <td>127,412.00</td>\n    </tr>\n    <tr>\n      <th>66417</th>\n      <td>33,667,600,457.00</td>\n      <td>127,200.00</td>\n    </tr>\n  </tbody>\n</table>\n</div>"
     },
     "metadata": {},
     "execution_count": 5
    }
   ],
   "source": [
    "# aggregate of Average throughput UL for each user\n",
    "utilities.find_agg(cleaned_data, \"MSISDN/Number\",\"Avg Bearer TP UL (kbps)\" ,\"sum\", \"Avg throughput UL per user\", 10, order=False )"
   ]
  },
  {
   "cell_type": "code",
   "execution_count": 6,
   "metadata": {},
   "outputs": [
    {
     "output_type": "execute_result",
     "data": {
      "text/plain": [
       "          MSISDN/Number  Avg throughput DL per user\n",
       "53644 33,663,706,799.00               16,231,020.00\n",
       "97584 33,762,333,464.00                  846,163.00\n",
       "69910 33,668,708,263.00                  680,994.00\n",
       "36257 33,659,546,392.00                  670,930.00\n",
       "69020 33,668,425,947.00                  658,687.00\n",
       "84486 33,698,174,760.00                  606,931.00\n",
       "73146 33,669,946,573.00                  581,209.00\n",
       "13141 33,625,700,673.00                  556,109.00\n",
       "31726 33,658,581,169.00                  510,852.00\n",
       "74585 33,672,505,906.00                  480,466.00"
      ],
      "text/html": "<div>\n<style scoped>\n    .dataframe tbody tr th:only-of-type {\n        vertical-align: middle;\n    }\n\n    .dataframe tbody tr th {\n        vertical-align: top;\n    }\n\n    .dataframe thead th {\n        text-align: right;\n    }\n</style>\n<table border=\"1\" class=\"dataframe\">\n  <thead>\n    <tr style=\"text-align: right;\">\n      <th></th>\n      <th>MSISDN/Number</th>\n      <th>Avg throughput DL per user</th>\n    </tr>\n  </thead>\n  <tbody>\n    <tr>\n      <th>53644</th>\n      <td>33,663,706,799.00</td>\n      <td>16,231,020.00</td>\n    </tr>\n    <tr>\n      <th>97584</th>\n      <td>33,762,333,464.00</td>\n      <td>846,163.00</td>\n    </tr>\n    <tr>\n      <th>69910</th>\n      <td>33,668,708,263.00</td>\n      <td>680,994.00</td>\n    </tr>\n    <tr>\n      <th>36257</th>\n      <td>33,659,546,392.00</td>\n      <td>670,930.00</td>\n    </tr>\n    <tr>\n      <th>69020</th>\n      <td>33,668,425,947.00</td>\n      <td>658,687.00</td>\n    </tr>\n    <tr>\n      <th>84486</th>\n      <td>33,698,174,760.00</td>\n      <td>606,931.00</td>\n    </tr>\n    <tr>\n      <th>73146</th>\n      <td>33,669,946,573.00</td>\n      <td>581,209.00</td>\n    </tr>\n    <tr>\n      <th>13141</th>\n      <td>33,625,700,673.00</td>\n      <td>556,109.00</td>\n    </tr>\n    <tr>\n      <th>31726</th>\n      <td>33,658,581,169.00</td>\n      <td>510,852.00</td>\n    </tr>\n    <tr>\n      <th>74585</th>\n      <td>33,672,505,906.00</td>\n      <td>480,466.00</td>\n    </tr>\n  </tbody>\n</table>\n</div>"
     },
     "metadata": {},
     "execution_count": 6
    }
   ],
   "source": [
    "# aggregate of Average throughput DL for each user\n",
    "utilities.find_agg(cleaned_data, \"MSISDN/Number\",\"Avg Bearer TP DL (kbps)\" ,\"sum\", \"Avg throughput DL per user\", 10, order=False )"
   ]
  },
  {
   "cell_type": "code",
   "execution_count": 7,
   "metadata": {},
   "outputs": [
    {
     "output_type": "execute_result",
     "data": {
      "text/plain": [
       "           MSISDN/Number  Avg RTT UL per user\n",
       "53644  33,663,706,799.00            19,577.00\n",
       "37287  33,659,778,586.00             7,120.00\n",
       "17134  33,633,298,261.00             5,607.00\n",
       "94139  33,761,092,970.00             5,422.00\n",
       "65118  33,667,163,239.00             5,414.00\n",
       "14494  33,627,850,141.00             5,295.00\n",
       "96962  33,762,057,942.00             5,248.00\n",
       "69218  33,668,497,162.00             4,682.00\n",
       "18351  33,636,368,478.00             4,026.00\n",
       "103348 33,778,078,390.00             3,923.00"
      ],
      "text/html": "<div>\n<style scoped>\n    .dataframe tbody tr th:only-of-type {\n        vertical-align: middle;\n    }\n\n    .dataframe tbody tr th {\n        vertical-align: top;\n    }\n\n    .dataframe thead th {\n        text-align: right;\n    }\n</style>\n<table border=\"1\" class=\"dataframe\">\n  <thead>\n    <tr style=\"text-align: right;\">\n      <th></th>\n      <th>MSISDN/Number</th>\n      <th>Avg RTT UL per user</th>\n    </tr>\n  </thead>\n  <tbody>\n    <tr>\n      <th>53644</th>\n      <td>33,663,706,799.00</td>\n      <td>19,577.00</td>\n    </tr>\n    <tr>\n      <th>37287</th>\n      <td>33,659,778,586.00</td>\n      <td>7,120.00</td>\n    </tr>\n    <tr>\n      <th>17134</th>\n      <td>33,633,298,261.00</td>\n      <td>5,607.00</td>\n    </tr>\n    <tr>\n      <th>94139</th>\n      <td>33,761,092,970.00</td>\n      <td>5,422.00</td>\n    </tr>\n    <tr>\n      <th>65118</th>\n      <td>33,667,163,239.00</td>\n      <td>5,414.00</td>\n    </tr>\n    <tr>\n      <th>14494</th>\n      <td>33,627,850,141.00</td>\n      <td>5,295.00</td>\n    </tr>\n    <tr>\n      <th>96962</th>\n      <td>33,762,057,942.00</td>\n      <td>5,248.00</td>\n    </tr>\n    <tr>\n      <th>69218</th>\n      <td>33,668,497,162.00</td>\n      <td>4,682.00</td>\n    </tr>\n    <tr>\n      <th>18351</th>\n      <td>33,636,368,478.00</td>\n      <td>4,026.00</td>\n    </tr>\n    <tr>\n      <th>103348</th>\n      <td>33,778,078,390.00</td>\n      <td>3,923.00</td>\n    </tr>\n  </tbody>\n</table>\n</div>"
     },
     "metadata": {},
     "execution_count": 7
    }
   ],
   "source": [
    "# aggregate of Average RTT UL for each user\n",
    "utilities.find_agg(cleaned_data, \"MSISDN/Number\",\"Avg RTT UL (ms)\" ,\"sum\", \"Avg RTT UL per user\", 10, order=False )"
   ]
  },
  {
   "cell_type": "code",
   "execution_count": 8,
   "metadata": {},
   "outputs": [
    {
     "output_type": "execute_result",
     "data": {
      "text/plain": [
       "          MSISDN/Number  Avg RTT DL per user\n",
       "53644 33,663,706,799.00           295,644.00\n",
       "47983 33,662,317,023.00            96,923.00\n",
       "41944 33,660,874,265.00            64,666.00\n",
       "80249 33,683,692,867.00            54,847.00\n",
       "85683 33,698,551,167.00            45,923.00\n",
       "96414 33,761,813,523.00            36,977.00\n",
       "70142 33,668,791,629.00            36,125.00\n",
       "93844 33,760,941,100.00            26,971.00\n",
       "1713  33,606,788,933.00            26,250.00\n",
       "74240 33,671,816,754.00            25,602.00"
      ],
      "text/html": "<div>\n<style scoped>\n    .dataframe tbody tr th:only-of-type {\n        vertical-align: middle;\n    }\n\n    .dataframe tbody tr th {\n        vertical-align: top;\n    }\n\n    .dataframe thead th {\n        text-align: right;\n    }\n</style>\n<table border=\"1\" class=\"dataframe\">\n  <thead>\n    <tr style=\"text-align: right;\">\n      <th></th>\n      <th>MSISDN/Number</th>\n      <th>Avg RTT DL per user</th>\n    </tr>\n  </thead>\n  <tbody>\n    <tr>\n      <th>53644</th>\n      <td>33,663,706,799.00</td>\n      <td>295,644.00</td>\n    </tr>\n    <tr>\n      <th>47983</th>\n      <td>33,662,317,023.00</td>\n      <td>96,923.00</td>\n    </tr>\n    <tr>\n      <th>41944</th>\n      <td>33,660,874,265.00</td>\n      <td>64,666.00</td>\n    </tr>\n    <tr>\n      <th>80249</th>\n      <td>33,683,692,867.00</td>\n      <td>54,847.00</td>\n    </tr>\n    <tr>\n      <th>85683</th>\n      <td>33,698,551,167.00</td>\n      <td>45,923.00</td>\n    </tr>\n    <tr>\n      <th>96414</th>\n      <td>33,761,813,523.00</td>\n      <td>36,977.00</td>\n    </tr>\n    <tr>\n      <th>70142</th>\n      <td>33,668,791,629.00</td>\n      <td>36,125.00</td>\n    </tr>\n    <tr>\n      <th>93844</th>\n      <td>33,760,941,100.00</td>\n      <td>26,971.00</td>\n    </tr>\n    <tr>\n      <th>1713</th>\n      <td>33,606,788,933.00</td>\n      <td>26,250.00</td>\n    </tr>\n    <tr>\n      <th>74240</th>\n      <td>33,671,816,754.00</td>\n      <td>25,602.00</td>\n    </tr>\n  </tbody>\n</table>\n</div>"
     },
     "metadata": {},
     "execution_count": 8
    }
   ],
   "source": [
    "# aggregate of Average RTT DL for each user\n",
    "utilities.find_agg(cleaned_data, \"MSISDN/Number\",\"Avg RTT DL (ms)\" ,\"sum\", \"Avg RTT DL per user\", 10, order=False )"
   ]
  },
  {
   "cell_type": "code",
   "execution_count": 9,
   "metadata": {},
   "outputs": [
    {
     "output_type": "execute_result",
     "data": {
      "text/plain": [
       "          MSISDN/Number  Handset type per user\n",
       "53644 33,663,706,799.00                   1067\n",
       "13526 33,626,320,676.00                     18\n",
       "6437  33,614,892,860.00                     17\n",
       "13180 33,625,779,332.00                     17\n",
       "37052 33,659,725,664.00                     16\n",
       "76363 33,675,877,202.00                     15\n",
       "92923 33,760,536,639.00                     15\n",
       "65118 33,667,163,239.00                     13\n",
       "1279  33,604,515,716.00                     12\n",
       "92577 33,760,413,819.00                     12"
      ],
      "text/html": "<div>\n<style scoped>\n    .dataframe tbody tr th:only-of-type {\n        vertical-align: middle;\n    }\n\n    .dataframe tbody tr th {\n        vertical-align: top;\n    }\n\n    .dataframe thead th {\n        text-align: right;\n    }\n</style>\n<table border=\"1\" class=\"dataframe\">\n  <thead>\n    <tr style=\"text-align: right;\">\n      <th></th>\n      <th>MSISDN/Number</th>\n      <th>Handset type per user</th>\n    </tr>\n  </thead>\n  <tbody>\n    <tr>\n      <th>53644</th>\n      <td>33,663,706,799.00</td>\n      <td>1067</td>\n    </tr>\n    <tr>\n      <th>13526</th>\n      <td>33,626,320,676.00</td>\n      <td>18</td>\n    </tr>\n    <tr>\n      <th>6437</th>\n      <td>33,614,892,860.00</td>\n      <td>17</td>\n    </tr>\n    <tr>\n      <th>13180</th>\n      <td>33,625,779,332.00</td>\n      <td>17</td>\n    </tr>\n    <tr>\n      <th>37052</th>\n      <td>33,659,725,664.00</td>\n      <td>16</td>\n    </tr>\n    <tr>\n      <th>76363</th>\n      <td>33,675,877,202.00</td>\n      <td>15</td>\n    </tr>\n    <tr>\n      <th>92923</th>\n      <td>33,760,536,639.00</td>\n      <td>15</td>\n    </tr>\n    <tr>\n      <th>65118</th>\n      <td>33,667,163,239.00</td>\n      <td>13</td>\n    </tr>\n    <tr>\n      <th>1279</th>\n      <td>33,604,515,716.00</td>\n      <td>12</td>\n    </tr>\n    <tr>\n      <th>92577</th>\n      <td>33,760,413,819.00</td>\n      <td>12</td>\n    </tr>\n  </tbody>\n</table>\n</div>"
     },
     "metadata": {},
     "execution_count": 9
    }
   ],
   "source": [
    "# aggregate of Handset types of each user\n",
    "utilities.find_agg(cleaned_data, \"MSISDN/Number\",\"Handset Type\" ,\"count\", \"Handset type per user\", 10, order=False )\n",
    "\n"
   ]
  },
  {
   "cell_type": "code",
   "execution_count": 10,
   "metadata": {},
   "outputs": [
    {
     "output_type": "execute_result",
     "data": {
      "text/plain": [
       "          MSISDN/Number  Avg TCP retransmission per user\n",
       "53644 33,663,706,799.00                10,558,221,768.00\n",
       "66860 33,667,725,464.00                 8,332,732,777.00\n",
       "34123 33,659,084,281.00                 7,938,178,623.00\n",
       "42366 33,660,977,522.00                 7,374,100,838.00\n",
       "94681 33,761,284,050.00                 6,039,191,773.00\n",
       "98213 33,762,644,658.00                 5,878,002,490.00\n",
       "25774 33,650,658,056.00                 5,590,343,967.00\n",
       "51638 33,663,180,885.00                 5,562,845,158.00\n",
       "99929 33,763,572,381.00                 5,178,607,391.00\n",
       "31965 33,658,638,625.00                 5,165,784,763.00"
      ],
      "text/html": "<div>\n<style scoped>\n    .dataframe tbody tr th:only-of-type {\n        vertical-align: middle;\n    }\n\n    .dataframe tbody tr th {\n        vertical-align: top;\n    }\n\n    .dataframe thead th {\n        text-align: right;\n    }\n</style>\n<table border=\"1\" class=\"dataframe\">\n  <thead>\n    <tr style=\"text-align: right;\">\n      <th></th>\n      <th>MSISDN/Number</th>\n      <th>Avg TCP retransmission per user</th>\n    </tr>\n  </thead>\n  <tbody>\n    <tr>\n      <th>53644</th>\n      <td>33,663,706,799.00</td>\n      <td>10,558,221,768.00</td>\n    </tr>\n    <tr>\n      <th>66860</th>\n      <td>33,667,725,464.00</td>\n      <td>8,332,732,777.00</td>\n    </tr>\n    <tr>\n      <th>34123</th>\n      <td>33,659,084,281.00</td>\n      <td>7,938,178,623.00</td>\n    </tr>\n    <tr>\n      <th>42366</th>\n      <td>33,660,977,522.00</td>\n      <td>7,374,100,838.00</td>\n    </tr>\n    <tr>\n      <th>94681</th>\n      <td>33,761,284,050.00</td>\n      <td>6,039,191,773.00</td>\n    </tr>\n    <tr>\n      <th>98213</th>\n      <td>33,762,644,658.00</td>\n      <td>5,878,002,490.00</td>\n    </tr>\n    <tr>\n      <th>25774</th>\n      <td>33,650,658,056.00</td>\n      <td>5,590,343,967.00</td>\n    </tr>\n    <tr>\n      <th>51638</th>\n      <td>33,663,180,885.00</td>\n      <td>5,562,845,158.00</td>\n    </tr>\n    <tr>\n      <th>99929</th>\n      <td>33,763,572,381.00</td>\n      <td>5,178,607,391.00</td>\n    </tr>\n    <tr>\n      <th>31965</th>\n      <td>33,658,638,625.00</td>\n      <td>5,165,784,763.00</td>\n    </tr>\n  </tbody>\n</table>\n</div>"
     },
     "metadata": {},
     "execution_count": 10
    }
   ],
   "source": [
    "# aggregate of TCP retransmission DL of each user\n",
    "utilities.find_agg(cleaned_data, \"MSISDN/Number\",\"TCP DL Retrans. Vol (Bytes)\" ,\"sum\", \"Avg TCP retransmission per user\", 10, order=False )"
   ]
  },
  {
   "cell_type": "code",
   "execution_count": 11,
   "metadata": {},
   "outputs": [
    {
     "output_type": "execute_result",
     "data": {
      "text/plain": [
       "           MSISDN/Number  Avg TCP retransmission per user\n",
       "70913  33,669,054,076.00                 5,168,607,636.50\n",
       "30175  33,658,249,284.00                 2,637,302,536.00\n",
       "100005 33,763,588,772.00                 2,455,599,840.00\n",
       "57181  33,664,698,321.00                 1,751,383,517.00\n",
       "58664  33,665,090,461.00                 1,727,810,000.00\n",
       "93811  33,760,918,898.00                 1,237,885,767.50\n",
       "68743  33,668,333,080.00                   807,925,207.00\n",
       "45158  33,661,679,531.00                   794,825,766.00\n",
       "85123  33,698,382,849.00                   719,571,807.00\n",
       "69068  33,668,446,094.00                   526,246,337.00"
      ],
      "text/html": "<div>\n<style scoped>\n    .dataframe tbody tr th:only-of-type {\n        vertical-align: middle;\n    }\n\n    .dataframe tbody tr th {\n        vertical-align: top;\n    }\n\n    .dataframe thead th {\n        text-align: right;\n    }\n</style>\n<table border=\"1\" class=\"dataframe\">\n  <thead>\n    <tr style=\"text-align: right;\">\n      <th></th>\n      <th>MSISDN/Number</th>\n      <th>Avg TCP retransmission per user</th>\n    </tr>\n  </thead>\n  <tbody>\n    <tr>\n      <th>70913</th>\n      <td>33,669,054,076.00</td>\n      <td>5,168,607,636.50</td>\n    </tr>\n    <tr>\n      <th>30175</th>\n      <td>33,658,249,284.00</td>\n      <td>2,637,302,536.00</td>\n    </tr>\n    <tr>\n      <th>100005</th>\n      <td>33,763,588,772.00</td>\n      <td>2,455,599,840.00</td>\n    </tr>\n    <tr>\n      <th>57181</th>\n      <td>33,664,698,321.00</td>\n      <td>1,751,383,517.00</td>\n    </tr>\n    <tr>\n      <th>58664</th>\n      <td>33,665,090,461.00</td>\n      <td>1,727,810,000.00</td>\n    </tr>\n    <tr>\n      <th>93811</th>\n      <td>33,760,918,898.00</td>\n      <td>1,237,885,767.50</td>\n    </tr>\n    <tr>\n      <th>68743</th>\n      <td>33,668,333,080.00</td>\n      <td>807,925,207.00</td>\n    </tr>\n    <tr>\n      <th>45158</th>\n      <td>33,661,679,531.00</td>\n      <td>794,825,766.00</td>\n    </tr>\n    <tr>\n      <th>85123</th>\n      <td>33,698,382,849.00</td>\n      <td>719,571,807.00</td>\n    </tr>\n    <tr>\n      <th>69068</th>\n      <td>33,668,446,094.00</td>\n      <td>526,246,337.00</td>\n    </tr>\n  </tbody>\n</table>\n</div>"
     },
     "metadata": {},
     "execution_count": 11
    }
   ],
   "source": [
    "# aggregate of TCP retransmission UL of each user\n",
    "utilities.find_agg(cleaned_data, \"MSISDN/Number\",\"TCP UL Retrans. Vol (Bytes)\" ,\"sum\", \"Avg TCP retransmission per user\", 10, order=False )"
   ]
  },
  {
   "source": [
    "Compute & list 10 of the top, bottom and most frequent:\n",
    "TCP values in the dataset. \n",
    "RTT values in the dataset.\n",
    "Throughput values in the dataset.\n"
   ],
   "cell_type": "markdown",
   "metadata": {}
  },
  {
   "source": [
    "### Top bottom and most frequent Throuput values in the dataset"
   ],
   "cell_type": "markdown",
   "metadata": {}
  },
  {
   "cell_type": "code",
   "execution_count": 46,
   "metadata": {},
   "outputs": [
    {
     "output_type": "stream",
     "name": "stdout",
     "text": [
      "Top 10 throughput UL in the dataset\n   index  Top TP UL\n0  11300  58,613.00\n1   3204  57,792.00\n2  13512  57,750.00\n3  12264  57,006.00\n4  11798  56,763.00\n5  11203  54,032.00\n6   7987  53,572.00\n7   4043  52,640.00\n8  11229  52,084.00\n9  13153  51,562.00 \n\nBottom 10 throughput UL in the dataset\n   index  Bottom TP UL\n0     78          0.00\n1   1597          1.00\n2      9          2.00\n3    368          3.00\n4     24          4.00\n5    207          5.00\n6    252          6.00\n7     53          7.00\n8     98          8.00\n9      2          9.00 \n\nTop 10 frequent throughput UL in the dataset\n    Avg Bearer TP UL (kbps)  frequency of TP ULs\n40                    40.00                 7794\n54                    54.00                 6344\n47                    47.00                 5840\n53                    53.00                 4835\n9                      9.00                 3812\n52                    52.00                 3786\n51                    51.00                 3646\n44                    44.00                 3366\n46                    46.00                 3216\n55                    55.00                 2871\n\n\nTop 10 throughput DL in the dataset\n   index  Top TP DL\n0  36345 378,160.00\n1  40164 299,257.00\n2  40807 299,002.00\n3  41677 276,040.00\n4  30737 269,362.00\n5  35197 266,332.00\n6  34452 265,440.00\n7  29847 264,448.00\n8  34738 263,047.00\n9  18793 254,253.00 \n\nBottom 10 throughput DL in the dataset\n   index  Bottom TP DL\n0     11          0.00\n1    936          1.00\n2    130          2.00\n3    381          3.00\n4   2178          4.00\n5   2371          5.00\n6      2          6.00\n7    523          7.00\n8     21          8.00\n9     27          9.00 \n\nTop 10 frequent throughput DL in the dataset\n    Avg Bearer TP DL (kbps)  frequency of TP DLs\n23                    23.00                 7324\n43                    43.00                 4352\n44                    44.00                 4186\n6                      6.00                 3983\n22                    22.00                 2867\n48                    48.00                 2778\n63                    63.00                 2758\n42                    42.00                 2689\n45                    45.00                 2644\n47                    47.00                 2263\n"
     ]
    }
   ],
   "source": [
    "#top 10 throughput UL values in the dataset\n",
    "top_throughput_UL = pd.DataFrame({\"Top TP UL\": cleaned_data[\"Avg Bearer TP UL (kbps)\"].unique()}).sort_values(by=\"Top TP UL\",ascending=False).reset_index().head(10)\n",
    "#bottom 10 throughput UL values in the dataset\n",
    "bottom_throughput_UL = pd.DataFrame({\"Bottom TP UL\": cleaned_data[\"Avg Bearer TP UL (kbps)\"].unique()}).sort_values(by=\"Bottom TP UL\",ascending=True).reset_index().head(10)\n",
    "#top 10 frequent throughput UL values in the dataset\n",
    "frequent_throughput_UL = utilities.find_agg(cleaned_data, \"Avg Bearer TP UL (kbps)\",\"Avg Bearer TP UL (kbps)\" ,\"count\", \"frequency of TP ULs\", 10, order=False )\n",
    "\n",
    "print(\"Top 10 throughput UL in the dataset\")\n",
    "print(top_throughput_UL,\"\\n\")\n",
    "print(\"Bottom 10 throughput UL in the dataset\")\n",
    "print(bottom_throughput_UL,\"\\n\")\n",
    "print(\"Top 10 frequent throughput UL in the dataset\")\n",
    "print(frequent_throughput_UL)\n",
    "print(\"\\n\")\n",
    "\n",
    "#top 10 throughput DL values in the dataset\n",
    "top_throughput_DL = pd.DataFrame({\"Top TP DL\": cleaned_data[\"Avg Bearer TP DL (kbps)\"].unique()}).sort_values(by=\"Top TP DL\",ascending=False).reset_index().head(10)\n",
    "#bottom 10 throughput UL values in the dataset\n",
    "bottom_throughput_DL = pd.DataFrame({\"Bottom TP DL\": cleaned_data[\"Avg Bearer TP DL (kbps)\"].unique()}).sort_values(by=\"Bottom TP DL\",ascending=True).reset_index().head(10)\n",
    "#top 10 frequent throughput UL values in the dataset\n",
    "frequent_throughput_DL = utilities.find_agg(cleaned_data, \"Avg Bearer TP DL (kbps)\",\"Avg Bearer TP DL (kbps)\" ,\"count\", \"frequency of TP DLs\", 10, order=False )\n",
    "\n",
    "print(\"Top 10 throughput DL in the dataset\")\n",
    "print(top_throughput_DL,\"\\n\")\n",
    "print(\"Bottom 10 throughput DL in the dataset\")\n",
    "print(bottom_throughput_DL,\"\\n\")\n",
    "print(\"Top 10 frequent throughput DL in the dataset\")\n",
    "print(frequent_throughput_DL)"
   ]
  },
  {
   "source": [
    "### Top bottom and most frequent RTT values in the dataset"
   ],
   "cell_type": "markdown",
   "metadata": {}
  },
  {
   "cell_type": "code",
   "execution_count": 48,
   "metadata": {},
   "outputs": [
    {
     "output_type": "stream",
     "name": "stdout",
     "text": [
      "Top 10 RTT UL in the dataset\n   index  Top RTT UL\n0    303    7,120.00\n1    663    5,607.00\n2    543    5,422.00\n3     41    5,279.00\n4    567    4,677.00\n5    404    4,226.00\n6    437    4,021.00\n7    674    3,923.00\n8    627    3,093.00\n9    423    3,029.00 \n\nBottom 10 RTT UL in the dataset\n   index  Bottom RTT UL\n0     14           0.00\n1      8           1.00\n2      5           2.00\n3     18           3.00\n4      3           4.00\n5      0           5.00\n6      7           6.00\n7      2           7.00\n8     40           8.00\n9     44           9.00 \n\nTop 10 frequent RTT UL in the dataset\n   Avg RTT UL (ms)  frequency of TP UL\n5             5.00               42475\n2             2.00               14277\n1             1.00               12826\n4             4.00               10242\n3             3.00                7935\n6             6.00                7518\n7             7.00                4196\n0             0.00                4126\n8             8.00                3209\n9             9.00                2647\n\n\nTop 10 RTT DL in the dataset\n   index  Top RTT DL\n0   1398   96,923.00\n1   1397   64,640.00\n2   1058   55,811.00\n3    494   54,847.00\n4   1277   26,971.00\n5   1304   26,250.00\n6    274   25,873.00\n7   1645   25,602.00\n8   1886   25,374.00\n9   1956   24,733.00 \n\nBottom 10 RTT DL in the dataset\n   index  Bottom RTT DL\n0   1500           0.00\n1   1583           2.00\n2   1551           4.00\n3   1563           5.00\n4    609           6.00\n5   1510           7.00\n6   1509           8.00\n7   1494           9.00\n8   1465          10.00\n9    601          11.00 \n\nTop 10 frequent RTT DL in the dataset\n    Avg RTT DL (ms)  frequency of RTT DL\n43            45.00                29907\n26            28.00                 3553\n25            27.00                 3380\n32            34.00                 3296\n33            35.00                 2892\n35            37.00                 2718\n34            36.00                 2645\n36            38.00                 2547\n27            29.00                 2498\n24            26.00                 2488\n"
     ]
    }
   ],
   "source": [
    "#top 10 RTT UL values in the dataset\n",
    "top_RTT_UL = pd.DataFrame({\"Top RTT UL\": cleaned_data[\"Avg RTT UL (ms)\"].unique()}).sort_values(by=\"Top RTT UL\",ascending=False).reset_index().head(10)\n",
    "#bottom 10 throughput UL values in the dataset\n",
    "bottom_RTT_UL = pd.DataFrame({\"Bottom RTT UL\": cleaned_data[\"Avg RTT UL (ms)\"].unique()}).sort_values(by=\"Bottom RTT UL\",ascending=True).reset_index().head(10)\n",
    "#top 10 frequent throughput UL values in the dataset\n",
    "frequent_RTT_UL = utilities.find_agg(cleaned_data, \"Avg RTT UL (ms)\",\"Avg RTT UL (ms)\" ,\"count\", \"frequency of TP UL\", 10, order=False )\n",
    "\n",
    "print(\"Top 10 RTT UL in the dataset\")\n",
    "print(top_RTT_UL,\"\\n\")\n",
    "print(\"Bottom 10 RTT UL in the dataset\")\n",
    "print(bottom_RTT_UL,\"\\n\")\n",
    "print(\"Top 10 frequent RTT UL in the dataset\")\n",
    "print(frequent_RTT_UL)\n",
    "print(\"\\n\")\n",
    "\n",
    "#top 10 throughput DL values in the dataset\n",
    "top_RTT_DL = pd.DataFrame({\"Top RTT DL\": cleaned_data[\"Avg RTT DL (ms)\"].unique()}).sort_values(by=\"Top RTT DL\",ascending=False).reset_index().head(10)\n",
    "#bottom 10 throughput UL values in the dataset\n",
    "bottom_RTT_DL = pd.DataFrame({\"Bottom RTT DL\": cleaned_data[\"Avg RTT DL (ms)\"].unique()}).sort_values(by=\"Bottom RTT DL\",ascending=True).reset_index().head(10)\n",
    "#top 10 frequent throughput UL values in the dataset\n",
    "frequent_RTT_DL = utilities.find_agg(cleaned_data, \"Avg RTT DL (ms)\",\"Avg RTT DL (ms)\" ,\"count\", \"frequency of RTT DL\", 10, order=False )\n",
    "\n",
    "print(\"Top 10 RTT DL in the dataset\")\n",
    "print(top_RTT_DL,\"\\n\")\n",
    "print(\"Bottom 10 RTT DL in the dataset\")\n",
    "print(bottom_RTT_DL,\"\\n\")\n",
    "print(\"Top 10 frequent RTT DL in the dataset\")\n",
    "print(frequent_RTT_DL)"
   ]
  },
  {
   "source": [
    "### Top bottom and most frequent TCP retransmission values in the dataset"
   ],
   "cell_type": "markdown",
   "metadata": {}
  },
  {
   "cell_type": "code",
   "execution_count": 49,
   "metadata": {},
   "outputs": [
    {
     "output_type": "stream",
     "name": "stdout",
     "text": [
      "Top 10 TCP UL in the dataset\n   index  Top RTT UL\n0    303    7,120.00\n1    663    5,607.00\n2    543    5,422.00\n3     41    5,279.00\n4    567    4,677.00\n5    404    4,226.00\n6    437    4,021.00\n7    674    3,923.00\n8    627    3,093.00\n9    423    3,029.00 \n\nBottom 10 TCP UL in the dataset\n   index  Bottom RTT UL\n0     14           0.00\n1      8           1.00\n2      5           2.00\n3     18           3.00\n4      3           4.00\n5      0           5.00\n6      7           6.00\n7      2           7.00\n8     40           8.00\n9     44           9.00 \n\nTop 10 frequent TCP UL in the dataset\n   Avg RTT UL (ms)  frequency of TP UL\n5             5.00               42475\n2             2.00               14277\n1             1.00               12826\n4             4.00               10242\n3             3.00                7935\n6             6.00                7518\n7             7.00                4196\n0             0.00                4126\n8             8.00                3209\n9             9.00                2647\n\n\nTop 10 TCP DL in the dataset\n   index  Top RTT DL\n0   1398   96,923.00\n1   1397   64,640.00\n2   1058   55,811.00\n3    494   54,847.00\n4   1277   26,971.00\n5   1304   26,250.00\n6    274   25,873.00\n7   1645   25,602.00\n8   1886   25,374.00\n9   1956   24,733.00 \n\nBottom 10 TCP DL in the dataset\n   index  Bottom RTT DL\n0   1500           0.00\n1   1583           2.00\n2   1551           4.00\n3   1563           5.00\n4    609           6.00\n5   1510           7.00\n6   1509           8.00\n7   1494           9.00\n8   1465          10.00\n9    601          11.00 \n\nTop 10 frequent TCP DL in the dataset\n    Avg RTT DL (ms)  frequency of RTT DL\n43            45.00                29907\n26            28.00                 3553\n25            27.00                 3380\n32            34.00                 3296\n33            35.00                 2892\n35            37.00                 2718\n34            36.00                 2645\n36            38.00                 2547\n27            29.00                 2498\n24            26.00                 2488\n"
     ]
    }
   ],
   "source": [
    "#top 10 RTT UL values in the dataset\n",
    "top_TCP_UL = pd.DataFrame({\"Top TCP UL\": cleaned_data[\"TCP UL Retrans. Vol (Bytes)\"].unique()}).sort_values(by=\"Top TCP UL\",ascending=False).reset_index().head(10)\n",
    "#bottom 10 throughput UL values in the dataset\n",
    "bottom_TCP_UL = pd.DataFrame({\"Bottom TCP UL\": cleaned_data[\"TCP UL Retrans. Vol (Bytes)\"].unique()}).sort_values(by=\"Bottom TCP UL\",ascending=True).reset_index().head(10)\n",
    "#top 10 frequent throughput UL values in the dataset\n",
    "frequent_TCP_UL = utilities.find_agg(cleaned_data, \"TCP UL Retrans. Vol (Bytes)\",\"TCP UL Retrans. Vol (Bytes)\" ,\"count\", \"frequency of TCP UL\", 10, order=False )\n",
    "\n",
    "print(\"Top 10 TCP UL in the dataset\")\n",
    "print(top_RTT_UL,\"\\n\")\n",
    "print(\"Bottom 10 TCP UL in the dataset\")\n",
    "print(bottom_RTT_UL,\"\\n\")\n",
    "print(\"Top 10 frequent TCP UL in the dataset\")\n",
    "print(frequent_RTT_UL)\n",
    "print(\"\\n\")\n",
    "\n",
    "#top 10 throughput DL values in the dataset\n",
    "top_TCP_DL = pd.DataFrame({\"Top TCP DL\": cleaned_data[\"TCP DL Retrans. Vol (Bytes)\"].unique()}).sort_values(by=\"Top TCP DL\",ascending=False).reset_index().head(10)\n",
    "#bottom 10 throughput UL values in the dataset\n",
    "bottom_TCP_DL = pd.DataFrame({\"Bottom TCP DL\": cleaned_data[\"TCP DL Retrans. Vol (Bytes)\"].unique()}).sort_values(by=\"Bottom TCP DL\",ascending=True).reset_index().head(10)\n",
    "#top 10 frequent throughput UL values in the dataset\n",
    "frequent_TCP_DL = utilities.find_agg(cleaned_data, \"TCP DL Retrans. Vol (Bytes)\",\"TCP DL Retrans. Vol (Bytes)\" ,\"count\", \"frequency of TCP DL\", 10, order=False )\n",
    "\n",
    "print(\"Top 10 TCP DL in the dataset\")\n",
    "print(top_RTT_DL,\"\\n\")\n",
    "print(\"Bottom 10 TCP DL in the dataset\")\n",
    "print(bottom_RTT_DL,\"\\n\")\n",
    "print(\"Top 10 frequent TCP DL in the dataset\")\n",
    "print(frequent_RTT_DL)"
   ]
  },
  {
   "source": [
    "The distribution of the average throughput  per handset type and provide interpretation for your findings.\n",
    "The average TCP retransmission view per handset type and provide interpretation for your findings.\n"
   ],
   "cell_type": "markdown",
   "metadata": {}
  },
  {
   "source": [
    "### The distribution of the average throughput per handset type"
   ],
   "cell_type": "markdown",
   "metadata": {}
  },
  {
   "cell_type": "code",
   "execution_count": 58,
   "metadata": {},
   "outputs": [
    {
     "output_type": "stream",
     "name": "stdout",
     "text": [
      "Avg Tp DL per handset type \n\n                     Handset Type  Avg TP DL for handset type\n316              Huawei B528S-23A              809,552,425.00\n59         Apple iPhone 7 (A1778)               68,206,317.00\n53        Apple iPhone 6S (A1688)               65,169,580.00\n49         Apple iPhone 6 (A1586)               59,387,996.00\n955  Samsung Galaxy S8 (Sm-G950F)               57,632,886.00\n337                  Huawei E5180               55,039,474.00\n78        Apple iPhone Xr (A2105)               52,989,435.00\n66         Apple iPhone 8 (A1905)               50,359,567.00\n75         Apple iPhone X (A1901)               49,328,216.00\n69    Apple iPhone 8 Plus (A1897)               33,537,386.00 \n\n\nAvg Tp UL per handset type \n\n                     Handset Type  Avg TP UL for handset type\n316              Huawei B528S-23A              121,478,363.00\n78        Apple iPhone Xr (A2105)                9,446,673.00\n49         Apple iPhone 6 (A1586)                9,347,012.00\n337                  Huawei E5180                9,329,154.00\n53        Apple iPhone 6S (A1688)                9,128,651.00\n59         Apple iPhone 7 (A1778)                8,977,086.00\n66         Apple iPhone 8 (A1905)                7,746,985.00\n75         Apple iPhone X (A1901)                7,719,281.00\n69    Apple iPhone 8 Plus (A1897)                5,724,354.00\n955  Samsung Galaxy S8 (Sm-G950F)                5,591,511.00\n"
     ]
    }
   ],
   "source": [
    "print(\"Avg Tp DL per handset type\",\"\\n\")\n",
    "TP_DL_handset = utilities.find_agg(cleaned_data, \"Handset Type\",\"Avg Bearer TP DL (kbps)\" ,\"sum\", \"Avg TP DL for handset type\", 10, order=False )\n",
    "print(TP_DL_handset,\"\\n\\n\")\n",
    "\n",
    "print(\"Avg Tp UL per handset type\",\"\\n\")\n",
    "TP_UL_handset = utilities.find_agg(cleaned_data, \"Handset Type\",\"Avg Bearer TP UL (kbps)\" ,\"sum\", \"Avg TP UL for handset type\", 10, order=False )\n",
    "print(TP_UL_handset)\n"
   ]
  },
  {
   "cell_type": "code",
   "execution_count": 64,
   "metadata": {},
   "outputs": [],
   "source": [
    "# sn.catplot(data = cleaned_data,x=cleaned_data[\"Avg Bearer TP DL (kbps)\"].count(),y=\"Handset Type\",kind=\"bar\")"
   ]
  },
  {
   "source": [
    "### The average TCP retransmission view per handset type"
   ],
   "cell_type": "markdown",
   "metadata": {}
  },
  {
   "cell_type": "code",
   "execution_count": 67,
   "metadata": {},
   "outputs": [
    {
     "output_type": "stream",
     "name": "stdout",
     "text": [
      "Avg TCp DL per handset type \n\n                     Handset Type  Avg TCP DL for handset type\n316              Huawei B528S-23A         1,045,218,364,148.00\n337                  Huawei E5180            61,750,921,075.00\n341                  Huawei E5573            15,790,482,356.00\n53        Apple iPhone 6S (A1688)            15,571,283,379.00\n49         Apple iPhone 6 (A1586)            14,440,825,042.00\n78        Apple iPhone Xr (A2105)            10,785,100,111.00\n59         Apple iPhone 7 (A1778)            10,734,496,076.00\n75         Apple iPhone X (A1901)             9,001,491,315.00\n955  Samsung Galaxy S8 (Sm-G950F)             8,261,001,366.00\n66         Apple iPhone 8 (A1905)             7,662,764,050.00 \n\n\nAvg Tp UL per handset type \n\n                     Handset Type  Avg TCP UL for handset type\n316              Huawei B528S-23A            33,637,124,455.00\n337                  Huawei E5180             1,848,022,017.50\n75         Apple iPhone X (A1901)               625,061,580.00\n49         Apple iPhone 6 (A1586)               553,321,375.00\n53        Apple iPhone 6S (A1688)               515,156,634.50\n69    Apple iPhone 8 Plus (A1897)               373,723,411.00\n59         Apple iPhone 7 (A1778)               299,845,149.00\n66         Apple iPhone 8 (A1905)               285,381,799.50\n56   Apple iPhone 6S Plus (A1687)               253,976,987.50\n78        Apple iPhone Xr (A2105)               252,866,306.50\n"
     ]
    }
   ],
   "source": [
    "print(\"Avg TCp DL per handset type\",\"\\n\")\n",
    "TCP_DL_handset = utilities.find_agg(cleaned_data, \"Handset Type\",\"TCP DL Retrans. Vol (Bytes)\" ,\"sum\", \"Avg TCP DL for handset type\", 10, order=False )\n",
    "print(TCP_DL_handset,\"\\n\\n\")\n",
    "\n",
    "print(\"Avg Tp UL per handset type\",\"\\n\")\n",
    "TCP_UL_handset = utilities.find_agg(cleaned_data, \"Handset Type\",\"TCP UL Retrans. Vol (Bytes)\" ,\"sum\", \"Avg TCP UL for handset type\", 10, order=False )\n",
    "print(TCP_UL_handset)\n"
   ]
  },
  {
   "source": [
    "Using the experience metrics above, perform a k-means clustering (where k = 3)\n",
    "we have 3 metrics and they are TCP retransmission UL/DL, throughput UL/DL and RTT UL/DL"
   ],
   "cell_type": "markdown",
   "metadata": {}
  },
  {
   "cell_type": "code",
   "execution_count": 86,
   "metadata": {},
   "outputs": [
    {
     "output_type": "execute_result",
     "data": {
      "text/plain": [
       "                        RTT DL  RTT UL       TCP DL    TCP UL     TP DL  \\\n",
       "MSISDN/Number                                                             \n",
       "33,601,001,722.00        46.00    0.00   568,730.00 20,949.50     37.00   \n",
       "33,601,001,754.00        30.00    1.00   568,730.00 20,949.50     48.00   \n",
       "33,601,002,511.00        45.00    5.00   568,730.00 20,949.50     48.00   \n",
       "33,601,007,832.00        69.00   15.00     1,066.00 20,949.50    204.00   \n",
       "33,601,008,617.00       114.00    5.00 9,918,360.00 42,151.50 40,395.00   \n",
       "...                        ...     ...          ...       ...       ...   \n",
       "33,789,996,170.00        42.00   10.00   215,044.00  3,001.00  9,978.00   \n",
       "33,789,997,247.00        34.00    6.00   568,730.00 20,949.50     68.00   \n",
       "3,197,020,876,596.00     45.00    5.00   568,730.00 20,949.50      1.00   \n",
       "337,000,037,000,919.00   45.00    5.00   568,730.00 20,949.50     11.00   \n",
       "882,397,108,489,451.00   45.00    5.00   568,730.00 20,949.50      2.00   \n",
       "\n",
       "                           TP UL  \n",
       "MSISDN/Number                     \n",
       "33,601,001,722.00          39.00  \n",
       "33,601,001,754.00          51.00  \n",
       "33,601,002,511.00          49.00  \n",
       "33,601,007,832.00          44.00  \n",
       "33,601,008,617.00      16,449.00  \n",
       "...                          ...  \n",
       "33,789,996,170.00         387.00  \n",
       "33,789,997,247.00          48.00  \n",
       "3,197,020,876,596.00        0.00  \n",
       "337,000,037,000,919.00     22.00  \n",
       "882,397,108,489,451.00      0.00  \n",
       "\n",
       "[106856 rows x 6 columns]"
      ],
      "text/html": "<div>\n<style scoped>\n    .dataframe tbody tr th:only-of-type {\n        vertical-align: middle;\n    }\n\n    .dataframe tbody tr th {\n        vertical-align: top;\n    }\n\n    .dataframe thead th {\n        text-align: right;\n    }\n</style>\n<table border=\"1\" class=\"dataframe\">\n  <thead>\n    <tr style=\"text-align: right;\">\n      <th></th>\n      <th>RTT DL</th>\n      <th>RTT UL</th>\n      <th>TCP DL</th>\n      <th>TCP UL</th>\n      <th>TP DL</th>\n      <th>TP UL</th>\n    </tr>\n    <tr>\n      <th>MSISDN/Number</th>\n      <th></th>\n      <th></th>\n      <th></th>\n      <th></th>\n      <th></th>\n      <th></th>\n    </tr>\n  </thead>\n  <tbody>\n    <tr>\n      <th>33,601,001,722.00</th>\n      <td>46.00</td>\n      <td>0.00</td>\n      <td>568,730.00</td>\n      <td>20,949.50</td>\n      <td>37.00</td>\n      <td>39.00</td>\n    </tr>\n    <tr>\n      <th>33,601,001,754.00</th>\n      <td>30.00</td>\n      <td>1.00</td>\n      <td>568,730.00</td>\n      <td>20,949.50</td>\n      <td>48.00</td>\n      <td>51.00</td>\n    </tr>\n    <tr>\n      <th>33,601,002,511.00</th>\n      <td>45.00</td>\n      <td>5.00</td>\n      <td>568,730.00</td>\n      <td>20,949.50</td>\n      <td>48.00</td>\n      <td>49.00</td>\n    </tr>\n    <tr>\n      <th>33,601,007,832.00</th>\n      <td>69.00</td>\n      <td>15.00</td>\n      <td>1,066.00</td>\n      <td>20,949.50</td>\n      <td>204.00</td>\n      <td>44.00</td>\n    </tr>\n    <tr>\n      <th>33,601,008,617.00</th>\n      <td>114.00</td>\n      <td>5.00</td>\n      <td>9,918,360.00</td>\n      <td>42,151.50</td>\n      <td>40,395.00</td>\n      <td>16,449.00</td>\n    </tr>\n    <tr>\n      <th>...</th>\n      <td>...</td>\n      <td>...</td>\n      <td>...</td>\n      <td>...</td>\n      <td>...</td>\n      <td>...</td>\n    </tr>\n    <tr>\n      <th>33,789,996,170.00</th>\n      <td>42.00</td>\n      <td>10.00</td>\n      <td>215,044.00</td>\n      <td>3,001.00</td>\n      <td>9,978.00</td>\n      <td>387.00</td>\n    </tr>\n    <tr>\n      <th>33,789,997,247.00</th>\n      <td>34.00</td>\n      <td>6.00</td>\n      <td>568,730.00</td>\n      <td>20,949.50</td>\n      <td>68.00</td>\n      <td>48.00</td>\n    </tr>\n    <tr>\n      <th>3,197,020,876,596.00</th>\n      <td>45.00</td>\n      <td>5.00</td>\n      <td>568,730.00</td>\n      <td>20,949.50</td>\n      <td>1.00</td>\n      <td>0.00</td>\n    </tr>\n    <tr>\n      <th>337,000,037,000,919.00</th>\n      <td>45.00</td>\n      <td>5.00</td>\n      <td>568,730.00</td>\n      <td>20,949.50</td>\n      <td>11.00</td>\n      <td>22.00</td>\n    </tr>\n    <tr>\n      <th>882,397,108,489,451.00</th>\n      <td>45.00</td>\n      <td>5.00</td>\n      <td>568,730.00</td>\n      <td>20,949.50</td>\n      <td>2.00</td>\n      <td>0.00</td>\n    </tr>\n  </tbody>\n</table>\n<p>106856 rows × 6 columns</p>\n</div>"
     },
     "metadata": {},
     "execution_count": 86
    }
   ],
   "source": [
    "cleaned_copy = cleaned_data.copy()\n",
    "df_experience= cleaned_copy.groupby(\"MSISDN/Number\")\n",
    "\n",
    "df_RTT_DL = pd.DataFrame(df_experience[\"Avg RTT DL (ms)\"].sum())\n",
    "df_RTT_UL = pd.DataFrame(df_experience[\"Avg RTT UL (ms)\"].sum())\n",
    "df_TP_DL = pd.DataFrame(df_experience[\"Avg Bearer TP DL (kbps)\"].sum())\n",
    "df_TP_UL = pd.DataFrame(df_experience[\"Avg Bearer TP UL (kbps)\"].sum())\n",
    "df_TCP_DL = pd.DataFrame(df_experience[\"TCP DL Retrans. Vol (Bytes)\"].sum())\n",
    "df_TCP_UL = pd.DataFrame(df_experience[\"TCP UL Retrans. Vol (Bytes)\"].sum())\n",
    "\n",
    "df_user_experience= pd.DataFrame({\"RTT DL\": df_RTT_DL[\"Avg RTT DL (ms)\"],\"RTT UL\": df_RTT_UL[\"Avg RTT UL (ms)\"],\"TCP DL\": df_TCP_DL[\"TCP DL Retrans. Vol (Bytes)\"],\"TCP UL\": df_TCP_UL[\"TCP UL Retrans. Vol (Bytes)\"],\"TP DL\": df_TP_DL[\"Avg Bearer TP DL (kbps)\"],\"TP UL\": df_TP_UL[\"Avg Bearer TP UL (kbps)\"]})\n",
    "df_user_experience\n"
   ]
  },
  {
   "cell_type": "code",
   "execution_count": 78,
   "metadata": {},
   "outputs": [],
   "source": [
    "normalized_RTT_DL = norm_scaling.normalize(df_RTT_DL)\n",
    "normalized_RTT_UL = norm_scaling.normalize(df_RTT_UL)\n",
    "normalized_TP_DL = norm_scaling.normalize(df_TP_DL)\n",
    "normalized_TP_UL = norm_scaling.normalize(df_TP_UL)\n",
    "normalized_TCP_DL = norm_scaling.normalize(df_TCP_DL)\n",
    "normalized_TCP_UL = norm_scaling.normalize(df_TCP_UL)\n",
    "X = np.hstack((normalized_RTT_DL,normalized_RTT_UL,normalized_TP_DL,normalized_TP_UL,normalized_TCP_DL,normalized_TCP_UL))\n",
    "X = norm_scaling.normalize(X)"
   ]
  },
  {
   "cell_type": "code",
   "execution_count": 79,
   "metadata": {},
   "outputs": [],
   "source": [
    "from sklearn.model_selection import train_test_split\n",
    "from sklearn.cluster import KMeans\n",
    "import pickle"
   ]
  },
  {
   "cell_type": "code",
   "execution_count": 80,
   "metadata": {},
   "outputs": [
    {
     "output_type": "execute_result",
     "data": {
      "text/plain": [
       "(106856, 6)"
      ]
     },
     "metadata": {},
     "execution_count": 80
    }
   ],
   "source": [
    "kmeans = KMeans(n_clusters=3).fit(X)\n",
    "pickle.dump(kmeans, open(\"../models/user_exper_model.pkl\", 'wb'))\n",
    "kmeans = kmeans.predict(X)\n",
    "X.shape"
   ]
  },
  {
   "cell_type": "code",
   "execution_count": 88,
   "metadata": {},
   "outputs": [],
   "source": [
    "# organizing datapoints per cluster\n",
    "un_normalized_data = df_user_experience.to_numpy()\n",
    "clusters = {}\n",
    "cluster_no = 3\n",
    "container = []\n",
    "for i in range(0,cluster_no):\n",
    "    for x,y in zip(un_normalized_data,kmeans):    \n",
    "        if y == i:\n",
    "            container.append(x)\n",
    "    clusters[\"cluster_\"+str(i)] = np.array(container)\n",
    "    container = []"
   ]
  },
  {
   "cell_type": "code",
   "execution_count": 89,
   "metadata": {},
   "outputs": [
    {
     "output_type": "stream",
     "name": "stdout",
     "text": [
      "min of cluster 0, RTT DL 0.0\nmax of cluster 0, RTT DL 96923.0\navg of cluster 0, RTT DL 134.20729076790337\nmin of cluster 0, RTT UL 0.0\nmax of cluster 0, RTT UL 7120.0\navg of cluster 0, RTT UL 21.139860074276925\nmin of cluster 0, TCP DL 2.0\nmax of cluster 0, TCP DL 1454975201.0\navg of cluster 0, TCP DL 6202603.855506997\nmin of cluster 0, TCP UL 1.0\nmax of cluster 0, TCP UL 5168607636.5\navg of cluster 0, TCP UL 386553.5843165022\nmin of cluster 1, RTT DL 31.0\nmax of cluster 1, RTT DL 2721.0\navg of cluster 1, RTT DL 265.93392070484583\nmin of cluster 1, RTT UL 7.0\nmax of cluster 1, RTT UL 1449.0\navg of cluster 1, RTT UL 103.9295154185022\nmin of cluster 1, TCP DL 1472698725.0\nmax of cluster 1, TCP DL 8332732777.0\navg of cluster 1, TCP DL 2931273374.8854628\nmin of cluster 1, TCP UL 2.0\nmax of cluster 1, TCP UL 807925207.0\navg of cluster 1, TCP UL 5338808.162995595\nmin of cluster 2, RTT DL 295644.0\nmax of cluster 2, RTT DL 295644.0\navg of cluster 2, RTT DL 295644.0\nmin of cluster 2, RTT UL 19577.0\nmax of cluster 2, RTT UL 19577.0\navg of cluster 2, RTT UL 19577.0\nmin of cluster 2, TCP DL 10558221768.0\nmax of cluster 2, TCP DL 10558221768.0\navg of cluster 2, TCP DL 10558221768.0\nmin of cluster 2, TCP UL 124712269.0\nmax of cluster 2, TCP UL 124712269.0\navg of cluster 2, TCP UL 124712269.0\n"
     ]
    }
   ],
   "source": [
    "# printing information for each cluster\n",
    "metrics = 4\n",
    "metrics_name = [\"RTT DL\",\"RTT UL\",\"TCP DL\",\"TCP UL\",\"TP DL\",\"TP UL\"]\n",
    "for i in range(3):\n",
    "    for metric in range(0,metrics):\n",
    "        data_cluster = clusters[\"cluster_\"+str(i)][:,metric]\n",
    "        print(\"min of cluster \"+str(i)+ \", \"+metrics_name[metric],data_cluster.min())\n",
    "        print(\"max of cluster \"+str(i)+ \", \"+metrics_name[metric],data_cluster.max())\n",
    "        print(\"avg of cluster \"+str(i)+ \", \"+metrics_name[metric],data_cluster.mean())"
   ]
  },
  {
   "cell_type": "code",
   "execution_count": null,
   "metadata": {},
   "outputs": [],
   "source": []
  }
 ]
}