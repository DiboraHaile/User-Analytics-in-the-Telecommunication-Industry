{
 "metadata": {
  "language_info": {
   "codemirror_mode": {
    "name": "ipython",
    "version": 3
   },
   "file_extension": ".py",
   "mimetype": "text/x-python",
   "name": "python",
   "nbconvert_exporter": "python",
   "pygments_lexer": "ipython3",
   "version": "3.7.10"
  },
  "orig_nbformat": 4,
  "kernelspec": {
   "name": "python3",
   "display_name": "Python 3.7.10 64-bit ('base': conda)"
  },
  "interpreter": {
   "hash": "8509fbb3be675dff6dc11c9c2ee7ff0c3d019cfe731b4fd2ce5e1b4c5a166295"
  }
 },
 "nbformat": 4,
 "nbformat_minor": 2,
 "cells": [
  {
   "source": [
    "Loading Data\n"
   ],
   "cell_type": "markdown",
   "metadata": {}
  },
  {
   "cell_type": "code",
   "execution_count": 1,
   "metadata": {},
   "outputs": [],
   "source": [
    "import pandas as pd"
   ]
  },
  {
   "cell_type": "code",
   "execution_count": 2,
   "metadata": {},
   "outputs": [],
   "source": [
    "def load_csv(path):\n",
    "    df = pd.read_csv(path,engine='python',error_bad_lines=False, na_values=['?', None,'-','--','undefined'])\n",
    "    return df"
   ]
  },
  {
   "cell_type": "code",
   "execution_count": 3,
   "metadata": {},
   "outputs": [],
   "source": [
    "df= load_csv('../data/data.csv')"
   ]
  },
  {
   "cell_type": "code",
   "execution_count": 4,
   "metadata": {},
   "outputs": [
    {
     "output_type": "execute_result",
     "data": {
      "text/plain": [
       "      Bearer Id            Start  Start ms              End  End ms  \\\n",
       "0  1.311448e+19   4/4/2019 12:01     770.0  4/25/2019 14:35   662.0   \n",
       "1  1.311448e+19   4/9/2019 13:04     235.0   4/25/2019 8:15   606.0   \n",
       "2  1.311448e+19   4/9/2019 17:42       1.0  4/25/2019 11:58   652.0   \n",
       "3  1.311448e+19   4/10/2019 0:31     486.0   4/25/2019 7:36   171.0   \n",
       "4  1.311448e+19  4/12/2019 20:10     565.0  4/25/2019 10:40   954.0   \n",
       "\n",
       "   Dur. (ms)          IMSI  MSISDN/Number          IMEI  \\\n",
       "0  1823652.0  2.082014e+14   3.366496e+10  3.552121e+13   \n",
       "1  1365104.0  2.082019e+14   3.368185e+10  3.579401e+13   \n",
       "2  1361762.0  2.082003e+14   3.376063e+10  3.528151e+13   \n",
       "3  1321509.0  2.082014e+14   3.375034e+10  3.535661e+13   \n",
       "4  1089009.0  2.082014e+14   3.369980e+10  3.540701e+13   \n",
       "\n",
       "      Last Location Name  ...  Youtube DL (Bytes)  Youtube UL (Bytes)  \\\n",
       "0  9.16456699548519E+015  ...          15854611.0           2501332.0   \n",
       "1                L77566A  ...          20247395.0          19111729.0   \n",
       "2                D42335A  ...          19725661.0          14699576.0   \n",
       "3                T21824A  ...          21388122.0          15146643.0   \n",
       "4                D88865A  ...          15259380.0          18962873.0   \n",
       "\n",
       "   Netflix DL (Bytes)  Netflix UL (Bytes)  Gaming DL (Bytes)  \\\n",
       "0           8198936.0           9656251.0        278082303.0   \n",
       "1          18338413.0          17227132.0        608750074.0   \n",
       "2          17587794.0           6163408.0        229584621.0   \n",
       "3          13994646.0           1097942.0        799538153.0   \n",
       "4          17124581.0            415218.0        527707248.0   \n",
       "\n",
       "   Gaming UL (Bytes)  Other DL (Bytes)  Other UL (Bytes)  Total UL (Bytes)  \\\n",
       "0         14344150.0       171744450.0         8814393.0        36749741.0   \n",
       "1          1170709.0       526904238.0        15055145.0        53800391.0   \n",
       "2           395630.0       410692588.0         4215763.0        27883638.0   \n",
       "3         10849722.0       749039933.0        12797283.0        43324218.0   \n",
       "4          3529801.0       550709500.0        13910322.0        38542814.0   \n",
       "\n",
       "   Total DL (Bytes)  \n",
       "0       308879636.0  \n",
       "1       653384965.0  \n",
       "2       279807335.0  \n",
       "3       846028530.0  \n",
       "4       569138589.0  \n",
       "\n",
       "[5 rows x 55 columns]"
      ],
      "text/html": "<div>\n<style scoped>\n    .dataframe tbody tr th:only-of-type {\n        vertical-align: middle;\n    }\n\n    .dataframe tbody tr th {\n        vertical-align: top;\n    }\n\n    .dataframe thead th {\n        text-align: right;\n    }\n</style>\n<table border=\"1\" class=\"dataframe\">\n  <thead>\n    <tr style=\"text-align: right;\">\n      <th></th>\n      <th>Bearer Id</th>\n      <th>Start</th>\n      <th>Start ms</th>\n      <th>End</th>\n      <th>End ms</th>\n      <th>Dur. (ms)</th>\n      <th>IMSI</th>\n      <th>MSISDN/Number</th>\n      <th>IMEI</th>\n      <th>Last Location Name</th>\n      <th>...</th>\n      <th>Youtube DL (Bytes)</th>\n      <th>Youtube UL (Bytes)</th>\n      <th>Netflix DL (Bytes)</th>\n      <th>Netflix UL (Bytes)</th>\n      <th>Gaming DL (Bytes)</th>\n      <th>Gaming UL (Bytes)</th>\n      <th>Other DL (Bytes)</th>\n      <th>Other UL (Bytes)</th>\n      <th>Total UL (Bytes)</th>\n      <th>Total DL (Bytes)</th>\n    </tr>\n  </thead>\n  <tbody>\n    <tr>\n      <th>0</th>\n      <td>1.311448e+19</td>\n      <td>4/4/2019 12:01</td>\n      <td>770.0</td>\n      <td>4/25/2019 14:35</td>\n      <td>662.0</td>\n      <td>1823652.0</td>\n      <td>2.082014e+14</td>\n      <td>3.366496e+10</td>\n      <td>3.552121e+13</td>\n      <td>9.16456699548519E+015</td>\n      <td>...</td>\n      <td>15854611.0</td>\n      <td>2501332.0</td>\n      <td>8198936.0</td>\n      <td>9656251.0</td>\n      <td>278082303.0</td>\n      <td>14344150.0</td>\n      <td>171744450.0</td>\n      <td>8814393.0</td>\n      <td>36749741.0</td>\n      <td>308879636.0</td>\n    </tr>\n    <tr>\n      <th>1</th>\n      <td>1.311448e+19</td>\n      <td>4/9/2019 13:04</td>\n      <td>235.0</td>\n      <td>4/25/2019 8:15</td>\n      <td>606.0</td>\n      <td>1365104.0</td>\n      <td>2.082019e+14</td>\n      <td>3.368185e+10</td>\n      <td>3.579401e+13</td>\n      <td>L77566A</td>\n      <td>...</td>\n      <td>20247395.0</td>\n      <td>19111729.0</td>\n      <td>18338413.0</td>\n      <td>17227132.0</td>\n      <td>608750074.0</td>\n      <td>1170709.0</td>\n      <td>526904238.0</td>\n      <td>15055145.0</td>\n      <td>53800391.0</td>\n      <td>653384965.0</td>\n    </tr>\n    <tr>\n      <th>2</th>\n      <td>1.311448e+19</td>\n      <td>4/9/2019 17:42</td>\n      <td>1.0</td>\n      <td>4/25/2019 11:58</td>\n      <td>652.0</td>\n      <td>1361762.0</td>\n      <td>2.082003e+14</td>\n      <td>3.376063e+10</td>\n      <td>3.528151e+13</td>\n      <td>D42335A</td>\n      <td>...</td>\n      <td>19725661.0</td>\n      <td>14699576.0</td>\n      <td>17587794.0</td>\n      <td>6163408.0</td>\n      <td>229584621.0</td>\n      <td>395630.0</td>\n      <td>410692588.0</td>\n      <td>4215763.0</td>\n      <td>27883638.0</td>\n      <td>279807335.0</td>\n    </tr>\n    <tr>\n      <th>3</th>\n      <td>1.311448e+19</td>\n      <td>4/10/2019 0:31</td>\n      <td>486.0</td>\n      <td>4/25/2019 7:36</td>\n      <td>171.0</td>\n      <td>1321509.0</td>\n      <td>2.082014e+14</td>\n      <td>3.375034e+10</td>\n      <td>3.535661e+13</td>\n      <td>T21824A</td>\n      <td>...</td>\n      <td>21388122.0</td>\n      <td>15146643.0</td>\n      <td>13994646.0</td>\n      <td>1097942.0</td>\n      <td>799538153.0</td>\n      <td>10849722.0</td>\n      <td>749039933.0</td>\n      <td>12797283.0</td>\n      <td>43324218.0</td>\n      <td>846028530.0</td>\n    </tr>\n    <tr>\n      <th>4</th>\n      <td>1.311448e+19</td>\n      <td>4/12/2019 20:10</td>\n      <td>565.0</td>\n      <td>4/25/2019 10:40</td>\n      <td>954.0</td>\n      <td>1089009.0</td>\n      <td>2.082014e+14</td>\n      <td>3.369980e+10</td>\n      <td>3.540701e+13</td>\n      <td>D88865A</td>\n      <td>...</td>\n      <td>15259380.0</td>\n      <td>18962873.0</td>\n      <td>17124581.0</td>\n      <td>415218.0</td>\n      <td>527707248.0</td>\n      <td>3529801.0</td>\n      <td>550709500.0</td>\n      <td>13910322.0</td>\n      <td>38542814.0</td>\n      <td>569138589.0</td>\n    </tr>\n  </tbody>\n</table>\n<p>5 rows × 55 columns</p>\n</div>"
     },
     "metadata": {},
     "execution_count": 4
    }
   ],
   "source": [
    "df.head()\n",
    "# print(type(df))"
   ]
  },
  {
   "cell_type": "code",
   "execution_count": 5,
   "metadata": {},
   "outputs": [],
   "source": [
    "class DataInfo:\n",
    "    def __init__(self,df):\n",
    "        self.df = df\n",
    "\n",
    "    def datatype_cols(self):\n",
    "        return self.df.dtypes\n",
    "\n",
    "    def general_description(self):\n",
    "        return self.df.describe()\n",
    "\n",
    "    def count_null(self):\n",
    "        return self.df.isnull().sum()\n",
    "\n",
    "    def return_columns(self):\n",
    "        return self.df.columns.tolist()\n",
    "\n",
    "    def count_cols(self):\n",
    "        return len(self.df.columns.tolist())\n",
    "    \n",
    "    def size_df(self):\n",
    "        return df.shape[0],df.shape[1]\n",
    "    \n",
    "    "
   ]
  },
  {
   "cell_type": "code",
   "execution_count": 6,
   "metadata": {},
   "outputs": [
    {
     "output_type": "execute_result",
     "data": {
      "text/plain": [
       "(['Bearer Id',\n",
       "  'Start',\n",
       "  'Start ms',\n",
       "  'End',\n",
       "  'End ms',\n",
       "  'Dur. (ms)',\n",
       "  'IMSI',\n",
       "  'MSISDN/Number',\n",
       "  'IMEI',\n",
       "  'Last Location Name',\n",
       "  'Avg RTT DL (ms)',\n",
       "  'Avg RTT UL (ms)',\n",
       "  'Avg Bearer TP DL (kbps)',\n",
       "  'Avg Bearer TP UL (kbps)',\n",
       "  'TCP DL Retrans. Vol (Bytes)',\n",
       "  'TCP UL Retrans. Vol (Bytes)',\n",
       "  'DL TP < 50 Kbps (%)',\n",
       "  '50 Kbps < DL TP < 250 Kbps (%)',\n",
       "  '250 Kbps < DL TP < 1 Mbps (%)',\n",
       "  'DL TP > 1 Mbps (%)',\n",
       "  'UL TP < 10 Kbps (%)',\n",
       "  '10 Kbps < UL TP < 50 Kbps (%)',\n",
       "  '50 Kbps < UL TP < 300 Kbps (%)',\n",
       "  'UL TP > 300 Kbps (%)',\n",
       "  'HTTP DL (Bytes)',\n",
       "  'HTTP UL (Bytes)',\n",
       "  'Activity Duration DL (ms)',\n",
       "  'Activity Duration UL (ms)',\n",
       "  'Dur. (ms).1',\n",
       "  'Handset Manufacturer',\n",
       "  'Handset Type',\n",
       "  'Nb of sec with 125000B < Vol DL',\n",
       "  'Nb of sec with 1250B < Vol UL < 6250B',\n",
       "  'Nb of sec with 31250B < Vol DL < 125000B',\n",
       "  'Nb of sec with 37500B < Vol UL',\n",
       "  'Nb of sec with 6250B < Vol DL < 31250B',\n",
       "  'Nb of sec with 6250B < Vol UL < 37500B',\n",
       "  'Nb of sec with Vol DL < 6250B',\n",
       "  'Nb of sec with Vol UL < 1250B',\n",
       "  'Social Media DL (Bytes)',\n",
       "  'Social Media UL (Bytes)',\n",
       "  'Google DL (Bytes)',\n",
       "  'Google UL (Bytes)',\n",
       "  'Email DL (Bytes)',\n",
       "  'Email UL (Bytes)',\n",
       "  'Youtube DL (Bytes)',\n",
       "  'Youtube UL (Bytes)',\n",
       "  'Netflix DL (Bytes)',\n",
       "  'Netflix UL (Bytes)',\n",
       "  'Gaming DL (Bytes)',\n",
       "  'Gaming UL (Bytes)',\n",
       "  'Other DL (Bytes)',\n",
       "  'Other UL (Bytes)',\n",
       "  'Total UL (Bytes)',\n",
       "  'Total DL (Bytes)'],\n",
       " 55)"
      ]
     },
     "metadata": {},
     "execution_count": 6
    }
   ],
   "source": [
    "data = DataInfo(df)\n",
    "data.return_columns(),data.count_cols()"
   ]
  },
  {
   "cell_type": "code",
   "execution_count": 7,
   "metadata": {},
   "outputs": [
    {
     "output_type": "execute_result",
     "data": {
      "text/plain": [
       "Bearer Id                                      991\n",
       "Start                                            1\n",
       "Start ms                                         1\n",
       "End                                              1\n",
       "End ms                                           1\n",
       "Dur. (ms)                                        1\n",
       "IMSI                                           570\n",
       "MSISDN/Number                                 1066\n",
       "IMEI                                           572\n",
       "Last Location Name                            1153\n",
       "Avg RTT DL (ms)                              27829\n",
       "Avg RTT UL (ms)                              27812\n",
       "Avg Bearer TP DL (kbps)                          1\n",
       "Avg Bearer TP UL (kbps)                          1\n",
       "TCP DL Retrans. Vol (Bytes)                  88146\n",
       "TCP UL Retrans. Vol (Bytes)                  96649\n",
       "DL TP < 50 Kbps (%)                            754\n",
       "50 Kbps < DL TP < 250 Kbps (%)                 754\n",
       "250 Kbps < DL TP < 1 Mbps (%)                  754\n",
       "DL TP > 1 Mbps (%)                             754\n",
       "UL TP < 10 Kbps (%)                            792\n",
       "10 Kbps < UL TP < 50 Kbps (%)                  792\n",
       "50 Kbps < UL TP < 300 Kbps (%)                 792\n",
       "UL TP > 300 Kbps (%)                           792\n",
       "HTTP DL (Bytes)                              81474\n",
       "HTTP UL (Bytes)                              81810\n",
       "Activity Duration DL (ms)                        1\n",
       "Activity Duration UL (ms)                        1\n",
       "Dur. (ms).1                                      1\n",
       "Handset Manufacturer                          9559\n",
       "Handset Type                                  9559\n",
       "Nb of sec with 125000B < Vol DL              97538\n",
       "Nb of sec with 1250B < Vol UL < 6250B        92894\n",
       "Nb of sec with 31250B < Vol DL < 125000B     93586\n",
       "Nb of sec with 37500B < Vol UL              130254\n",
       "Nb of sec with 6250B < Vol DL < 31250B       88317\n",
       "Nb of sec with 6250B < Vol UL < 37500B      111843\n",
       "Nb of sec with Vol DL < 6250B                  755\n",
       "Nb of sec with Vol UL < 1250B                  793\n",
       "Social Media DL (Bytes)                          0\n",
       "Social Media UL (Bytes)                          0\n",
       "Google DL (Bytes)                                0\n",
       "Google UL (Bytes)                                0\n",
       "Email DL (Bytes)                                 0\n",
       "Email UL (Bytes)                                 0\n",
       "Youtube DL (Bytes)                               0\n",
       "Youtube UL (Bytes)                               0\n",
       "Netflix DL (Bytes)                               0\n",
       "Netflix UL (Bytes)                               0\n",
       "Gaming DL (Bytes)                                0\n",
       "Gaming UL (Bytes)                                0\n",
       "Other DL (Bytes)                                 0\n",
       "Other UL (Bytes)                                 0\n",
       "Total UL (Bytes)                                 1\n",
       "Total DL (Bytes)                                 1\n",
       "dtype: int64"
      ]
     },
     "metadata": {},
     "execution_count": 7
    }
   ],
   "source": [
    "data.count_null()"
   ]
  },
  {
   "cell_type": "code",
   "execution_count": 8,
   "metadata": {},
   "outputs": [
    {
     "output_type": "execute_result",
     "data": {
      "text/plain": [
       "          Bearer Id       Start ms         End ms     Dur. (ms)          IMSI  \\\n",
       "count  1.490100e+05  150000.000000  150000.000000  1.500000e+05  1.494310e+05   \n",
       "mean   1.013887e+19     499.188200     498.800880  1.046086e+05  2.082016e+14   \n",
       "std    2.893173e+18     288.611834     288.097653  8.103762e+04  2.148809e+10   \n",
       "min    6.917538e+18       0.000000       0.000000  7.142000e+03  2.040471e+14   \n",
       "25%    7.349883e+18     250.000000     251.000000  5.744050e+04  2.082014e+14   \n",
       "50%    7.349883e+18     499.000000     500.000000  8.639900e+04  2.082015e+14   \n",
       "75%    1.304243e+19     749.000000     750.000000  1.324302e+05  2.082018e+14   \n",
       "max    1.318654e+19     999.000000     999.000000  1.859336e+06  2.140743e+14   \n",
       "\n",
       "       MSISDN/Number          IMEI  Avg RTT DL (ms)  Avg RTT UL (ms)  \\\n",
       "count   1.489350e+05  1.494290e+05    122172.000000    122189.000000   \n",
       "mean    4.188282e+10  4.847455e+13       109.795706        17.662883   \n",
       "std     2.447443e+12  2.241637e+13       619.782739        84.793524   \n",
       "min     3.360100e+10  4.400152e+11         0.000000         0.000000   \n",
       "25%     3.365130e+10  3.546071e+13        32.000000         2.000000   \n",
       "50%     3.366371e+10  3.572201e+13        45.000000         5.000000   \n",
       "75%     3.368349e+10  8.611970e+13        70.000000        15.000000   \n",
       "max     8.823971e+14  9.900120e+13     96923.000000      7120.000000   \n",
       "\n",
       "       Avg Bearer TP DL (kbps)  ...  Youtube DL (Bytes)  Youtube UL (Bytes)  \\\n",
       "count            150000.000000  ...        1.500010e+05        1.500010e+05   \n",
       "mean              13300.045927  ...        1.163407e+07        1.100941e+07   \n",
       "std               23971.878541  ...        6.710569e+06        6.345423e+06   \n",
       "min                   0.000000  ...        5.300000e+01        1.050000e+02   \n",
       "25%                  43.000000  ...        5.833501e+06        5.517965e+06   \n",
       "50%                  63.000000  ...        1.161602e+07        1.101345e+07   \n",
       "75%               19710.750000  ...        1.744852e+07        1.651556e+07   \n",
       "max              378160.000000  ...        2.325910e+07        2.201196e+07   \n",
       "\n",
       "       Netflix DL (Bytes)  Netflix UL (Bytes)  Gaming DL (Bytes)  \\\n",
       "count        1.500010e+05        1.500010e+05       1.500010e+05   \n",
       "mean         1.162685e+07        1.100175e+07       4.220447e+08   \n",
       "std          6.725218e+06        6.359490e+06       2.439675e+08   \n",
       "min          4.200000e+01        3.500000e+01       2.516000e+03   \n",
       "25%          5.777156e+06        5.475981e+06       2.104733e+08   \n",
       "50%          1.164222e+07        1.099638e+07       4.234081e+08   \n",
       "75%          1.747048e+07        1.650727e+07       6.331742e+08   \n",
       "max          2.325919e+07        2.201196e+07       8.434419e+08   \n",
       "\n",
       "       Gaming UL (Bytes)  Other DL (Bytes)  Other UL (Bytes)  \\\n",
       "count       1.500010e+05      1.500010e+05      1.500010e+05   \n",
       "mean        8.288398e+06      4.211005e+08      8.264799e+06   \n",
       "std         4.782700e+06      2.432050e+08      4.769004e+06   \n",
       "min         5.900000e+01      3.290000e+03      1.480000e+02   \n",
       "25%         4.128476e+06      2.101869e+08      4.145943e+06   \n",
       "50%         8.291208e+06      4.218030e+08      8.267071e+06   \n",
       "75%         1.243162e+07      6.316918e+08      1.238415e+07   \n",
       "max         1.655879e+07      8.434425e+08      1.655882e+07   \n",
       "\n",
       "       Total UL (Bytes)  Total DL (Bytes)  \n",
       "count      1.500000e+05      1.500000e+05  \n",
       "mean       4.112121e+07      4.546434e+08  \n",
       "std        1.127639e+07      2.441429e+08  \n",
       "min        2.866892e+06      7.114041e+06  \n",
       "25%        3.322201e+07      2.431068e+08  \n",
       "50%        4.114331e+07      4.558411e+08  \n",
       "75%        4.903424e+07      6.657055e+08  \n",
       "max        7.833131e+07      9.029696e+08  \n",
       "\n",
       "[8 rows x 50 columns]"
      ],
      "text/html": "<div>\n<style scoped>\n    .dataframe tbody tr th:only-of-type {\n        vertical-align: middle;\n    }\n\n    .dataframe tbody tr th {\n        vertical-align: top;\n    }\n\n    .dataframe thead th {\n        text-align: right;\n    }\n</style>\n<table border=\"1\" class=\"dataframe\">\n  <thead>\n    <tr style=\"text-align: right;\">\n      <th></th>\n      <th>Bearer Id</th>\n      <th>Start ms</th>\n      <th>End ms</th>\n      <th>Dur. (ms)</th>\n      <th>IMSI</th>\n      <th>MSISDN/Number</th>\n      <th>IMEI</th>\n      <th>Avg RTT DL (ms)</th>\n      <th>Avg RTT UL (ms)</th>\n      <th>Avg Bearer TP DL (kbps)</th>\n      <th>...</th>\n      <th>Youtube DL (Bytes)</th>\n      <th>Youtube UL (Bytes)</th>\n      <th>Netflix DL (Bytes)</th>\n      <th>Netflix UL (Bytes)</th>\n      <th>Gaming DL (Bytes)</th>\n      <th>Gaming UL (Bytes)</th>\n      <th>Other DL (Bytes)</th>\n      <th>Other UL (Bytes)</th>\n      <th>Total UL (Bytes)</th>\n      <th>Total DL (Bytes)</th>\n    </tr>\n  </thead>\n  <tbody>\n    <tr>\n      <th>count</th>\n      <td>1.490100e+05</td>\n      <td>150000.000000</td>\n      <td>150000.000000</td>\n      <td>1.500000e+05</td>\n      <td>1.494310e+05</td>\n      <td>1.489350e+05</td>\n      <td>1.494290e+05</td>\n      <td>122172.000000</td>\n      <td>122189.000000</td>\n      <td>150000.000000</td>\n      <td>...</td>\n      <td>1.500010e+05</td>\n      <td>1.500010e+05</td>\n      <td>1.500010e+05</td>\n      <td>1.500010e+05</td>\n      <td>1.500010e+05</td>\n      <td>1.500010e+05</td>\n      <td>1.500010e+05</td>\n      <td>1.500010e+05</td>\n      <td>1.500000e+05</td>\n      <td>1.500000e+05</td>\n    </tr>\n    <tr>\n      <th>mean</th>\n      <td>1.013887e+19</td>\n      <td>499.188200</td>\n      <td>498.800880</td>\n      <td>1.046086e+05</td>\n      <td>2.082016e+14</td>\n      <td>4.188282e+10</td>\n      <td>4.847455e+13</td>\n      <td>109.795706</td>\n      <td>17.662883</td>\n      <td>13300.045927</td>\n      <td>...</td>\n      <td>1.163407e+07</td>\n      <td>1.100941e+07</td>\n      <td>1.162685e+07</td>\n      <td>1.100175e+07</td>\n      <td>4.220447e+08</td>\n      <td>8.288398e+06</td>\n      <td>4.211005e+08</td>\n      <td>8.264799e+06</td>\n      <td>4.112121e+07</td>\n      <td>4.546434e+08</td>\n    </tr>\n    <tr>\n      <th>std</th>\n      <td>2.893173e+18</td>\n      <td>288.611834</td>\n      <td>288.097653</td>\n      <td>8.103762e+04</td>\n      <td>2.148809e+10</td>\n      <td>2.447443e+12</td>\n      <td>2.241637e+13</td>\n      <td>619.782739</td>\n      <td>84.793524</td>\n      <td>23971.878541</td>\n      <td>...</td>\n      <td>6.710569e+06</td>\n      <td>6.345423e+06</td>\n      <td>6.725218e+06</td>\n      <td>6.359490e+06</td>\n      <td>2.439675e+08</td>\n      <td>4.782700e+06</td>\n      <td>2.432050e+08</td>\n      <td>4.769004e+06</td>\n      <td>1.127639e+07</td>\n      <td>2.441429e+08</td>\n    </tr>\n    <tr>\n      <th>min</th>\n      <td>6.917538e+18</td>\n      <td>0.000000</td>\n      <td>0.000000</td>\n      <td>7.142000e+03</td>\n      <td>2.040471e+14</td>\n      <td>3.360100e+10</td>\n      <td>4.400152e+11</td>\n      <td>0.000000</td>\n      <td>0.000000</td>\n      <td>0.000000</td>\n      <td>...</td>\n      <td>5.300000e+01</td>\n      <td>1.050000e+02</td>\n      <td>4.200000e+01</td>\n      <td>3.500000e+01</td>\n      <td>2.516000e+03</td>\n      <td>5.900000e+01</td>\n      <td>3.290000e+03</td>\n      <td>1.480000e+02</td>\n      <td>2.866892e+06</td>\n      <td>7.114041e+06</td>\n    </tr>\n    <tr>\n      <th>25%</th>\n      <td>7.349883e+18</td>\n      <td>250.000000</td>\n      <td>251.000000</td>\n      <td>5.744050e+04</td>\n      <td>2.082014e+14</td>\n      <td>3.365130e+10</td>\n      <td>3.546071e+13</td>\n      <td>32.000000</td>\n      <td>2.000000</td>\n      <td>43.000000</td>\n      <td>...</td>\n      <td>5.833501e+06</td>\n      <td>5.517965e+06</td>\n      <td>5.777156e+06</td>\n      <td>5.475981e+06</td>\n      <td>2.104733e+08</td>\n      <td>4.128476e+06</td>\n      <td>2.101869e+08</td>\n      <td>4.145943e+06</td>\n      <td>3.322201e+07</td>\n      <td>2.431068e+08</td>\n    </tr>\n    <tr>\n      <th>50%</th>\n      <td>7.349883e+18</td>\n      <td>499.000000</td>\n      <td>500.000000</td>\n      <td>8.639900e+04</td>\n      <td>2.082015e+14</td>\n      <td>3.366371e+10</td>\n      <td>3.572201e+13</td>\n      <td>45.000000</td>\n      <td>5.000000</td>\n      <td>63.000000</td>\n      <td>...</td>\n      <td>1.161602e+07</td>\n      <td>1.101345e+07</td>\n      <td>1.164222e+07</td>\n      <td>1.099638e+07</td>\n      <td>4.234081e+08</td>\n      <td>8.291208e+06</td>\n      <td>4.218030e+08</td>\n      <td>8.267071e+06</td>\n      <td>4.114331e+07</td>\n      <td>4.558411e+08</td>\n    </tr>\n    <tr>\n      <th>75%</th>\n      <td>1.304243e+19</td>\n      <td>749.000000</td>\n      <td>750.000000</td>\n      <td>1.324302e+05</td>\n      <td>2.082018e+14</td>\n      <td>3.368349e+10</td>\n      <td>8.611970e+13</td>\n      <td>70.000000</td>\n      <td>15.000000</td>\n      <td>19710.750000</td>\n      <td>...</td>\n      <td>1.744852e+07</td>\n      <td>1.651556e+07</td>\n      <td>1.747048e+07</td>\n      <td>1.650727e+07</td>\n      <td>6.331742e+08</td>\n      <td>1.243162e+07</td>\n      <td>6.316918e+08</td>\n      <td>1.238415e+07</td>\n      <td>4.903424e+07</td>\n      <td>6.657055e+08</td>\n    </tr>\n    <tr>\n      <th>max</th>\n      <td>1.318654e+19</td>\n      <td>999.000000</td>\n      <td>999.000000</td>\n      <td>1.859336e+06</td>\n      <td>2.140743e+14</td>\n      <td>8.823971e+14</td>\n      <td>9.900120e+13</td>\n      <td>96923.000000</td>\n      <td>7120.000000</td>\n      <td>378160.000000</td>\n      <td>...</td>\n      <td>2.325910e+07</td>\n      <td>2.201196e+07</td>\n      <td>2.325919e+07</td>\n      <td>2.201196e+07</td>\n      <td>8.434419e+08</td>\n      <td>1.655879e+07</td>\n      <td>8.434425e+08</td>\n      <td>1.655882e+07</td>\n      <td>7.833131e+07</td>\n      <td>9.029696e+08</td>\n    </tr>\n  </tbody>\n</table>\n<p>8 rows × 50 columns</p>\n</div>"
     },
     "metadata": {},
     "execution_count": 8
    }
   ],
   "source": [
    "data.general_description()"
   ]
  },
  {
   "cell_type": "code",
   "execution_count": 9,
   "metadata": {},
   "outputs": [
    {
     "output_type": "execute_result",
     "data": {
      "text/plain": [
       "Bearer Id                                   float64\n",
       "Start                                        object\n",
       "Start ms                                    float64\n",
       "End                                          object\n",
       "End ms                                      float64\n",
       "Dur. (ms)                                   float64\n",
       "IMSI                                        float64\n",
       "MSISDN/Number                               float64\n",
       "IMEI                                        float64\n",
       "Last Location Name                           object\n",
       "Avg RTT DL (ms)                             float64\n",
       "Avg RTT UL (ms)                             float64\n",
       "Avg Bearer TP DL (kbps)                     float64\n",
       "Avg Bearer TP UL (kbps)                     float64\n",
       "TCP DL Retrans. Vol (Bytes)                 float64\n",
       "TCP UL Retrans. Vol (Bytes)                 float64\n",
       "DL TP < 50 Kbps (%)                         float64\n",
       "50 Kbps < DL TP < 250 Kbps (%)              float64\n",
       "250 Kbps < DL TP < 1 Mbps (%)               float64\n",
       "DL TP > 1 Mbps (%)                          float64\n",
       "UL TP < 10 Kbps (%)                         float64\n",
       "10 Kbps < UL TP < 50 Kbps (%)               float64\n",
       "50 Kbps < UL TP < 300 Kbps (%)              float64\n",
       "UL TP > 300 Kbps (%)                        float64\n",
       "HTTP DL (Bytes)                             float64\n",
       "HTTP UL (Bytes)                             float64\n",
       "Activity Duration DL (ms)                   float64\n",
       "Activity Duration UL (ms)                   float64\n",
       "Dur. (ms).1                                 float64\n",
       "Handset Manufacturer                         object\n",
       "Handset Type                                 object\n",
       "Nb of sec with 125000B < Vol DL             float64\n",
       "Nb of sec with 1250B < Vol UL < 6250B       float64\n",
       "Nb of sec with 31250B < Vol DL < 125000B    float64\n",
       "Nb of sec with 37500B < Vol UL              float64\n",
       "Nb of sec with 6250B < Vol DL < 31250B      float64\n",
       "Nb of sec with 6250B < Vol UL < 37500B      float64\n",
       "Nb of sec with Vol DL < 6250B               float64\n",
       "Nb of sec with Vol UL < 1250B               float64\n",
       "Social Media DL (Bytes)                     float64\n",
       "Social Media UL (Bytes)                     float64\n",
       "Google DL (Bytes)                           float64\n",
       "Google UL (Bytes)                           float64\n",
       "Email DL (Bytes)                            float64\n",
       "Email UL (Bytes)                            float64\n",
       "Youtube DL (Bytes)                          float64\n",
       "Youtube UL (Bytes)                          float64\n",
       "Netflix DL (Bytes)                          float64\n",
       "Netflix UL (Bytes)                          float64\n",
       "Gaming DL (Bytes)                           float64\n",
       "Gaming UL (Bytes)                           float64\n",
       "Other DL (Bytes)                            float64\n",
       "Other UL (Bytes)                            float64\n",
       "Total UL (Bytes)                            float64\n",
       "Total DL (Bytes)                            float64\n",
       "dtype: object"
      ]
     },
     "metadata": {},
     "execution_count": 9
    }
   ],
   "source": [
    "data.datatype_cols()"
   ]
  },
  {
   "cell_type": "code",
   "execution_count": 10,
   "metadata": {},
   "outputs": [],
   "source": [
    "# handle missing values of columns of type object\n",
    "def fill_missing_values(df):\n",
    "    objectTypeCols = [col_name for col_name in df.columns.tolist() if df.dtypes[col_name] == object]\n",
    "    numericTypeCols = [col_name for col_name in df.columns.tolist() if col_name not in objectTypeCols]\n",
    "    print(objectTypeCols)\n",
    "\n",
    "    #for object type columns use mode\n",
    "    for col in objectTypeCols:\n",
    "        df[col] = df[col].fillna(df[col].mode()[0])\n",
    "    \n",
    "    #for numeric type columsn use median\n",
    "    for col in numericTypeCols:\n",
    "        df[col] = df[col].fillna(df[col].median())\n",
    "    return df\n",
    "    \n"
   ]
  },
  {
   "cell_type": "code",
   "execution_count": 11,
   "metadata": {},
   "outputs": [],
   "source": [
    "def Handle_missing_values(df):\n",
    "        # removed columns containing null values of more than 20%\n",
    "        row,col = df.shape\n",
    "        df.dropna(axis='columns',thresh=row*0.7,inplace=True)\n",
    "        #check if column datatype is numeric/object\n",
    "        #if object use mode to fix missing type\n",
    "        df = fill_missing_values(df)\n",
    "\n",
    "        # if numeric use median\n",
    "\n",
    "        \n",
    "        return df"
   ]
  },
  {
   "cell_type": "code",
   "execution_count": 12,
   "metadata": {},
   "outputs": [
    {
     "output_type": "stream",
     "name": "stdout",
     "text": [
      "['Start', 'End', 'Last Location Name', 'Handset Manufacturer', 'Handset Type']\n"
     ]
    },
    {
     "output_type": "execute_result",
     "data": {
      "text/plain": [
       "(150001, 45)"
      ]
     },
     "metadata": {},
     "execution_count": 12
    }
   ],
   "source": [
    "missing_handled = Handle_missing_values(df)\n",
    "DataInfo(missing_handled).size_df()"
   ]
  },
  {
   "cell_type": "code",
   "execution_count": null,
   "metadata": {},
   "outputs": [],
   "source": []
  },
  {
   "source": [
    "Transformation"
   ],
   "cell_type": "markdown",
   "metadata": {}
  },
  {
   "cell_type": "code",
   "execution_count": 115,
   "metadata": {},
   "outputs": [],
   "source": [
    "#Scaling and Normalization\n"
   ]
  },
  {
   "cell_type": "code",
   "execution_count": 13,
   "metadata": {},
   "outputs": [
    {
     "output_type": "execute_result",
     "data": {
      "text/plain": [
       "                     Handset Type  handset users count\n",
       "316              Huawei B528S-23A                29311\n",
       "53        Apple iPhone 6S (A1688)                 9419\n",
       "49         Apple iPhone 6 (A1586)                 9023\n",
       "59         Apple iPhone 7 (A1778)                 6326\n",
       "73        Apple iPhone Se (A1723)                 5187\n",
       "66         Apple iPhone 8 (A1905)                 4993\n",
       "78        Apple iPhone Xr (A2105)                 4568\n",
       "955  Samsung Galaxy S8 (Sm-G950F)                 4520\n",
       "75         Apple iPhone X (A1901)                 3813\n",
       "838    Samsung Galaxy A5 Sm-A520F                 3724"
      ],
      "text/html": "<div>\n<style scoped>\n    .dataframe tbody tr th:only-of-type {\n        vertical-align: middle;\n    }\n\n    .dataframe tbody tr th {\n        vertical-align: top;\n    }\n\n    .dataframe thead th {\n        text-align: right;\n    }\n</style>\n<table border=\"1\" class=\"dataframe\">\n  <thead>\n    <tr style=\"text-align: right;\">\n      <th></th>\n      <th>Handset Type</th>\n      <th>handset users count</th>\n    </tr>\n  </thead>\n  <tbody>\n    <tr>\n      <th>316</th>\n      <td>Huawei B528S-23A</td>\n      <td>29311</td>\n    </tr>\n    <tr>\n      <th>53</th>\n      <td>Apple iPhone 6S (A1688)</td>\n      <td>9419</td>\n    </tr>\n    <tr>\n      <th>49</th>\n      <td>Apple iPhone 6 (A1586)</td>\n      <td>9023</td>\n    </tr>\n    <tr>\n      <th>59</th>\n      <td>Apple iPhone 7 (A1778)</td>\n      <td>6326</td>\n    </tr>\n    <tr>\n      <th>73</th>\n      <td>Apple iPhone Se (A1723)</td>\n      <td>5187</td>\n    </tr>\n    <tr>\n      <th>66</th>\n      <td>Apple iPhone 8 (A1905)</td>\n      <td>4993</td>\n    </tr>\n    <tr>\n      <th>78</th>\n      <td>Apple iPhone Xr (A2105)</td>\n      <td>4568</td>\n    </tr>\n    <tr>\n      <th>955</th>\n      <td>Samsung Galaxy S8 (Sm-G950F)</td>\n      <td>4520</td>\n    </tr>\n    <tr>\n      <th>75</th>\n      <td>Apple iPhone X (A1901)</td>\n      <td>3813</td>\n    </tr>\n    <tr>\n      <th>838</th>\n      <td>Samsung Galaxy A5 Sm-A520F</td>\n      <td>3724</td>\n    </tr>\n  </tbody>\n</table>\n</div>"
     },
     "metadata": {},
     "execution_count": 13
    }
   ],
   "source": [
    "#top 10 handsets used by clients\n",
    "df_handsets = pd.DataFrame({'handset users count':df.groupby(['Handset Type'])['Bearer Id'].count()}).reset_index()\n",
    "df_handsets = df_handsets.sort_values(['handset users count'],ascending=False)\n",
    "df_handsets.head(10)"
   ]
  },
  {
   "cell_type": "code",
   "execution_count": 14,
   "metadata": {},
   "outputs": [
    {
     "output_type": "execute_result",
     "data": {
      "text/plain": [
       "    Handset Manufacturer  handsets manufactured\n",
       "5                  Apple                  69124\n",
       "103              Samsung                  40839\n",
       "52                Huawei                  34423"
      ],
      "text/html": "<div>\n<style scoped>\n    .dataframe tbody tr th:only-of-type {\n        vertical-align: middle;\n    }\n\n    .dataframe tbody tr th {\n        vertical-align: top;\n    }\n\n    .dataframe thead th {\n        text-align: right;\n    }\n</style>\n<table border=\"1\" class=\"dataframe\">\n  <thead>\n    <tr style=\"text-align: right;\">\n      <th></th>\n      <th>Handset Manufacturer</th>\n      <th>handsets manufactured</th>\n    </tr>\n  </thead>\n  <tbody>\n    <tr>\n      <th>5</th>\n      <td>Apple</td>\n      <td>69124</td>\n    </tr>\n    <tr>\n      <th>103</th>\n      <td>Samsung</td>\n      <td>40839</td>\n    </tr>\n    <tr>\n      <th>52</th>\n      <td>Huawei</td>\n      <td>34423</td>\n    </tr>\n  </tbody>\n</table>\n</div>"
     },
     "metadata": {},
     "execution_count": 14
    }
   ],
   "source": [
    "#top 3 handset manufacturers\n",
    "df_handset_manf = pd.DataFrame({'handsets manufactured':missing_handled.groupby(['Handset Manufacturer'])['Bearer Id'].count()}).reset_index()\n",
    "df_handset_manf = df_handset_manf.sort_values(['handsets manufactured'],ascending=False)\n",
    "df_handset_manf.head(3)"
   ]
  },
  {
   "cell_type": "code",
   "execution_count": 45,
   "metadata": {},
   "outputs": [
    {
     "output_type": "stream",
     "name": "stdout",
     "text": [
      "0         False\n1         False\n2         False\n3          True\n4         False\n          ...  \n149996     True\n149997     True\n149998     True\n149999    False\n150000     True\nName: Handset Manufacturer, Length: 150001, dtype: bool\n0          True\n1          True\n2          True\n3         False\n4          True\n          ...  \n149996    False\n149997    False\n149998    False\n149999    False\n150000    False\nName: Handset Manufacturer, Length: 150001, dtype: bool\n0         False\n1         False\n2         False\n3         False\n4         False\n          ...  \n149996    False\n149997    False\n149998    False\n149999     True\n150000    False\nName: Handset Manufacturer, Length: 150001, dtype: bool\n"
     ]
    }
   ],
   "source": [
    "#top 5 handsets per top 3 handset manufacturer\n",
    "# df_hand = missing_handled.groupby(['Handset Manufacturer']).count().sort_values('Bearer Id',ascending=False).reset_index()['Handset Manufacturer'].head(3)\n",
    "# df_hand.iloc[:3]\n",
    "# for manufacturer in df_hand:\n",
    "#     print(missing_handled['Handset Manufacturer'] == manufacturer)\n",
    "# # there are \n",
    "# # df_hand.head(3)\n"
   ]
  },
  {
   "cell_type": "code",
   "execution_count": 26,
   "metadata": {},
   "outputs": [],
   "source": [
    "# Make a short interpretation and recommendation to marketing teams"
   ]
  },
  {
   "cell_type": "code",
   "execution_count": null,
   "metadata": {},
   "outputs": [],
   "source": []
  },
  {
   "cell_type": "code",
   "execution_count": 80,
   "metadata": {},
   "outputs": [],
   "source": [
    "\n",
    "def format_float(value):\n",
    "    return f'{value:,.2f}'\n",
    "\n",
    "def convert_ms_to_hrs(df,col_name):\n",
    "    hr = 3600000\n",
    "    df[col_name+\" in hrs\"] = df[col_name] / hr\n",
    "    \n",
    "    return df\n",
    "\n",
    "\n",
    "def find_agg(df:pd.DataFrame, agg_column:str, wanted_col:str,agg_metric:str, col_name:str, top:int, order=False )->pd.DataFrame:\n",
    "    \n",
    "    new_df = df.groupby(agg_column)[wanted_col].agg(agg_metric).reset_index(name=col_name).\\\n",
    "    sort_values(by=col_name, ascending=order)[:top]\n",
    "    \n",
    "    return new_df\n",
    "\n",
    "def convert_bytes_to_megabytes(df, bytes_data):\n",
    "\n",
    "    megabyte = 1*10e+5\n",
    "    df[bytes_data] = df[bytes_data] / megabyte\n",
    "    \n",
    "    return df\n",
    "\n",
    "def find_total_volume(df):\n",
    "    app_names = ['Social Media', 'Google', 'Email', 'Youtube', 'Netflix', 'Gaming', 'Other']\n",
    "    for app_name in app_names:\n",
    "        df[app_name+' total volume (Bytes)'] = df[app_name+' DL (Bytes)']+df[app_name+' UL (Bytes)']\n",
    "    return df\n",
    "\n",
    "pd.options.display.float_format = format_float"
   ]
  },
  {
   "cell_type": "code",
   "execution_count": 64,
   "metadata": {},
   "outputs": [
    {
     "output_type": "execute_result",
     "data": {
      "text/plain": [
       "                         IMSI  Number of session per user\n",
       "54373  208,201,546,329,113.00                         571\n",
       "36781  208,201,402,778,052.00                          18\n",
       "15895  208,201,007,176,097.00                          17\n",
       "71849  208,201,715,944,176.00                          17\n",
       "88187  208,201,906,760,163.00                          16\n",
       "101057 208,202,100,881,019.00                          15\n",
       "25251  208,201,009,693,091.00                          15\n",
       "10550  208,200,853,859,127.00                          13\n",
       "2964   208,200,313,716,101.00                          12\n",
       "89687  208,201,907,543,212.00                          12"
      ],
      "text/html": "<div>\n<style scoped>\n    .dataframe tbody tr th:only-of-type {\n        vertical-align: middle;\n    }\n\n    .dataframe tbody tr th {\n        vertical-align: top;\n    }\n\n    .dataframe thead th {\n        text-align: right;\n    }\n</style>\n<table border=\"1\" class=\"dataframe\">\n  <thead>\n    <tr style=\"text-align: right;\">\n      <th></th>\n      <th>IMSI</th>\n      <th>Number of session per user</th>\n    </tr>\n  </thead>\n  <tbody>\n    <tr>\n      <th>54373</th>\n      <td>208,201,546,329,113.00</td>\n      <td>571</td>\n    </tr>\n    <tr>\n      <th>36781</th>\n      <td>208,201,402,778,052.00</td>\n      <td>18</td>\n    </tr>\n    <tr>\n      <th>15895</th>\n      <td>208,201,007,176,097.00</td>\n      <td>17</td>\n    </tr>\n    <tr>\n      <th>71849</th>\n      <td>208,201,715,944,176.00</td>\n      <td>17</td>\n    </tr>\n    <tr>\n      <th>88187</th>\n      <td>208,201,906,760,163.00</td>\n      <td>16</td>\n    </tr>\n    <tr>\n      <th>101057</th>\n      <td>208,202,100,881,019.00</td>\n      <td>15</td>\n    </tr>\n    <tr>\n      <th>25251</th>\n      <td>208,201,009,693,091.00</td>\n      <td>15</td>\n    </tr>\n    <tr>\n      <th>10550</th>\n      <td>208,200,853,859,127.00</td>\n      <td>13</td>\n    </tr>\n    <tr>\n      <th>2964</th>\n      <td>208,200,313,716,101.00</td>\n      <td>12</td>\n    </tr>\n    <tr>\n      <th>89687</th>\n      <td>208,201,907,543,212.00</td>\n      <td>12</td>\n    </tr>\n  </tbody>\n</table>\n</div>"
     },
     "metadata": {},
     "execution_count": 64
    }
   ],
   "source": [
    "# f.groupby(agg_column)[agg_column]\n",
    "no_sessions = find_agg(missing_handled,'IMSI' ,'Bearer Id', 'count', \"Number of session per user\", 10, order=False )\n",
    "no_sessions"
   ]
  },
  {
   "cell_type": "code",
   "execution_count": 65,
   "metadata": {},
   "outputs": [
    {
     "output_type": "execute_result",
     "data": {
      "text/plain": [
       "                         IMSI  Duration of session per user  \\\n",
       "54373  208,201,546,329,113.00                 37,677,884.00   \n",
       "15895  208,201,007,176,097.00                 18,553,754.00   \n",
       "71849  208,201,715,944,176.00                  9,966,898.00   \n",
       "101057 208,202,100,881,019.00                  9,279,434.00   \n",
       "36781  208,201,402,778,052.00                  8,791,927.00   \n",
       "10550  208,200,853,859,127.00                  8,744,914.00   \n",
       "21815  208,201,009,074,192.00                  6,614,270.00   \n",
       "37182  208,201,446,042,143.00                  6,288,730.00   \n",
       "89687  208,201,907,543,212.00                  6,287,761.00   \n",
       "34176  208,201,402,435,130.00                  5,649,882.00   \n",
       "\n",
       "        Duration of session per user in hrs  \n",
       "54373                                 10.47  \n",
       "15895                                  5.15  \n",
       "71849                                  2.77  \n",
       "101057                                 2.58  \n",
       "36781                                  2.44  \n",
       "10550                                  2.43  \n",
       "21815                                  1.84  \n",
       "37182                                  1.75  \n",
       "89687                                  1.75  \n",
       "34176                                  1.57  "
      ],
      "text/html": "<div>\n<style scoped>\n    .dataframe tbody tr th:only-of-type {\n        vertical-align: middle;\n    }\n\n    .dataframe tbody tr th {\n        vertical-align: top;\n    }\n\n    .dataframe thead th {\n        text-align: right;\n    }\n</style>\n<table border=\"1\" class=\"dataframe\">\n  <thead>\n    <tr style=\"text-align: right;\">\n      <th></th>\n      <th>IMSI</th>\n      <th>Duration of session per user</th>\n      <th>Duration of session per user in hrs</th>\n    </tr>\n  </thead>\n  <tbody>\n    <tr>\n      <th>54373</th>\n      <td>208,201,546,329,113.00</td>\n      <td>37,677,884.00</td>\n      <td>10.47</td>\n    </tr>\n    <tr>\n      <th>15895</th>\n      <td>208,201,007,176,097.00</td>\n      <td>18,553,754.00</td>\n      <td>5.15</td>\n    </tr>\n    <tr>\n      <th>71849</th>\n      <td>208,201,715,944,176.00</td>\n      <td>9,966,898.00</td>\n      <td>2.77</td>\n    </tr>\n    <tr>\n      <th>101057</th>\n      <td>208,202,100,881,019.00</td>\n      <td>9,279,434.00</td>\n      <td>2.58</td>\n    </tr>\n    <tr>\n      <th>36781</th>\n      <td>208,201,402,778,052.00</td>\n      <td>8,791,927.00</td>\n      <td>2.44</td>\n    </tr>\n    <tr>\n      <th>10550</th>\n      <td>208,200,853,859,127.00</td>\n      <td>8,744,914.00</td>\n      <td>2.43</td>\n    </tr>\n    <tr>\n      <th>21815</th>\n      <td>208,201,009,074,192.00</td>\n      <td>6,614,270.00</td>\n      <td>1.84</td>\n    </tr>\n    <tr>\n      <th>37182</th>\n      <td>208,201,446,042,143.00</td>\n      <td>6,288,730.00</td>\n      <td>1.75</td>\n    </tr>\n    <tr>\n      <th>89687</th>\n      <td>208,201,907,543,212.00</td>\n      <td>6,287,761.00</td>\n      <td>1.75</td>\n    </tr>\n    <tr>\n      <th>34176</th>\n      <td>208,201,402,435,130.00</td>\n      <td>5,649,882.00</td>\n      <td>1.57</td>\n    </tr>\n  </tbody>\n</table>\n</div>"
     },
     "metadata": {},
     "execution_count": 65
    }
   ],
   "source": [
    "# (df:pd.DataFrame, agg_column:str, agg_metric:str, col_name:str, top:int, order=False )\n",
    "dur_sessions = find_agg(missing_handled,'IMSI' ,'Dur. (ms)', 'sum', \"Duration of session per user\", 10, order=False )\n",
    "convert_ms_to_hrs(dur_sessions,'Duration of session per user')"
   ]
  },
  {
   "cell_type": "code",
   "execution_count": 23,
   "metadata": {},
   "outputs": [
    {
     "output_type": "execute_result",
     "data": {
      "text/plain": [
       "                         IMSI  total DL(Bytes) per user\n",
       "54373  208,201,546,329,113.00        259,175,709,638.50\n",
       "71849  208,201,715,944,176.00          8,156,743,493.00\n",
       "101057 208,202,100,881,019.00          7,811,295,382.00\n",
       "15895  208,201,007,176,097.00          7,770,043,342.00\n",
       "25251  208,201,009,693,091.00          7,309,541,816.00\n",
       "36781  208,201,402,778,052.00          7,301,516,540.00\n",
       "88187  208,201,906,760,163.00          7,081,602,462.00\n",
       "35405  208,201,402,604,136.00          6,903,439,962.00\n",
       "2964   208,200,313,716,101.00          6,610,851,624.00\n",
       "62320  208,201,714,300,272.00          6,400,773,755.00"
      ],
      "text/html": "<div>\n<style scoped>\n    .dataframe tbody tr th:only-of-type {\n        vertical-align: middle;\n    }\n\n    .dataframe tbody tr th {\n        vertical-align: top;\n    }\n\n    .dataframe thead th {\n        text-align: right;\n    }\n</style>\n<table border=\"1\" class=\"dataframe\">\n  <thead>\n    <tr style=\"text-align: right;\">\n      <th></th>\n      <th>IMSI</th>\n      <th>total DL(Bytes) per user</th>\n    </tr>\n  </thead>\n  <tbody>\n    <tr>\n      <th>54373</th>\n      <td>208,201,546,329,113.00</td>\n      <td>259,175,709,638.50</td>\n    </tr>\n    <tr>\n      <th>71849</th>\n      <td>208,201,715,944,176.00</td>\n      <td>8,156,743,493.00</td>\n    </tr>\n    <tr>\n      <th>101057</th>\n      <td>208,202,100,881,019.00</td>\n      <td>7,811,295,382.00</td>\n    </tr>\n    <tr>\n      <th>15895</th>\n      <td>208,201,007,176,097.00</td>\n      <td>7,770,043,342.00</td>\n    </tr>\n    <tr>\n      <th>25251</th>\n      <td>208,201,009,693,091.00</td>\n      <td>7,309,541,816.00</td>\n    </tr>\n    <tr>\n      <th>36781</th>\n      <td>208,201,402,778,052.00</td>\n      <td>7,301,516,540.00</td>\n    </tr>\n    <tr>\n      <th>88187</th>\n      <td>208,201,906,760,163.00</td>\n      <td>7,081,602,462.00</td>\n    </tr>\n    <tr>\n      <th>35405</th>\n      <td>208,201,402,604,136.00</td>\n      <td>6,903,439,962.00</td>\n    </tr>\n    <tr>\n      <th>2964</th>\n      <td>208,200,313,716,101.00</td>\n      <td>6,610,851,624.00</td>\n    </tr>\n    <tr>\n      <th>62320</th>\n      <td>208,201,714,300,272.00</td>\n      <td>6,400,773,755.00</td>\n    </tr>\n  </tbody>\n</table>\n</div>"
     },
     "metadata": {},
     "execution_count": 23
    }
   ],
   "source": [
    "find_agg(missing_handled,'IMSI','Total DL (Bytes)' , 'sum', \"total DL(Bytes) per user\", 10, order=False )"
   ]
  },
  {
   "cell_type": "code",
   "execution_count": 46,
   "metadata": {},
   "outputs": [
    {
     "output_type": "execute_result",
     "data": {
      "text/plain": [
       "                         IMSI  total DL(Bytes) per user\n",
       "54373  208,201,546,329,113.00         23,579,659,461.00\n",
       "15895  208,201,007,176,097.00            729,577,380.00\n",
       "101057 208,202,100,881,019.00            703,478,581.00\n",
       "71849  208,201,715,944,176.00            689,483,001.00\n",
       "36781  208,201,402,778,052.00            669,650,721.00\n",
       "88187  208,201,906,760,163.00            624,260,321.00\n",
       "25251  208,201,009,693,091.00            581,568,792.00\n",
       "10550  208,200,853,859,127.00            566,326,364.00\n",
       "49823  208,201,545,274,157.00            530,343,105.00\n",
       "2964   208,200,313,716,101.00            521,518,890.00"
      ],
      "text/html": "<div>\n<style scoped>\n    .dataframe tbody tr th:only-of-type {\n        vertical-align: middle;\n    }\n\n    .dataframe tbody tr th {\n        vertical-align: top;\n    }\n\n    .dataframe thead th {\n        text-align: right;\n    }\n</style>\n<table border=\"1\" class=\"dataframe\">\n  <thead>\n    <tr style=\"text-align: right;\">\n      <th></th>\n      <th>IMSI</th>\n      <th>total DL(Bytes) per user</th>\n    </tr>\n  </thead>\n  <tbody>\n    <tr>\n      <th>54373</th>\n      <td>208,201,546,329,113.00</td>\n      <td>23,579,659,461.00</td>\n    </tr>\n    <tr>\n      <th>15895</th>\n      <td>208,201,007,176,097.00</td>\n      <td>729,577,380.00</td>\n    </tr>\n    <tr>\n      <th>101057</th>\n      <td>208,202,100,881,019.00</td>\n      <td>703,478,581.00</td>\n    </tr>\n    <tr>\n      <th>71849</th>\n      <td>208,201,715,944,176.00</td>\n      <td>689,483,001.00</td>\n    </tr>\n    <tr>\n      <th>36781</th>\n      <td>208,201,402,778,052.00</td>\n      <td>669,650,721.00</td>\n    </tr>\n    <tr>\n      <th>88187</th>\n      <td>208,201,906,760,163.00</td>\n      <td>624,260,321.00</td>\n    </tr>\n    <tr>\n      <th>25251</th>\n      <td>208,201,009,693,091.00</td>\n      <td>581,568,792.00</td>\n    </tr>\n    <tr>\n      <th>10550</th>\n      <td>208,200,853,859,127.00</td>\n      <td>566,326,364.00</td>\n    </tr>\n    <tr>\n      <th>49823</th>\n      <td>208,201,545,274,157.00</td>\n      <td>530,343,105.00</td>\n    </tr>\n    <tr>\n      <th>2964</th>\n      <td>208,200,313,716,101.00</td>\n      <td>521,518,890.00</td>\n    </tr>\n  </tbody>\n</table>\n</div>"
     },
     "metadata": {},
     "execution_count": 46
    }
   ],
   "source": [
    "find_agg(missing_handled,'IMSI','Total UL (Bytes)' , 'sum', \"total UL(Bytes) per user\", 10, order=False )"
   ]
  },
  {
   "cell_type": "code",
   "execution_count": 73,
   "metadata": {},
   "outputs": [
    {
     "output_type": "execute_result",
     "data": {
      "text/plain": [
       "                      Bearer Id            Start  Start ms              End  \\\n",
       "0 13,114,483,460,844,900,352.00   4/4/2019 12:01    770.00  4/25/2019 14:35   \n",
       "1 13,114,483,482,878,900,224.00   4/9/2019 13:04    235.00   4/25/2019 8:15   \n",
       "2 13,114,483,484,080,500,736.00   4/9/2019 17:42      1.00  4/25/2019 11:58   \n",
       "3 13,114,483,485,442,799,616.00   4/10/2019 0:31    486.00   4/25/2019 7:36   \n",
       "4 13,114,483,499,480,700,928.00  4/12/2019 20:10    565.00  4/25/2019 10:40   \n",
       "5 13,114,483,499,779,198,976.00  4/12/2019 21:37    439.00   4/25/2019 8:08   \n",
       "6 13,114,483,501,243,799,552.00   4/13/2019 8:41    612.00   4/25/2019 8:16   \n",
       "7 13,042,425,910,865,399,808.00   4/14/2019 2:11    592.00   4/25/2019 2:26   \n",
       "8 13,114,483,506,432,499,712.00  4/14/2019 12:48    121.00  4/25/2019 10:22   \n",
       "9 13,042,425,914,669,299,712.00   4/15/2019 0:32      0.00   4/25/2019 0:40   \n",
       "\n",
       "   End ms    Dur. (ms)                   IMSI     MSISDN/Number  \\\n",
       "0  662.00 1,823,652.00 208,201,448,079,117.00 33,664,962,239.00   \n",
       "1  606.00 1,365,104.00 208,201,909,211,140.00 33,681,854,413.00   \n",
       "2  652.00 1,361,762.00 208,200,314,458,056.00 33,760,627,129.00   \n",
       "3  171.00 1,321,509.00 208,201,402,342,131.00 33,750,343,200.00   \n",
       "4  954.00 1,089,009.00 208,201,401,415,120.00 33,699,795,932.00   \n",
       "5  553.00 1,074,638.00 208,201,402,670,191.00 33,668,185,951.00   \n",
       "6  168.00 1,035,261.00 208,201,448,341,047.00 33,665,368,271.00   \n",
       "7  512.00   951,292.00 208,201,009,069,207.00 33,763,490,140.00   \n",
       "8  960.00   941,634.00 208,201,448,324,028.00 33,698,743,617.00   \n",
       "9  284.00   864,482.00 208,200,314,385,130.00 33,659,219,748.00   \n",
       "\n",
       "                   IMEI     Last Location Name  ...  Netflix total volume  \\\n",
       "0 35,521,209,507,511.00  9.16456699548519E+015  ...         17,855,187.00   \n",
       "1 35,794,009,006,359.00                L77566A  ...         35,565,545.00   \n",
       "2 35,281,510,359,387.00                D42335A  ...         23,751,202.00   \n",
       "3 35,356,610,164,913.00                T21824A  ...         15,092,588.00   \n",
       "4 35,407,009,745,539.00                D88865A  ...         17,539,799.00   \n",
       "5 35,298,410,295,700.00                T89132C  ...         13,881,809.00   \n",
       "6 86,762,704,322,800.00  9.16456701058919E+015  ...         31,212,766.00   \n",
       "7 86,546,404,964,017.00   CELL_208_20_520025_1  ...         18,933,702.00   \n",
       "8 35,562,409,696,153.00                T42084A  ...         19,054,441.00   \n",
       "9 35,573,109,931,422.00                L20434C  ...         13,185,350.00   \n",
       "\n",
       "   Gaming total volume  Other total volume  Social Media total volume (Bytes)  \\\n",
       "0       292,426,453.00      180,558,843.00                       1,570,185.00   \n",
       "1       609,920,783.00      541,959,383.00                       1,933,278.00   \n",
       "2       229,980,251.00      414,908,351.00                       1,726,277.00   \n",
       "3       810,387,875.00      761,837,216.00                         657,493.00   \n",
       "4       531,237,049.00      564,619,822.00                         912,788.00   \n",
       "5       723,461,512.00      659,414,334.00                       3,200,014.00   \n",
       "6        58,881,157.00      814,303,325.00                       1,624,991.00   \n",
       "7       765,055,811.00      545,316,477.00                       3,161,403.00   \n",
       "8       828,219,634.00      187,669,517.00                         372,625.00   \n",
       "9       812,946,425.00       77,671,250.00                       1,585,413.00   \n",
       "\n",
       "   Google total volume (Bytes)  Email total volume (Bytes)  \\\n",
       "0                 2,905,912.00                3,701,304.00   \n",
       "1                 4,414,096.00                  937,385.00   \n",
       "2                10,229,119.00                3,363,124.00   \n",
       "3                11,811,761.00                2,070,983.00   \n",
       "4                 7,748,843.00                2,110,349.00   \n",
       "5                12,934,133.00                2,902,410.00   \n",
       "6                 4,906,872.00                2,090,979.00   \n",
       "7                 3,872,713.00                3,500,104.00   \n",
       "8                 8,902,099.00                3,380,069.00   \n",
       "9                 8,778,341.00                  766,046.00   \n",
       "\n",
       "   Youtube total volume (Bytes)  Netflix total volume (Bytes)  \\\n",
       "0                 18,355,943.00                 17,855,187.00   \n",
       "1                 39,359,124.00                 35,565,545.00   \n",
       "2                 34,425,237.00                 23,751,202.00   \n",
       "3                 36,534,765.00                 15,092,588.00   \n",
       "4                 34,222,253.00                 17,539,799.00   \n",
       "5                 23,944,031.00                 13,881,809.00   \n",
       "6                  9,120,760.00                 31,212,766.00   \n",
       "7                 31,924,969.00                 18,933,702.00   \n",
       "8                 29,297,508.00                 19,054,441.00   \n",
       "9                 22,911,539.00                 13,185,350.00   \n",
       "\n",
       "   Gaming total volume (Bytes)  Other total volume (Bytes)  \n",
       "0               292,426,453.00              180,558,843.00  \n",
       "1               609,920,783.00              541,959,383.00  \n",
       "2               229,980,251.00              414,908,351.00  \n",
       "3               810,387,875.00              761,837,216.00  \n",
       "4               531,237,049.00              564,619,822.00  \n",
       "5               723,461,512.00              659,414,334.00  \n",
       "6                58,881,157.00              814,303,325.00  \n",
       "7               765,055,811.00              545,316,477.00  \n",
       "8               828,219,634.00              187,669,517.00  \n",
       "9               812,946,425.00               77,671,250.00  \n",
       "\n",
       "[10 rows x 59 columns]"
      ],
      "text/html": "<div>\n<style scoped>\n    .dataframe tbody tr th:only-of-type {\n        vertical-align: middle;\n    }\n\n    .dataframe tbody tr th {\n        vertical-align: top;\n    }\n\n    .dataframe thead th {\n        text-align: right;\n    }\n</style>\n<table border=\"1\" class=\"dataframe\">\n  <thead>\n    <tr style=\"text-align: right;\">\n      <th></th>\n      <th>Bearer Id</th>\n      <th>Start</th>\n      <th>Start ms</th>\n      <th>End</th>\n      <th>End ms</th>\n      <th>Dur. (ms)</th>\n      <th>IMSI</th>\n      <th>MSISDN/Number</th>\n      <th>IMEI</th>\n      <th>Last Location Name</th>\n      <th>...</th>\n      <th>Netflix total volume</th>\n      <th>Gaming total volume</th>\n      <th>Other total volume</th>\n      <th>Social Media total volume (Bytes)</th>\n      <th>Google total volume (Bytes)</th>\n      <th>Email total volume (Bytes)</th>\n      <th>Youtube total volume (Bytes)</th>\n      <th>Netflix total volume (Bytes)</th>\n      <th>Gaming total volume (Bytes)</th>\n      <th>Other total volume (Bytes)</th>\n    </tr>\n  </thead>\n  <tbody>\n    <tr>\n      <th>0</th>\n      <td>13,114,483,460,844,900,352.00</td>\n      <td>4/4/2019 12:01</td>\n      <td>770.00</td>\n      <td>4/25/2019 14:35</td>\n      <td>662.00</td>\n      <td>1,823,652.00</td>\n      <td>208,201,448,079,117.00</td>\n      <td>33,664,962,239.00</td>\n      <td>35,521,209,507,511.00</td>\n      <td>9.16456699548519E+015</td>\n      <td>...</td>\n      <td>17,855,187.00</td>\n      <td>292,426,453.00</td>\n      <td>180,558,843.00</td>\n      <td>1,570,185.00</td>\n      <td>2,905,912.00</td>\n      <td>3,701,304.00</td>\n      <td>18,355,943.00</td>\n      <td>17,855,187.00</td>\n      <td>292,426,453.00</td>\n      <td>180,558,843.00</td>\n    </tr>\n    <tr>\n      <th>1</th>\n      <td>13,114,483,482,878,900,224.00</td>\n      <td>4/9/2019 13:04</td>\n      <td>235.00</td>\n      <td>4/25/2019 8:15</td>\n      <td>606.00</td>\n      <td>1,365,104.00</td>\n      <td>208,201,909,211,140.00</td>\n      <td>33,681,854,413.00</td>\n      <td>35,794,009,006,359.00</td>\n      <td>L77566A</td>\n      <td>...</td>\n      <td>35,565,545.00</td>\n      <td>609,920,783.00</td>\n      <td>541,959,383.00</td>\n      <td>1,933,278.00</td>\n      <td>4,414,096.00</td>\n      <td>937,385.00</td>\n      <td>39,359,124.00</td>\n      <td>35,565,545.00</td>\n      <td>609,920,783.00</td>\n      <td>541,959,383.00</td>\n    </tr>\n    <tr>\n      <th>2</th>\n      <td>13,114,483,484,080,500,736.00</td>\n      <td>4/9/2019 17:42</td>\n      <td>1.00</td>\n      <td>4/25/2019 11:58</td>\n      <td>652.00</td>\n      <td>1,361,762.00</td>\n      <td>208,200,314,458,056.00</td>\n      <td>33,760,627,129.00</td>\n      <td>35,281,510,359,387.00</td>\n      <td>D42335A</td>\n      <td>...</td>\n      <td>23,751,202.00</td>\n      <td>229,980,251.00</td>\n      <td>414,908,351.00</td>\n      <td>1,726,277.00</td>\n      <td>10,229,119.00</td>\n      <td>3,363,124.00</td>\n      <td>34,425,237.00</td>\n      <td>23,751,202.00</td>\n      <td>229,980,251.00</td>\n      <td>414,908,351.00</td>\n    </tr>\n    <tr>\n      <th>3</th>\n      <td>13,114,483,485,442,799,616.00</td>\n      <td>4/10/2019 0:31</td>\n      <td>486.00</td>\n      <td>4/25/2019 7:36</td>\n      <td>171.00</td>\n      <td>1,321,509.00</td>\n      <td>208,201,402,342,131.00</td>\n      <td>33,750,343,200.00</td>\n      <td>35,356,610,164,913.00</td>\n      <td>T21824A</td>\n      <td>...</td>\n      <td>15,092,588.00</td>\n      <td>810,387,875.00</td>\n      <td>761,837,216.00</td>\n      <td>657,493.00</td>\n      <td>11,811,761.00</td>\n      <td>2,070,983.00</td>\n      <td>36,534,765.00</td>\n      <td>15,092,588.00</td>\n      <td>810,387,875.00</td>\n      <td>761,837,216.00</td>\n    </tr>\n    <tr>\n      <th>4</th>\n      <td>13,114,483,499,480,700,928.00</td>\n      <td>4/12/2019 20:10</td>\n      <td>565.00</td>\n      <td>4/25/2019 10:40</td>\n      <td>954.00</td>\n      <td>1,089,009.00</td>\n      <td>208,201,401,415,120.00</td>\n      <td>33,699,795,932.00</td>\n      <td>35,407,009,745,539.00</td>\n      <td>D88865A</td>\n      <td>...</td>\n      <td>17,539,799.00</td>\n      <td>531,237,049.00</td>\n      <td>564,619,822.00</td>\n      <td>912,788.00</td>\n      <td>7,748,843.00</td>\n      <td>2,110,349.00</td>\n      <td>34,222,253.00</td>\n      <td>17,539,799.00</td>\n      <td>531,237,049.00</td>\n      <td>564,619,822.00</td>\n    </tr>\n    <tr>\n      <th>5</th>\n      <td>13,114,483,499,779,198,976.00</td>\n      <td>4/12/2019 21:37</td>\n      <td>439.00</td>\n      <td>4/25/2019 8:08</td>\n      <td>553.00</td>\n      <td>1,074,638.00</td>\n      <td>208,201,402,670,191.00</td>\n      <td>33,668,185,951.00</td>\n      <td>35,298,410,295,700.00</td>\n      <td>T89132C</td>\n      <td>...</td>\n      <td>13,881,809.00</td>\n      <td>723,461,512.00</td>\n      <td>659,414,334.00</td>\n      <td>3,200,014.00</td>\n      <td>12,934,133.00</td>\n      <td>2,902,410.00</td>\n      <td>23,944,031.00</td>\n      <td>13,881,809.00</td>\n      <td>723,461,512.00</td>\n      <td>659,414,334.00</td>\n    </tr>\n    <tr>\n      <th>6</th>\n      <td>13,114,483,501,243,799,552.00</td>\n      <td>4/13/2019 8:41</td>\n      <td>612.00</td>\n      <td>4/25/2019 8:16</td>\n      <td>168.00</td>\n      <td>1,035,261.00</td>\n      <td>208,201,448,341,047.00</td>\n      <td>33,665,368,271.00</td>\n      <td>86,762,704,322,800.00</td>\n      <td>9.16456701058919E+015</td>\n      <td>...</td>\n      <td>31,212,766.00</td>\n      <td>58,881,157.00</td>\n      <td>814,303,325.00</td>\n      <td>1,624,991.00</td>\n      <td>4,906,872.00</td>\n      <td>2,090,979.00</td>\n      <td>9,120,760.00</td>\n      <td>31,212,766.00</td>\n      <td>58,881,157.00</td>\n      <td>814,303,325.00</td>\n    </tr>\n    <tr>\n      <th>7</th>\n      <td>13,042,425,910,865,399,808.00</td>\n      <td>4/14/2019 2:11</td>\n      <td>592.00</td>\n      <td>4/25/2019 2:26</td>\n      <td>512.00</td>\n      <td>951,292.00</td>\n      <td>208,201,009,069,207.00</td>\n      <td>33,763,490,140.00</td>\n      <td>86,546,404,964,017.00</td>\n      <td>CELL_208_20_520025_1</td>\n      <td>...</td>\n      <td>18,933,702.00</td>\n      <td>765,055,811.00</td>\n      <td>545,316,477.00</td>\n      <td>3,161,403.00</td>\n      <td>3,872,713.00</td>\n      <td>3,500,104.00</td>\n      <td>31,924,969.00</td>\n      <td>18,933,702.00</td>\n      <td>765,055,811.00</td>\n      <td>545,316,477.00</td>\n    </tr>\n    <tr>\n      <th>8</th>\n      <td>13,114,483,506,432,499,712.00</td>\n      <td>4/14/2019 12:48</td>\n      <td>121.00</td>\n      <td>4/25/2019 10:22</td>\n      <td>960.00</td>\n      <td>941,634.00</td>\n      <td>208,201,448,324,028.00</td>\n      <td>33,698,743,617.00</td>\n      <td>35,562,409,696,153.00</td>\n      <td>T42084A</td>\n      <td>...</td>\n      <td>19,054,441.00</td>\n      <td>828,219,634.00</td>\n      <td>187,669,517.00</td>\n      <td>372,625.00</td>\n      <td>8,902,099.00</td>\n      <td>3,380,069.00</td>\n      <td>29,297,508.00</td>\n      <td>19,054,441.00</td>\n      <td>828,219,634.00</td>\n      <td>187,669,517.00</td>\n    </tr>\n    <tr>\n      <th>9</th>\n      <td>13,042,425,914,669,299,712.00</td>\n      <td>4/15/2019 0:32</td>\n      <td>0.00</td>\n      <td>4/25/2019 0:40</td>\n      <td>284.00</td>\n      <td>864,482.00</td>\n      <td>208,200,314,385,130.00</td>\n      <td>33,659,219,748.00</td>\n      <td>35,573,109,931,422.00</td>\n      <td>L20434C</td>\n      <td>...</td>\n      <td>13,185,350.00</td>\n      <td>812,946,425.00</td>\n      <td>77,671,250.00</td>\n      <td>1,585,413.00</td>\n      <td>8,778,341.00</td>\n      <td>766,046.00</td>\n      <td>22,911,539.00</td>\n      <td>13,185,350.00</td>\n      <td>812,946,425.00</td>\n      <td>77,671,250.00</td>\n    </tr>\n  </tbody>\n</table>\n<p>10 rows × 59 columns</p>\n</div>"
     },
     "metadata": {},
     "execution_count": 73
    }
   ],
   "source": [
    "df_new = find_total_volume(missing_handled)\n",
    "df_new.head(10)"
   ]
  },
  {
   "cell_type": "code",
   "execution_count": 77,
   "metadata": {},
   "outputs": [],
   "source": [
    "app_names = ['Social Media', 'Google', 'Email', 'Youtube', 'Netflix', 'Gaming', 'Other']\n",
    "agg_df = [find_agg(missing_handled,'IMSI',app_name+' total volume (Bytes)' , 'sum', \"total volume(Bytes) of \"+app_name+\" user\", 10, order=False ) for app_name in app_names]"
   ]
  },
  {
   "cell_type": "code",
   "execution_count": 81,
   "metadata": {},
   "outputs": [
    {
     "output_type": "execute_result",
     "data": {
      "text/plain": [
       "                         IMSI  total volume(Bytes) of Social Media user\n",
       "54373  208,201,546,329,113.00                                  1,054.06\n",
       "36781  208,201,402,778,052.00                                     43.37\n",
       "101057 208,202,100,881,019.00                                     39.78\n",
       "88187  208,201,906,760,163.00                                     35.41\n",
       "71849  208,201,715,944,176.00                                     28.29\n",
       "15895  208,201,007,176,097.00                                     27.14\n",
       "10550  208,200,853,859,127.00                                     24.25\n",
       "73864  208,201,716,367,238.00                                     23.97\n",
       "81533  208,201,771,676,245.00                                     23.80\n",
       "89687  208,201,907,543,212.00                                     23.08"
      ],
      "text/html": "<div>\n<style scoped>\n    .dataframe tbody tr th:only-of-type {\n        vertical-align: middle;\n    }\n\n    .dataframe tbody tr th {\n        vertical-align: top;\n    }\n\n    .dataframe thead th {\n        text-align: right;\n    }\n</style>\n<table border=\"1\" class=\"dataframe\">\n  <thead>\n    <tr style=\"text-align: right;\">\n      <th></th>\n      <th>IMSI</th>\n      <th>total volume(Bytes) of Social Media user</th>\n    </tr>\n  </thead>\n  <tbody>\n    <tr>\n      <th>54373</th>\n      <td>208,201,546,329,113.00</td>\n      <td>1,054.06</td>\n    </tr>\n    <tr>\n      <th>36781</th>\n      <td>208,201,402,778,052.00</td>\n      <td>43.37</td>\n    </tr>\n    <tr>\n      <th>101057</th>\n      <td>208,202,100,881,019.00</td>\n      <td>39.78</td>\n    </tr>\n    <tr>\n      <th>88187</th>\n      <td>208,201,906,760,163.00</td>\n      <td>35.41</td>\n    </tr>\n    <tr>\n      <th>71849</th>\n      <td>208,201,715,944,176.00</td>\n      <td>28.29</td>\n    </tr>\n    <tr>\n      <th>15895</th>\n      <td>208,201,007,176,097.00</td>\n      <td>27.14</td>\n    </tr>\n    <tr>\n      <th>10550</th>\n      <td>208,200,853,859,127.00</td>\n      <td>24.25</td>\n    </tr>\n    <tr>\n      <th>73864</th>\n      <td>208,201,716,367,238.00</td>\n      <td>23.97</td>\n    </tr>\n    <tr>\n      <th>81533</th>\n      <td>208,201,771,676,245.00</td>\n      <td>23.80</td>\n    </tr>\n    <tr>\n      <th>89687</th>\n      <td>208,201,907,543,212.00</td>\n      <td>23.08</td>\n    </tr>\n  </tbody>\n</table>\n</div>"
     },
     "metadata": {},
     "execution_count": 81
    }
   ],
   "source": [
    "\n",
    "# convert_bytes_to_megabytes(agg_df[0], \"total volume(Bytes) of \"+app_names[0]+\" user\")"
   ]
  },
  {
   "cell_type": "code",
   "execution_count": null,
   "metadata": {},
   "outputs": [],
   "source": []
  }
 ]
}